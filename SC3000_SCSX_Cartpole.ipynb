{
  "nbformat": 4,
  "nbformat_minor": 0,
  "metadata": {
    "colab": {
      "provenance": [],
      "include_colab_link": true
    },
    "kernelspec": {
      "name": "python3",
      "display_name": "Python 3"
    },
    "language_info": {
      "name": "python"
    }
  },
  "cells": [
    {
      "cell_type": "markdown",
      "metadata": {
        "id": "view-in-github",
        "colab_type": "text"
      },
      "source": [
        "<a href=\"https://colab.research.google.com/github/adamsohjunior/SC3000-Artificial-Intelligence-/blob/main/SC3000_SCSX_Cartpole.ipynb\" target=\"_parent\"><img src=\"https://colab.research.google.com/assets/colab-badge.svg\" alt=\"Open In Colab\"/></a>"
      ]
    },
    {
      "cell_type": "markdown",
      "source": [
        "# Tutorial and Sample Code for Balancing a Pole on a Cart"
      ],
      "metadata": {
        "id": "ZauhjPSfX7pI"
      }
    },
    {
      "cell_type": "markdown",
      "source": [
        "## Installing dependencies:"
      ],
      "metadata": {
        "id": "UBiYOoesYMvr"
      }
    },
    {
      "cell_type": "code",
      "execution_count": null,
      "metadata": {
        "colab": {
          "base_uri": "https://localhost:8080/",
          "height": 745
        },
        "id": "PbgnVwZmX5uW",
        "outputId": "b21c83ab-ab8c-4029-b64d-a7dd9bf23551"
      },
      "outputs": [
        {
          "output_type": "stream",
          "name": "stdout",
          "text": [
            "Requirement already satisfied: gym[classic_control] in /usr/local/lib/python3.11/dist-packages (0.25.2)\n",
            "Requirement already satisfied: numpy>=1.18.0 in /usr/local/lib/python3.11/dist-packages (from gym[classic_control]) (1.26.4)\n",
            "Requirement already satisfied: cloudpickle>=1.2.0 in /usr/local/lib/python3.11/dist-packages (from gym[classic_control]) (3.1.1)\n",
            "Requirement already satisfied: gym_notices>=0.0.4 in /usr/local/lib/python3.11/dist-packages (from gym[classic_control]) (0.0.8)\n",
            "Collecting pygame==2.1.0 (from gym[classic_control])\n",
            "  Downloading pygame-2.1.0.tar.gz (5.8 MB)\n",
            "\u001b[2K     \u001b[90m━━━━━━━━━━━━━━━━━━━━━━━━━━━━━━━━━━━━━━━━\u001b[0m \u001b[32m5.8/5.8 MB\u001b[0m \u001b[31m35.6 MB/s\u001b[0m eta \u001b[36m0:00:00\u001b[0m\n",
            "\u001b[?25h  \u001b[1;31merror\u001b[0m: \u001b[1msubprocess-exited-with-error\u001b[0m\n",
            "  \n",
            "  \u001b[31m×\u001b[0m \u001b[32mpython setup.py egg_info\u001b[0m did not run successfully.\n",
            "  \u001b[31m│\u001b[0m exit code: \u001b[1;36m1\u001b[0m\n",
            "  \u001b[31m╰─>\u001b[0m See above for output.\n",
            "  \n",
            "  \u001b[1;35mnote\u001b[0m: This error originates from a subprocess, and is likely not a problem with pip.\n",
            "  Preparing metadata (setup.py) ... \u001b[?25l\u001b[?25herror\n",
            "\u001b[1;31merror\u001b[0m: \u001b[1mmetadata-generation-failed\u001b[0m\n",
            "\n",
            "\u001b[31m×\u001b[0m Encountered error while generating package metadata.\n",
            "\u001b[31m╰─>\u001b[0m See above for output.\n",
            "\n",
            "\u001b[1;35mnote\u001b[0m: This is an issue with the package mentioned above, not pip.\n",
            "\u001b[1;36mhint\u001b[0m: See above for details.\n",
            "Requirement already satisfied: setuptools in /usr/local/lib/python3.11/dist-packages (75.1.0)\n",
            "Collecting setuptools\n",
            "  Downloading setuptools-75.8.2-py3-none-any.whl.metadata (6.7 kB)\n",
            "Downloading setuptools-75.8.2-py3-none-any.whl (1.2 MB)\n",
            "\u001b[2K   \u001b[90m━━━━━━━━━━━━━━━━━━━━━━━━━━━━━━━━━━━━━━━━\u001b[0m \u001b[32m1.2/1.2 MB\u001b[0m \u001b[31m12.6 MB/s\u001b[0m eta \u001b[36m0:00:00\u001b[0m\n",
            "\u001b[?25hInstalling collected packages: setuptools\n",
            "  Attempting uninstall: setuptools\n",
            "    Found existing installation: setuptools 75.1.0\n",
            "    Uninstalling setuptools-75.1.0:\n",
            "      Successfully uninstalled setuptools-75.1.0\n",
            "\u001b[31mERROR: pip's dependency resolver does not currently take into account all the packages that are installed. This behaviour is the source of the following dependency conflicts.\n",
            "ipython 7.34.0 requires jedi>=0.16, which is not installed.\u001b[0m\u001b[31m\n",
            "\u001b[0mSuccessfully installed setuptools-75.8.2\n"
          ]
        },
        {
          "output_type": "display_data",
          "data": {
            "application/vnd.colab-display-data+json": {
              "pip_warning": {
                "packages": [
                  "_distutils_hack"
                ]
              },
              "id": "d36c056ca99345e0b6931fb07a1d5bfe"
            }
          },
          "metadata": {}
        },
        {
          "output_type": "stream",
          "name": "stdout",
          "text": [
            "^C\n"
          ]
        }
      ],
      "source": [
        "!apt-get install -y xvfb python-opengl > /dev/null 2>&1\n",
        "!pip install gym pyvirtualdisplay > /dev/null 2>&1\n",
        "!pip install gym pyvirtualdisplay > /dev/null 2>&1\n",
        "!apt-get install -y xvfb python-opengl ffmpeg > /dev/null 2>&1\n",
        "!pip install gym[classic_control]\n",
        "!apt-get update > /dev/null 2>&1\n",
        "!apt-get install cmake > /dev/null 2>&1\n",
        "!pip install --upgrade setuptools 2>&1\n",
        "!pip install ez_setup > /dev/null 2>&1"
      ]
    },
    {
      "cell_type": "code",
      "source": [
        "!apt-get update\n",
        "!apt-get install -y python3-pygame"
      ],
      "metadata": {
        "colab": {
          "base_uri": "https://localhost:8080/"
        },
        "id": "mtCGFrMIbdBY",
        "outputId": "973241dd-15b4-4599-c8d3-a3ccb5715199"
      },
      "execution_count": null,
      "outputs": [
        {
          "output_type": "stream",
          "name": "stdout",
          "text": [
            "\r0% [Working]\r            \rHit:1 http://security.ubuntu.com/ubuntu jammy-security InRelease\n",
            "\r0% [Waiting for headers] [Connecting to cloud.r-project.org (108.157.173.54)] [Connected to r2u.stat\r                                                                                                    \rHit:2 http://archive.ubuntu.com/ubuntu jammy InRelease\n",
            "\r                                                                                                    \rHit:3 http://archive.ubuntu.com/ubuntu jammy-updates InRelease\n",
            "Hit:4 http://archive.ubuntu.com/ubuntu jammy-backports InRelease\n",
            "Hit:5 https://cloud.r-project.org/bin/linux/ubuntu jammy-cran40/ InRelease\n",
            "Hit:6 https://developer.download.nvidia.com/compute/cuda/repos/ubuntu2204/x86_64  InRelease\n",
            "Hit:7 https://r2u.stat.illinois.edu/ubuntu jammy InRelease\n",
            "Hit:8 https://ppa.launchpadcontent.net/deadsnakes/ppa/ubuntu jammy InRelease\n",
            "Hit:9 https://ppa.launchpadcontent.net/graphics-drivers/ppa/ubuntu jammy InRelease\n",
            "Hit:10 https://ppa.launchpadcontent.net/ubuntugis/ppa/ubuntu jammy InRelease\n",
            "Reading package lists... Done\n",
            "W: Skipping acquire of configured file 'main/source/Sources' as repository 'https://r2u.stat.illinois.edu/ubuntu jammy InRelease' does not seem to provide it (sources.list entry misspelt?)\n",
            "Reading package lists... Done\n",
            "Building dependency tree... Done\n",
            "Reading state information... Done\n",
            "The following additional packages will be installed:\n",
            "  fonts-freefont-ttf libfluidsynth3 libinstpatch-1.0-2 libmodplug1 libopusfile0 libportmidi0\n",
            "  libsdl2-image-2.0-0 libsdl2-mixer-2.0-0 libsdl2-ttf-2.0-0 python3-numpy timgm6mb-soundfont\n",
            "Suggested packages:\n",
            "  python-numpy-doc python3-pytest python-pygame-doc timidity fluid-soundfont-gm\n",
            "The following NEW packages will be installed:\n",
            "  fonts-freefont-ttf libfluidsynth3 libinstpatch-1.0-2 libmodplug1 libopusfile0 libportmidi0\n",
            "  libsdl2-image-2.0-0 libsdl2-mixer-2.0-0 libsdl2-ttf-2.0-0 python3-numpy python3-pygame\n",
            "  timgm6mb-soundfont\n",
            "0 upgraded, 12 newly installed, 0 to remove and 32 not upgraded.\n",
            "Need to get 13.2 MB of archives.\n",
            "After this operation, 38.4 MB of additional disk space will be used.\n",
            "Get:1 http://archive.ubuntu.com/ubuntu jammy/main amd64 fonts-freefont-ttf all 20120503-10build1 [2,388 kB]\n",
            "Get:2 http://archive.ubuntu.com/ubuntu jammy/universe amd64 libinstpatch-1.0-2 amd64 1.1.6-1 [240 kB]\n",
            "Get:3 http://archive.ubuntu.com/ubuntu jammy/universe amd64 timgm6mb-soundfont all 1.3-5 [5,427 kB]\n",
            "Get:4 http://archive.ubuntu.com/ubuntu jammy/universe amd64 libfluidsynth3 amd64 2.2.5-1 [246 kB]\n",
            "Get:5 http://archive.ubuntu.com/ubuntu jammy/universe amd64 libmodplug1 amd64 1:0.8.9.0-3 [153 kB]\n",
            "Get:6 http://archive.ubuntu.com/ubuntu jammy/universe amd64 libopusfile0 amd64 0.9+20170913-1.1build1 [43.2 kB]\n",
            "Get:7 http://archive.ubuntu.com/ubuntu jammy/universe amd64 libportmidi0 amd64 1:217-6 [17.8 kB]\n",
            "Get:8 http://archive.ubuntu.com/ubuntu jammy/universe amd64 libsdl2-image-2.0-0 amd64 2.0.5+dfsg1-3build1 [70.4 kB]\n",
            "Get:9 http://archive.ubuntu.com/ubuntu jammy/universe amd64 libsdl2-mixer-2.0-0 amd64 2.0.4+dfsg1-4build1 [65.9 kB]\n",
            "Get:10 http://archive.ubuntu.com/ubuntu jammy/universe amd64 libsdl2-ttf-2.0-0 amd64 2.0.18+dfsg-2 [30.9 kB]\n",
            "Get:11 http://archive.ubuntu.com/ubuntu jammy-updates/main amd64 python3-numpy amd64 1:1.21.5-1ubuntu22.04.1 [3,467 kB]\n",
            "Get:12 http://archive.ubuntu.com/ubuntu jammy/universe amd64 python3-pygame amd64 2.1.2+dfsg-3 [1,089 kB]\n",
            "Fetched 13.2 MB in 0s (27.4 MB/s)\n",
            "Selecting previously unselected package fonts-freefont-ttf.\n",
            "(Reading database ... 124947 files and directories currently installed.)\n",
            "Preparing to unpack .../00-fonts-freefont-ttf_20120503-10build1_all.deb ...\n",
            "Unpacking fonts-freefont-ttf (20120503-10build1) ...\n",
            "Selecting previously unselected package libinstpatch-1.0-2:amd64.\n",
            "Preparing to unpack .../01-libinstpatch-1.0-2_1.1.6-1_amd64.deb ...\n",
            "Unpacking libinstpatch-1.0-2:amd64 (1.1.6-1) ...\n",
            "Selecting previously unselected package timgm6mb-soundfont.\n",
            "Preparing to unpack .../02-timgm6mb-soundfont_1.3-5_all.deb ...\n",
            "Unpacking timgm6mb-soundfont (1.3-5) ...\n",
            "Selecting previously unselected package libfluidsynth3:amd64.\n",
            "Preparing to unpack .../03-libfluidsynth3_2.2.5-1_amd64.deb ...\n",
            "Unpacking libfluidsynth3:amd64 (2.2.5-1) ...\n",
            "Selecting previously unselected package libmodplug1:amd64.\n",
            "Preparing to unpack .../04-libmodplug1_1%3a0.8.9.0-3_amd64.deb ...\n",
            "Unpacking libmodplug1:amd64 (1:0.8.9.0-3) ...\n",
            "Selecting previously unselected package libopusfile0.\n",
            "Preparing to unpack .../05-libopusfile0_0.9+20170913-1.1build1_amd64.deb ...\n",
            "Unpacking libopusfile0 (0.9+20170913-1.1build1) ...\n",
            "Selecting previously unselected package libportmidi0:amd64.\n",
            "Preparing to unpack .../06-libportmidi0_1%3a217-6_amd64.deb ...\n",
            "Unpacking libportmidi0:amd64 (1:217-6) ...\n",
            "Selecting previously unselected package libsdl2-image-2.0-0:amd64.\n",
            "Preparing to unpack .../07-libsdl2-image-2.0-0_2.0.5+dfsg1-3build1_amd64.deb ...\n",
            "Unpacking libsdl2-image-2.0-0:amd64 (2.0.5+dfsg1-3build1) ...\n",
            "Selecting previously unselected package libsdl2-mixer-2.0-0:amd64.\n",
            "Preparing to unpack .../08-libsdl2-mixer-2.0-0_2.0.4+dfsg1-4build1_amd64.deb ...\n",
            "Unpacking libsdl2-mixer-2.0-0:amd64 (2.0.4+dfsg1-4build1) ...\n",
            "Selecting previously unselected package libsdl2-ttf-2.0-0:amd64.\n",
            "Preparing to unpack .../09-libsdl2-ttf-2.0-0_2.0.18+dfsg-2_amd64.deb ...\n",
            "Unpacking libsdl2-ttf-2.0-0:amd64 (2.0.18+dfsg-2) ...\n",
            "Selecting previously unselected package python3-numpy.\n",
            "Preparing to unpack .../10-python3-numpy_1%3a1.21.5-1ubuntu22.04.1_amd64.deb ...\n",
            "Unpacking python3-numpy (1:1.21.5-1ubuntu22.04.1) ...\n",
            "Selecting previously unselected package python3-pygame.\n",
            "Preparing to unpack .../11-python3-pygame_2.1.2+dfsg-3_amd64.deb ...\n",
            "Unpacking python3-pygame (2.1.2+dfsg-3) ...\n",
            "Setting up libsdl2-image-2.0-0:amd64 (2.0.5+dfsg1-3build1) ...\n",
            "Setting up libmodplug1:amd64 (1:0.8.9.0-3) ...\n",
            "Setting up fonts-freefont-ttf (20120503-10build1) ...\n",
            "Setting up libportmidi0:amd64 (1:217-6) ...\n",
            "Setting up python3-numpy (1:1.21.5-1ubuntu22.04.1) ...\n",
            "Setting up libsdl2-ttf-2.0-0:amd64 (2.0.18+dfsg-2) ...\n",
            "Setting up timgm6mb-soundfont (1.3-5) ...\n",
            "update-alternatives: using /usr/share/sounds/sf2/TimGM6mb.sf2 to provide /usr/share/sounds/sf2/default-GM.sf2 (default-GM.sf2) in auto mode\n",
            "update-alternatives: using /usr/share/sounds/sf2/TimGM6mb.sf2 to provide /usr/share/sounds/sf3/default-GM.sf3 (default-GM.sf3) in auto mode\n",
            "Setting up libopusfile0 (0.9+20170913-1.1build1) ...\n",
            "Setting up libinstpatch-1.0-2:amd64 (1.1.6-1) ...\n",
            "Setting up libfluidsynth3:amd64 (2.2.5-1) ...\n",
            "Setting up libsdl2-mixer-2.0-0:amd64 (2.0.4+dfsg1-4build1) ...\n",
            "Setting up python3-pygame (2.1.2+dfsg-3) ...\n",
            "Processing triggers for libc-bin (2.35-0ubuntu3.8) ...\n",
            "/sbin/ldconfig.real: /usr/local/lib/libtbbbind_2_5.so.3 is not a symbolic link\n",
            "\n",
            "/sbin/ldconfig.real: /usr/local/lib/libtcm.so.1 is not a symbolic link\n",
            "\n",
            "/sbin/ldconfig.real: /usr/local/lib/libtbbbind.so.3 is not a symbolic link\n",
            "\n",
            "/sbin/ldconfig.real: /usr/local/lib/libtbbbind_2_0.so.3 is not a symbolic link\n",
            "\n",
            "/sbin/ldconfig.real: /usr/local/lib/libur_adapter_opencl.so.0 is not a symbolic link\n",
            "\n",
            "/sbin/ldconfig.real: /usr/local/lib/libtbbmalloc.so.2 is not a symbolic link\n",
            "\n",
            "/sbin/ldconfig.real: /usr/local/lib/libtbbmalloc_proxy.so.2 is not a symbolic link\n",
            "\n",
            "/sbin/ldconfig.real: /usr/local/lib/libhwloc.so.15 is not a symbolic link\n",
            "\n",
            "/sbin/ldconfig.real: /usr/local/lib/libtbb.so.12 is not a symbolic link\n",
            "\n",
            "/sbin/ldconfig.real: /usr/local/lib/libur_loader.so.0 is not a symbolic link\n",
            "\n",
            "/sbin/ldconfig.real: /usr/local/lib/libumf.so.0 is not a symbolic link\n",
            "\n",
            "/sbin/ldconfig.real: /usr/local/lib/libur_adapter_level_zero.so.0 is not a symbolic link\n",
            "\n",
            "/sbin/ldconfig.real: /usr/local/lib/libtcm_debug.so.1 is not a symbolic link\n",
            "\n",
            "Processing triggers for fontconfig (2.13.1-4.2ubuntu5) ...\n"
          ]
        }
      ]
    },
    {
      "cell_type": "markdown",
      "source": [
        "## Importing dependencies and define helper functions"
      ],
      "metadata": {
        "id": "RwKbYeTgbaTA"
      }
    },
    {
      "cell_type": "code",
      "source": [
        "import gym\n",
        "from gym import logger as gymlogger\n",
        "from gym.wrappers import RecordVideo\n",
        "gymlogger.set_level(40) #error only\n",
        "import tensorflow as tf\n",
        "import numpy as np\n",
        "import random\n",
        "import matplotlib\n",
        "import matplotlib.pyplot as plt\n",
        "%matplotlib inline\n",
        "import math\n",
        "import glob\n",
        "import io\n",
        "import base64\n",
        "from IPython.display import HTML\n",
        "from IPython import display as ipythondisplay\n",
        "\n",
        "def show_video():\n",
        "  mp4list = glob.glob('video/*.mp4')\n",
        "  if len(mp4list) > 0:\n",
        "    mp4 = mp4list[0]\n",
        "    video = io.open(mp4, 'r+b').read()\n",
        "    encoded = base64.b64encode(video)\n",
        "    ipythondisplay.display(HTML(data='''<video alt=\"test\" autoplay\n",
        "                loop controls style=\"height: 400px;\">\n",
        "                <source src=\"data:video/mp4;base64,{0}\" type=\"video/mp4\" />\n",
        "             </video>'''.format(encoded.decode('ascii'))))\n",
        "  else:\n",
        "    print(\"Could not find video\")"
      ],
      "metadata": {
        "id": "j6KpgCLGYWmj"
      },
      "execution_count": null,
      "outputs": []
    },
    {
      "cell_type": "markdown",
      "source": [
        "Set up extra dependencies to be used later in the code implementation below."
      ],
      "metadata": {
        "id": "zn8B5vEtfCdg"
      }
    },
    {
      "cell_type": "code",
      "source": [
        "import torch\n",
        "import torch.nn as nn\n",
        "import torch.optim as optim\n",
        "from collections import deque"
      ],
      "metadata": {
        "id": "83YfmV2DeJgB"
      },
      "execution_count": null,
      "outputs": []
    },
    {
      "cell_type": "markdown",
      "source": [
        "## Tutorial: Loading CartPole environment"
      ],
      "metadata": {
        "id": "ehbqP9CXbmo7"
      }
    },
    {
      "cell_type": "code",
      "source": [
        "env = gym.make(\"CartPole-v1\")"
      ],
      "metadata": {
        "id": "Go12dH4qbwBy"
      },
      "execution_count": null,
      "outputs": []
    },
    {
      "cell_type": "markdown",
      "source": [
        "We can check the action and observation space of this environment. Discrete(2) means that there are two valid discrete actions: 0 & 1."
      ],
      "metadata": {
        "id": "9XZ9g3xrcAXE"
      }
    },
    {
      "cell_type": "code",
      "source": [
        "print(env.action_space)"
      ],
      "metadata": {
        "colab": {
          "base_uri": "https://localhost:8080/"
        },
        "id": "ytxvVmLdcRyw",
        "outputId": "b98ede8c-bd06-4c1e-bbff-cfdd83b2264d"
      },
      "execution_count": null,
      "outputs": [
        {
          "output_type": "stream",
          "name": "stdout",
          "text": [
            "Discrete(2)\n"
          ]
        }
      ]
    },
    {
      "cell_type": "markdown",
      "source": [
        "The observation space is given below. The first two arrays define the min and max values of the 4 observed values, corresponding to cart position, velocity and pole angle, angular velocity."
      ],
      "metadata": {
        "id": "pVXGWi_Ncfg-"
      }
    },
    {
      "cell_type": "code",
      "source": [
        "print(env.observation_space)"
      ],
      "metadata": {
        "colab": {
          "base_uri": "https://localhost:8080/"
        },
        "id": "DyqHr9I5cdkX",
        "outputId": "f070de79-c76a-4ff3-e223-d1404d871b0d"
      },
      "execution_count": null,
      "outputs": [
        {
          "output_type": "stream",
          "name": "stdout",
          "text": [
            "Box([-4.8000002e+00 -3.4028235e+38 -4.1887903e-01 -3.4028235e+38], [4.8000002e+00 3.4028235e+38 4.1887903e-01 3.4028235e+38], (4,), float32)\n"
          ]
        }
      ]
    },
    {
      "cell_type": "markdown",
      "source": [
        "We call each round of the pole-balancing game an \"episode\". At the start of each episode, make sure the environment is reset, which chooses a random initial state, e.g., pole slightly tilted to the right. This initialization can be achieved by the code below, which returns the observation of the initial state."
      ],
      "metadata": {
        "id": "HFOdaU2Gdyg0"
      }
    },
    {
      "cell_type": "code",
      "source": [
        "observation = env.reset()\n",
        "print(\"Initial observations:\", observation)"
      ],
      "metadata": {
        "colab": {
          "base_uri": "https://localhost:8080/"
        },
        "id": "VMr6qAqxdOsm",
        "outputId": "3c564836-2127-4807-ed2d-23a4e68b4a84"
      },
      "execution_count": null,
      "outputs": [
        {
          "output_type": "stream",
          "name": "stdout",
          "text": [
            "Initial observations: [-0.03485824 -0.03901913 -0.04709134 -0.00538734]\n"
          ]
        }
      ]
    },
    {
      "cell_type": "markdown",
      "source": [
        "For the CartPole environment, there are two possible actions: 0 for pushing to the left and 1 for pushing to the right. For example, we can push the cart to the left using code below, which returns the new observation, the current reward, an indicator of whether the game ends, and some additional information (not used in this project). For CartPole, the game ends when the pole is significantly tilted or you manage to balance the pole for 500 steps. You get exactly 1 reward for each step before the game ends (i.e., max cumulative reward is 500)."
      ],
      "metadata": {
        "id": "qnG2QdfbeZrI"
      }
    },
    {
      "cell_type": "code",
      "source": [
        "observation, reward, done, info = env.step(0)\n",
        "print(\"New observations after choosing action 0:\", observation)\n",
        "print(\"Reward for this step:\", reward)\n",
        "print(\"Is this round done?\", done)"
      ],
      "metadata": {
        "colab": {
          "base_uri": "https://localhost:8080/"
        },
        "id": "MmfMDvyYdWGk",
        "outputId": "a50333eb-6387-4757-86ea-b38477bd74a0"
      },
      "execution_count": null,
      "outputs": [
        {
          "output_type": "stream",
          "name": "stdout",
          "text": [
            "New observations after choosing action 0: [-0.03563862 -0.2334352  -0.04719909  0.27207375]\n",
            "Reward for this step: 1.0\n",
            "Is this round done? False\n"
          ]
        },
        {
          "output_type": "stream",
          "name": "stderr",
          "text": [
            "/usr/local/lib/python3.11/dist-packages/gym/utils/passive_env_checker.py:241: DeprecationWarning: `np.bool8` is a deprecated alias for `np.bool_`.  (Deprecated NumPy 1.24)\n",
            "  if not isinstance(terminated, (bool, np.bool8)):\n"
          ]
        }
      ]
    },
    {
      "cell_type": "markdown",
      "source": [
        "Now we can play a full round of the game using a naive strategy (always choosing action 0), and show the cumulative reward in the round. Note that reward returned by env.step(*) corresponds to the reward for current step. So we have to accumulate the reward for each step. Clearly, the naive strategy performs poorly by surviving only a dozen of steps."
      ],
      "metadata": {
        "id": "tj0zCh59fhBb"
      }
    },
    {
      "cell_type": "code",
      "source": [
        "observation = env.reset()\n",
        "cumulative_reward = 0\n",
        "done = False\n",
        "while not done:\n",
        "    observation, reward, done, info = env.step(0)\n",
        "    cumulative_reward += reward\n",
        "print(\"Cumulative reward for this round:\", cumulative_reward)"
      ],
      "metadata": {
        "colab": {
          "base_uri": "https://localhost:8080/"
        },
        "id": "AVucQVRwf6Jm",
        "outputId": "8df17f83-9860-41f3-aaad-413f79b3c723"
      },
      "execution_count": null,
      "outputs": [
        {
          "output_type": "stream",
          "name": "stdout",
          "text": [
            "Cumulative reward for this round: 9.0\n"
          ]
        }
      ]
    },
    {
      "cell_type": "markdown",
      "source": [
        "## Task 1: Development of an RL agent"
      ],
      "metadata": {
        "id": "2oIzK9SzhlWN"
      }
    },
    {
      "cell_type": "markdown",
      "source": [
        "An example of a naive agent is given below, which randomly chooses an action regardless of the observation:"
      ],
      "metadata": {
        "id": "PUWZ6RyKOofz"
      }
    },
    {
      "cell_type": "markdown",
      "source": [],
      "metadata": {
        "id": "YlnDgBcwzAEz"
      }
    },
    {
      "cell_type": "code",
      "source": [
        "def rand_policy_agent(observation):\n",
        "    return random.randint(0, 1)"
      ],
      "metadata": {
        "id": "wEhXJSaYOrVL"
      },
      "execution_count": null,
      "outputs": []
    },
    {
      "cell_type": "markdown",
      "source": [
        "For the Reinforcement Learning (RL) agent, our team decides to go with **Deep Q-Network (DQN)** to balance the pole on the cart.\n",
        "\n",
        "1. First, let us define the *DQN Model*.\n",
        "*   We define a contructor method to create two hidden layers (fc1 and fc2) with 256 neurons each, followed by one output layer with action_size neurons.\n",
        "*   We create a forward method to define how data flows through the network.\n",
        "*   We applied *Rectified Linear Unit (ReLU)* activation function to introduce non-linearity, allowing the network to learn complex patterns.\n",
        "\n",
        "\n",
        "\n",
        "\n"
      ],
      "metadata": {
        "id": "qoObljNTfx-h"
      }
    },
    {
      "cell_type": "code",
      "source": [
        "class DQN(nn.Module):\n",
        "    def __init__(self, state_size, action_size):\n",
        "        super(DQN, self).__init__()\n",
        "        self.fc1 = nn.Linear(state_size, 256)  # First fully coonected layer\n",
        "        self.fc2 = nn.Linear(256, 256)          # Second fully connected layer\n",
        "        self.fc3 = nn.Linear(256, action_size)    # Output layer\n",
        "\n",
        "    def forward(self, x):\n",
        "        x = torch.relu(self.fc1(x)) #\n",
        "        x = torch.relu(self.fc2(x))\n",
        "        return self.fc3(x)"
      ],
      "metadata": {
        "id": "pGBWlUiXgV9R"
      },
      "execution_count": null,
      "outputs": []
    },
    {
      "cell_type": "markdown",
      "source": [
        "2. Next, we also define the Experience Replay Buffer. This will allow the agent to sample from these experiences randomly during training. This also help to break the correlation between consecutive experiences and stablilizes training."
      ],
      "metadata": {
        "id": "ZU2ro8JPgc14"
      }
    },
    {
      "cell_type": "code",
      "source": [
        "class ReplayBuffer:\n",
        "    def __init__(self, capacity):\n",
        "        self.buffer = deque(maxlen=capacity)  #automatically remove oldest experience if buffer is full\n",
        "\n",
        "    def push(self, state, action, reward, next_state, done):   #Add new experience tuple into the buffer\n",
        "        self.buffer.append((state, action, reward, next_state, done))\n",
        "\n",
        "    def sample(self, batch_size): #randomly sample a batch of experiences from the buffer\n",
        "        return random.sample(self.buffer, batch_size)\n",
        "\n",
        "    def __len__(self):\n",
        "        return len(self.buffer)"
      ],
      "metadata": {
        "id": "lrzbIZLsi4Kp"
      },
      "execution_count": null,
      "outputs": []
    },
    {
      "cell_type": "markdown",
      "source": [
        "3. Next, we will set up the hyperparameters and intializes the key components of the DQN algorithm."
      ],
      "metadata": {
        "id": "s3XIoBBrjdml"
      }
    },
    {
      "cell_type": "code",
      "source": [
        "state_size = env.observation_space.shape[0] #size of state space, i.e. 4\n",
        "print(state_size)\n",
        "action_size = env.action_space.n  #number of possible actions, i.e. 2 (left and right)\n",
        "print(action_size)\n",
        "batch_size = 132        # The number of experiences sampled from the replay buffer for each training step\n",
        "gamma = 0.99              # Discount factor for future reward\n",
        "epsilon_start = 1.0       # Initial exploration rate\n",
        "epsilon_end = 0.01        # Minimum exploration rate\n",
        "epsilon_decay = 0.995     # Control how quickly exploration decreases\n",
        "target_update = 10        # Frequency of updating the target network\n",
        "learning_rate = 0.00025    # Lower learning rate for stability\n",
        "\n",
        "policy_net = DQN(state_size, action_size)\n",
        "target_net = DQN(state_size, action_size)\n",
        "target_net.load_state_dict(policy_net.state_dict())\n",
        "optimizer = optim.Adam(policy_net.parameters(), lr=learning_rate)\n",
        "buffer = ReplayBuffer(50000)    # Replay buffer to store experiences (capacity = 50,000)\n",
        "epsilon = epsilon_start         # Initialize exploration rate to 1.0 (100% exploration)"
      ],
      "metadata": {
        "colab": {
          "base_uri": "https://localhost:8080/"
        },
        "id": "JzuANqPSju2j",
        "outputId": "a535d6e4-c0ea-43d2-bb51-c6df1640c6b6"
      },
      "execution_count": null,
      "outputs": [
        {
          "output_type": "stream",
          "name": "stdout",
          "text": [
            "4\n",
            "2\n"
          ]
        }
      ]
    },
    {
      "cell_type": "markdown",
      "source": [
        "4. We will load the saved model parameters (weights) if they exist.\n",
        "\n",
        "  Else, we would need to train the model first. (refer to Training Loop)"
      ],
      "metadata": {
        "id": "GaGL3gLrGrf2"
      }
    },
    {
      "cell_type": "code",
      "source": [
        "# Load the saved model weights (if they exist)\n",
        "try:\n",
        "    policy_net.load_state_dict(torch.load(\"cartpole_dqn_final.pth\"))\n",
        "    print(\"Loaded pre-trained model!\")\n",
        "except FileNotFoundError:\n",
        "    print(\"No pre-trained model found. Training a new model.\")"
      ],
      "metadata": {
        "colab": {
          "base_uri": "https://localhost:8080/"
        },
        "id": "p5YLB1lPGqIE",
        "outputId": "864df64d-5aec-4876-fc74-0ce537fdbfba"
      },
      "execution_count": null,
      "outputs": [
        {
          "output_type": "stream",
          "name": "stdout",
          "text": [
            "Loaded pre-trained model!\n"
          ]
        },
        {
          "output_type": "stream",
          "name": "stderr",
          "text": [
            "<ipython-input-77-2116596d19b0>:3: FutureWarning: You are using `torch.load` with `weights_only=False` (the current default value), which uses the default pickle module implicitly. It is possible to construct malicious pickle data which will execute arbitrary code during unpickling (See https://github.com/pytorch/pytorch/blob/main/SECURITY.md#untrusted-models for more details). In a future release, the default value for `weights_only` will be flipped to `True`. This limits the functions that could be executed during unpickling. Arbitrary objects will no longer be allowed to be loaded via this mode unless they are explicitly allowlisted by the user via `torch.serialization.add_safe_globals`. We recommend you start setting `weights_only=True` for any use case where you don't have full control of the loaded file. Please open an issue on GitHub for any issues related to this experimental feature.\n",
            "  policy_net.load_state_dict(torch.load(\"cartpole_dqn_final.pth\"))\n"
          ]
        }
      ]
    },
    {
      "cell_type": "markdown",
      "source": [
        "5. **Training Loop:** Once we finished the setup, we can train the agent now by interacting with the environment, collect experiences and update the neural network to improve its policy."
      ],
      "metadata": {
        "id": "e5f9Uk-B3lMx"
      }
    },
    {
      "cell_type": "code",
      "source": [
        "episode_rewards = []          # Store the total reward for each episode\n",
        "best_reward = -float('inf')  # Tracks the best reward achieved so far\n",
        "\n",
        "for episode in range(1000):   # Train for 100 episodes until the agent solves the environment\n",
        "    state = env.reset()\n",
        "    total_reward = 0\n",
        "    while True:\n",
        "        # Epsilon-greedy action\n",
        "        if random.random() < epsilon:\n",
        "            action = env.action_space.sample()\n",
        "        else:\n",
        "            with torch.no_grad():\n",
        "                q_values = policy_net(torch.FloatTensor(state))\n",
        "                action = q_values.argmax().item()\n",
        "\n",
        "        # Take action\n",
        "        next_state, reward, done, _ = env.step(action)\n",
        "        total_reward += reward\n",
        "        buffer.push(state, action, reward, next_state, done)\n",
        "\n",
        "        # Train with Double DQN\n",
        "        if len(buffer) >= batch_size:\n",
        "            transitions = buffer.sample(batch_size)\n",
        "            states, actions, rewards, next_states, dones = zip(*transitions)\n",
        "\n",
        "            states = torch.FloatTensor(states)\n",
        "            next_states = torch.FloatTensor(next_states)\n",
        "\n",
        "            # Double DQN: Use policy net for action selection, target net for evaluation\n",
        "            current_q = policy_net(states).gather(1, torch.LongTensor(actions).unsqueeze(1))\n",
        "            next_actions = policy_net(next_states).argmax(1, keepdim=True)\n",
        "            next_q = target_net(next_states).gather(1, next_actions).detach()\n",
        "\n",
        "            target_q = torch.FloatTensor(rewards).unsqueeze(1) + gamma * next_q * (1 - torch.FloatTensor(dones).unsqueeze(1))\n",
        "\n",
        "            # Huber loss for stability\n",
        "            loss = nn.SmoothL1Loss()(current_q, target_q)\n",
        "\n",
        "            optimizer.zero_grad()\n",
        "            loss.backward()\n",
        "            # Gradient clipping to prevent explosions\n",
        "            torch.nn.utils.clip_grad_norm_(policy_net.parameters(), 1.0)\n",
        "            optimizer.step()\n",
        "\n",
        "        state = next_state\n",
        "        if done:\n",
        "            break\n",
        "\n",
        "    # Decay epsilon and update target network\n",
        "    epsilon = max(epsilon_end, epsilon * epsilon_decay)\n",
        "    if episode % target_update == 0:\n",
        "        target_net.load_state_dict(policy_net.state_dict())\n",
        "\n",
        "    episode_rewards.append(total_reward)\n",
        "    print(f\"Episode {episode}, Reward: {total_reward}, Epsilon: {epsilon:.2f}\")\n",
        "\n",
        "    # Early stopping if agent solves the environment\n",
        "    if total_reward >= 500:\n",
        "        print(\"Early stopping: Agent solved the environment!\")\n",
        "        break\n",
        "\n",
        "# Save the trained policy network\n",
        "torch.save(policy_net.state_dict(), \"cartpole_dqn_final.pth\")"
      ],
      "metadata": {
        "colab": {
          "base_uri": "https://localhost:8080/"
        },
        "id": "YrNzO-9V33yW",
        "outputId": "20d2a59b-6a8b-4f01-cb4c-1607568622a7"
      },
      "execution_count": null,
      "outputs": [
        {
          "output_type": "stream",
          "name": "stdout",
          "text": [
            "Episode 0, Reward: 28.0, Epsilon: 0.99\n",
            "Episode 1, Reward: 11.0, Epsilon: 0.99\n",
            "Episode 2, Reward: 36.0, Epsilon: 0.99\n",
            "Episode 3, Reward: 38.0, Epsilon: 0.98\n",
            "Episode 4, Reward: 15.0, Epsilon: 0.98\n",
            "Episode 5, Reward: 11.0, Epsilon: 0.97\n",
            "Episode 6, Reward: 19.0, Epsilon: 0.97\n",
            "Episode 7, Reward: 16.0, Epsilon: 0.96\n",
            "Episode 8, Reward: 13.0, Epsilon: 0.96\n",
            "Episode 9, Reward: 18.0, Epsilon: 0.95\n",
            "Episode 10, Reward: 12.0, Epsilon: 0.95\n",
            "Episode 11, Reward: 27.0, Epsilon: 0.94\n",
            "Episode 12, Reward: 29.0, Epsilon: 0.94\n",
            "Episode 13, Reward: 28.0, Epsilon: 0.93\n",
            "Episode 14, Reward: 13.0, Epsilon: 0.93\n",
            "Episode 15, Reward: 14.0, Epsilon: 0.92\n",
            "Episode 16, Reward: 15.0, Epsilon: 0.92\n",
            "Episode 17, Reward: 15.0, Epsilon: 0.91\n",
            "Episode 18, Reward: 39.0, Epsilon: 0.91\n",
            "Episode 19, Reward: 17.0, Epsilon: 0.90\n",
            "Episode 20, Reward: 15.0, Epsilon: 0.90\n",
            "Episode 21, Reward: 24.0, Epsilon: 0.90\n",
            "Episode 22, Reward: 42.0, Epsilon: 0.89\n",
            "Episode 23, Reward: 23.0, Epsilon: 0.89\n",
            "Episode 24, Reward: 14.0, Epsilon: 0.88\n",
            "Episode 25, Reward: 13.0, Epsilon: 0.88\n",
            "Episode 26, Reward: 28.0, Epsilon: 0.87\n",
            "Episode 27, Reward: 17.0, Epsilon: 0.87\n",
            "Episode 28, Reward: 16.0, Epsilon: 0.86\n",
            "Episode 29, Reward: 43.0, Epsilon: 0.86\n",
            "Episode 30, Reward: 19.0, Epsilon: 0.86\n",
            "Episode 31, Reward: 14.0, Epsilon: 0.85\n",
            "Episode 32, Reward: 21.0, Epsilon: 0.85\n",
            "Episode 33, Reward: 32.0, Epsilon: 0.84\n",
            "Episode 34, Reward: 59.0, Epsilon: 0.84\n",
            "Episode 35, Reward: 19.0, Epsilon: 0.83\n",
            "Episode 36, Reward: 16.0, Epsilon: 0.83\n",
            "Episode 37, Reward: 13.0, Epsilon: 0.83\n",
            "Episode 38, Reward: 26.0, Epsilon: 0.82\n",
            "Episode 39, Reward: 56.0, Epsilon: 0.82\n",
            "Episode 40, Reward: 14.0, Epsilon: 0.81\n",
            "Episode 41, Reward: 13.0, Epsilon: 0.81\n",
            "Episode 42, Reward: 56.0, Epsilon: 0.81\n",
            "Episode 43, Reward: 10.0, Epsilon: 0.80\n",
            "Episode 44, Reward: 43.0, Epsilon: 0.80\n",
            "Episode 45, Reward: 41.0, Epsilon: 0.79\n",
            "Episode 46, Reward: 16.0, Epsilon: 0.79\n",
            "Episode 47, Reward: 35.0, Epsilon: 0.79\n",
            "Episode 48, Reward: 12.0, Epsilon: 0.78\n",
            "Episode 49, Reward: 19.0, Epsilon: 0.78\n",
            "Episode 50, Reward: 17.0, Epsilon: 0.77\n",
            "Episode 51, Reward: 26.0, Epsilon: 0.77\n",
            "Episode 52, Reward: 14.0, Epsilon: 0.77\n",
            "Episode 53, Reward: 24.0, Epsilon: 0.76\n",
            "Episode 54, Reward: 19.0, Epsilon: 0.76\n",
            "Episode 55, Reward: 26.0, Epsilon: 0.76\n",
            "Episode 56, Reward: 34.0, Epsilon: 0.75\n",
            "Episode 57, Reward: 17.0, Epsilon: 0.75\n",
            "Episode 58, Reward: 12.0, Epsilon: 0.74\n",
            "Episode 59, Reward: 37.0, Epsilon: 0.74\n",
            "Episode 60, Reward: 34.0, Epsilon: 0.74\n",
            "Episode 61, Reward: 15.0, Epsilon: 0.73\n",
            "Episode 62, Reward: 59.0, Epsilon: 0.73\n",
            "Episode 63, Reward: 29.0, Epsilon: 0.73\n",
            "Episode 64, Reward: 26.0, Epsilon: 0.72\n",
            "Episode 65, Reward: 20.0, Epsilon: 0.72\n",
            "Episode 66, Reward: 25.0, Epsilon: 0.71\n",
            "Episode 67, Reward: 78.0, Epsilon: 0.71\n",
            "Episode 68, Reward: 16.0, Epsilon: 0.71\n",
            "Episode 69, Reward: 49.0, Epsilon: 0.70\n",
            "Episode 70, Reward: 16.0, Epsilon: 0.70\n",
            "Episode 71, Reward: 15.0, Epsilon: 0.70\n",
            "Episode 72, Reward: 36.0, Epsilon: 0.69\n",
            "Episode 73, Reward: 39.0, Epsilon: 0.69\n",
            "Episode 74, Reward: 43.0, Epsilon: 0.69\n",
            "Episode 75, Reward: 22.0, Epsilon: 0.68\n",
            "Episode 76, Reward: 37.0, Epsilon: 0.68\n",
            "Episode 77, Reward: 52.0, Epsilon: 0.68\n",
            "Episode 78, Reward: 84.0, Epsilon: 0.67\n",
            "Episode 79, Reward: 17.0, Epsilon: 0.67\n",
            "Episode 80, Reward: 22.0, Epsilon: 0.67\n",
            "Episode 81, Reward: 44.0, Epsilon: 0.66\n",
            "Episode 82, Reward: 15.0, Epsilon: 0.66\n",
            "Episode 83, Reward: 43.0, Epsilon: 0.66\n",
            "Episode 84, Reward: 54.0, Epsilon: 0.65\n",
            "Episode 85, Reward: 14.0, Epsilon: 0.65\n",
            "Episode 86, Reward: 13.0, Epsilon: 0.65\n",
            "Episode 87, Reward: 24.0, Epsilon: 0.64\n",
            "Episode 88, Reward: 47.0, Epsilon: 0.64\n",
            "Episode 89, Reward: 34.0, Epsilon: 0.64\n",
            "Episode 90, Reward: 54.0, Epsilon: 0.63\n",
            "Episode 91, Reward: 20.0, Epsilon: 0.63\n",
            "Episode 92, Reward: 45.0, Epsilon: 0.63\n",
            "Episode 93, Reward: 47.0, Epsilon: 0.62\n",
            "Episode 94, Reward: 40.0, Epsilon: 0.62\n",
            "Episode 95, Reward: 58.0, Epsilon: 0.62\n",
            "Episode 96, Reward: 17.0, Epsilon: 0.61\n",
            "Episode 97, Reward: 55.0, Epsilon: 0.61\n",
            "Episode 98, Reward: 41.0, Epsilon: 0.61\n",
            "Episode 99, Reward: 65.0, Epsilon: 0.61\n",
            "Episode 100, Reward: 26.0, Epsilon: 0.60\n",
            "Episode 101, Reward: 23.0, Epsilon: 0.60\n",
            "Episode 102, Reward: 137.0, Epsilon: 0.60\n",
            "Episode 103, Reward: 29.0, Epsilon: 0.59\n",
            "Episode 104, Reward: 30.0, Epsilon: 0.59\n",
            "Episode 105, Reward: 89.0, Epsilon: 0.59\n",
            "Episode 106, Reward: 52.0, Epsilon: 0.58\n",
            "Episode 107, Reward: 26.0, Epsilon: 0.58\n",
            "Episode 108, Reward: 13.0, Epsilon: 0.58\n",
            "Episode 109, Reward: 52.0, Epsilon: 0.58\n",
            "Episode 110, Reward: 116.0, Epsilon: 0.57\n",
            "Episode 111, Reward: 16.0, Epsilon: 0.57\n",
            "Episode 112, Reward: 98.0, Epsilon: 0.57\n",
            "Episode 113, Reward: 15.0, Epsilon: 0.56\n",
            "Episode 114, Reward: 31.0, Epsilon: 0.56\n",
            "Episode 115, Reward: 10.0, Epsilon: 0.56\n",
            "Episode 116, Reward: 32.0, Epsilon: 0.56\n",
            "Episode 117, Reward: 154.0, Epsilon: 0.55\n",
            "Episode 118, Reward: 55.0, Epsilon: 0.55\n",
            "Episode 119, Reward: 112.0, Epsilon: 0.55\n",
            "Episode 120, Reward: 108.0, Epsilon: 0.55\n",
            "Episode 121, Reward: 46.0, Epsilon: 0.54\n",
            "Episode 122, Reward: 160.0, Epsilon: 0.54\n",
            "Episode 123, Reward: 132.0, Epsilon: 0.54\n",
            "Episode 124, Reward: 88.0, Epsilon: 0.53\n",
            "Episode 125, Reward: 185.0, Epsilon: 0.53\n",
            "Episode 126, Reward: 116.0, Epsilon: 0.53\n",
            "Episode 127, Reward: 14.0, Epsilon: 0.53\n",
            "Episode 128, Reward: 131.0, Epsilon: 0.52\n",
            "Episode 129, Reward: 81.0, Epsilon: 0.52\n",
            "Episode 130, Reward: 21.0, Epsilon: 0.52\n",
            "Episode 131, Reward: 282.0, Epsilon: 0.52\n",
            "Episode 132, Reward: 121.0, Epsilon: 0.51\n",
            "Episode 133, Reward: 99.0, Epsilon: 0.51\n",
            "Episode 134, Reward: 16.0, Epsilon: 0.51\n",
            "Episode 135, Reward: 23.0, Epsilon: 0.51\n",
            "Episode 136, Reward: 77.0, Epsilon: 0.50\n",
            "Episode 137, Reward: 31.0, Epsilon: 0.50\n",
            "Episode 138, Reward: 29.0, Epsilon: 0.50\n",
            "Episode 139, Reward: 100.0, Epsilon: 0.50\n",
            "Episode 140, Reward: 65.0, Epsilon: 0.49\n",
            "Episode 141, Reward: 149.0, Epsilon: 0.49\n",
            "Episode 142, Reward: 14.0, Epsilon: 0.49\n",
            "Episode 143, Reward: 41.0, Epsilon: 0.49\n",
            "Episode 144, Reward: 119.0, Epsilon: 0.48\n",
            "Episode 145, Reward: 29.0, Epsilon: 0.48\n",
            "Episode 146, Reward: 15.0, Epsilon: 0.48\n",
            "Episode 147, Reward: 19.0, Epsilon: 0.48\n",
            "Episode 148, Reward: 18.0, Epsilon: 0.47\n",
            "Episode 149, Reward: 111.0, Epsilon: 0.47\n",
            "Episode 150, Reward: 13.0, Epsilon: 0.47\n",
            "Episode 151, Reward: 15.0, Epsilon: 0.47\n",
            "Episode 152, Reward: 49.0, Epsilon: 0.46\n",
            "Episode 153, Reward: 14.0, Epsilon: 0.46\n",
            "Episode 154, Reward: 26.0, Epsilon: 0.46\n",
            "Episode 155, Reward: 52.0, Epsilon: 0.46\n",
            "Episode 156, Reward: 20.0, Epsilon: 0.46\n",
            "Episode 157, Reward: 17.0, Epsilon: 0.45\n",
            "Episode 158, Reward: 112.0, Epsilon: 0.45\n",
            "Episode 159, Reward: 124.0, Epsilon: 0.45\n",
            "Episode 160, Reward: 13.0, Epsilon: 0.45\n",
            "Episode 161, Reward: 19.0, Epsilon: 0.44\n",
            "Episode 162, Reward: 93.0, Epsilon: 0.44\n",
            "Episode 163, Reward: 108.0, Epsilon: 0.44\n",
            "Episode 164, Reward: 106.0, Epsilon: 0.44\n",
            "Episode 165, Reward: 46.0, Epsilon: 0.44\n",
            "Episode 166, Reward: 73.0, Epsilon: 0.43\n",
            "Episode 167, Reward: 13.0, Epsilon: 0.43\n",
            "Episode 168, Reward: 12.0, Epsilon: 0.43\n",
            "Episode 169, Reward: 71.0, Epsilon: 0.43\n",
            "Episode 170, Reward: 68.0, Epsilon: 0.42\n",
            "Episode 171, Reward: 14.0, Epsilon: 0.42\n",
            "Episode 172, Reward: 100.0, Epsilon: 0.42\n",
            "Episode 173, Reward: 16.0, Epsilon: 0.42\n",
            "Episode 174, Reward: 18.0, Epsilon: 0.42\n",
            "Episode 175, Reward: 23.0, Epsilon: 0.41\n",
            "Episode 176, Reward: 13.0, Epsilon: 0.41\n",
            "Episode 177, Reward: 102.0, Epsilon: 0.41\n",
            "Episode 178, Reward: 20.0, Epsilon: 0.41\n",
            "Episode 179, Reward: 122.0, Epsilon: 0.41\n",
            "Episode 180, Reward: 13.0, Epsilon: 0.40\n",
            "Episode 181, Reward: 16.0, Epsilon: 0.40\n",
            "Episode 182, Reward: 24.0, Epsilon: 0.40\n",
            "Episode 183, Reward: 17.0, Epsilon: 0.40\n",
            "Episode 184, Reward: 16.0, Epsilon: 0.40\n",
            "Episode 185, Reward: 123.0, Epsilon: 0.39\n",
            "Episode 186, Reward: 10.0, Epsilon: 0.39\n",
            "Episode 187, Reward: 88.0, Epsilon: 0.39\n",
            "Episode 188, Reward: 23.0, Epsilon: 0.39\n",
            "Episode 189, Reward: 125.0, Epsilon: 0.39\n",
            "Episode 190, Reward: 111.0, Epsilon: 0.38\n",
            "Episode 191, Reward: 10.0, Epsilon: 0.38\n",
            "Episode 192, Reward: 10.0, Epsilon: 0.38\n",
            "Episode 193, Reward: 111.0, Epsilon: 0.38\n",
            "Episode 194, Reward: 86.0, Epsilon: 0.38\n",
            "Episode 195, Reward: 11.0, Epsilon: 0.37\n",
            "Episode 196, Reward: 146.0, Epsilon: 0.37\n",
            "Episode 197, Reward: 19.0, Epsilon: 0.37\n",
            "Episode 198, Reward: 44.0, Epsilon: 0.37\n",
            "Episode 199, Reward: 17.0, Epsilon: 0.37\n",
            "Episode 200, Reward: 117.0, Epsilon: 0.37\n",
            "Episode 201, Reward: 58.0, Epsilon: 0.36\n",
            "Episode 202, Reward: 142.0, Epsilon: 0.36\n",
            "Episode 203, Reward: 186.0, Epsilon: 0.36\n",
            "Episode 204, Reward: 143.0, Epsilon: 0.36\n",
            "Episode 205, Reward: 139.0, Epsilon: 0.36\n",
            "Episode 206, Reward: 195.0, Epsilon: 0.35\n",
            "Episode 207, Reward: 44.0, Epsilon: 0.35\n",
            "Episode 208, Reward: 130.0, Epsilon: 0.35\n",
            "Episode 209, Reward: 181.0, Epsilon: 0.35\n",
            "Episode 210, Reward: 181.0, Epsilon: 0.35\n",
            "Episode 211, Reward: 18.0, Epsilon: 0.35\n",
            "Episode 212, Reward: 54.0, Epsilon: 0.34\n",
            "Episode 213, Reward: 105.0, Epsilon: 0.34\n",
            "Episode 214, Reward: 52.0, Epsilon: 0.34\n",
            "Episode 215, Reward: 119.0, Epsilon: 0.34\n",
            "Episode 216, Reward: 11.0, Epsilon: 0.34\n",
            "Episode 217, Reward: 19.0, Epsilon: 0.34\n",
            "Episode 218, Reward: 153.0, Epsilon: 0.33\n",
            "Episode 219, Reward: 171.0, Epsilon: 0.33\n",
            "Episode 220, Reward: 16.0, Epsilon: 0.33\n",
            "Episode 221, Reward: 16.0, Epsilon: 0.33\n",
            "Episode 222, Reward: 105.0, Epsilon: 0.33\n",
            "Episode 223, Reward: 17.0, Epsilon: 0.33\n",
            "Episode 224, Reward: 15.0, Epsilon: 0.32\n",
            "Episode 225, Reward: 14.0, Epsilon: 0.32\n",
            "Episode 226, Reward: 15.0, Epsilon: 0.32\n",
            "Episode 227, Reward: 140.0, Epsilon: 0.32\n",
            "Episode 228, Reward: 100.0, Epsilon: 0.32\n",
            "Episode 229, Reward: 34.0, Epsilon: 0.32\n",
            "Episode 230, Reward: 172.0, Epsilon: 0.31\n",
            "Episode 231, Reward: 32.0, Epsilon: 0.31\n",
            "Episode 232, Reward: 130.0, Epsilon: 0.31\n",
            "Episode 233, Reward: 12.0, Epsilon: 0.31\n",
            "Episode 234, Reward: 195.0, Epsilon: 0.31\n",
            "Episode 235, Reward: 137.0, Epsilon: 0.31\n",
            "Episode 236, Reward: 11.0, Epsilon: 0.30\n",
            "Episode 237, Reward: 168.0, Epsilon: 0.30\n",
            "Episode 238, Reward: 249.0, Epsilon: 0.30\n",
            "Episode 239, Reward: 13.0, Epsilon: 0.30\n",
            "Episode 240, Reward: 18.0, Epsilon: 0.30\n",
            "Episode 241, Reward: 21.0, Epsilon: 0.30\n",
            "Episode 242, Reward: 111.0, Epsilon: 0.30\n",
            "Episode 243, Reward: 174.0, Epsilon: 0.29\n",
            "Episode 244, Reward: 133.0, Epsilon: 0.29\n",
            "Episode 245, Reward: 175.0, Epsilon: 0.29\n",
            "Episode 246, Reward: 118.0, Epsilon: 0.29\n",
            "Episode 247, Reward: 114.0, Epsilon: 0.29\n",
            "Episode 248, Reward: 18.0, Epsilon: 0.29\n",
            "Episode 249, Reward: 12.0, Epsilon: 0.29\n",
            "Episode 250, Reward: 37.0, Epsilon: 0.28\n",
            "Episode 251, Reward: 159.0, Epsilon: 0.28\n",
            "Episode 252, Reward: 76.0, Epsilon: 0.28\n",
            "Episode 253, Reward: 87.0, Epsilon: 0.28\n",
            "Episode 254, Reward: 184.0, Epsilon: 0.28\n",
            "Episode 255, Reward: 105.0, Epsilon: 0.28\n",
            "Episode 256, Reward: 126.0, Epsilon: 0.28\n",
            "Episode 257, Reward: 65.0, Epsilon: 0.27\n",
            "Episode 258, Reward: 138.0, Epsilon: 0.27\n",
            "Episode 259, Reward: 23.0, Epsilon: 0.27\n",
            "Episode 260, Reward: 159.0, Epsilon: 0.27\n",
            "Episode 261, Reward: 149.0, Epsilon: 0.27\n",
            "Episode 262, Reward: 185.0, Epsilon: 0.27\n",
            "Episode 263, Reward: 163.0, Epsilon: 0.27\n",
            "Episode 264, Reward: 123.0, Epsilon: 0.26\n",
            "Episode 265, Reward: 11.0, Epsilon: 0.26\n",
            "Episode 266, Reward: 152.0, Epsilon: 0.26\n",
            "Episode 267, Reward: 219.0, Epsilon: 0.26\n",
            "Episode 268, Reward: 13.0, Epsilon: 0.26\n",
            "Episode 269, Reward: 117.0, Epsilon: 0.26\n",
            "Episode 270, Reward: 209.0, Epsilon: 0.26\n",
            "Episode 271, Reward: 14.0, Epsilon: 0.26\n",
            "Episode 272, Reward: 158.0, Epsilon: 0.25\n",
            "Episode 273, Reward: 75.0, Epsilon: 0.25\n",
            "Episode 274, Reward: 106.0, Epsilon: 0.25\n",
            "Episode 275, Reward: 22.0, Epsilon: 0.25\n",
            "Episode 276, Reward: 115.0, Epsilon: 0.25\n",
            "Episode 277, Reward: 15.0, Epsilon: 0.25\n",
            "Episode 278, Reward: 124.0, Epsilon: 0.25\n",
            "Episode 279, Reward: 189.0, Epsilon: 0.25\n",
            "Episode 280, Reward: 205.0, Epsilon: 0.24\n",
            "Episode 281, Reward: 125.0, Epsilon: 0.24\n",
            "Episode 282, Reward: 139.0, Epsilon: 0.24\n",
            "Episode 283, Reward: 125.0, Epsilon: 0.24\n",
            "Episode 284, Reward: 135.0, Epsilon: 0.24\n",
            "Episode 285, Reward: 149.0, Epsilon: 0.24\n",
            "Episode 286, Reward: 51.0, Epsilon: 0.24\n",
            "Episode 287, Reward: 124.0, Epsilon: 0.24\n",
            "Episode 288, Reward: 46.0, Epsilon: 0.23\n",
            "Episode 289, Reward: 142.0, Epsilon: 0.23\n",
            "Episode 290, Reward: 203.0, Epsilon: 0.23\n",
            "Episode 291, Reward: 230.0, Epsilon: 0.23\n",
            "Episode 292, Reward: 135.0, Epsilon: 0.23\n",
            "Episode 293, Reward: 119.0, Epsilon: 0.23\n",
            "Episode 294, Reward: 240.0, Epsilon: 0.23\n",
            "Episode 295, Reward: 120.0, Epsilon: 0.23\n",
            "Episode 296, Reward: 186.0, Epsilon: 0.23\n",
            "Episode 297, Reward: 128.0, Epsilon: 0.22\n",
            "Episode 298, Reward: 205.0, Epsilon: 0.22\n",
            "Episode 299, Reward: 134.0, Epsilon: 0.22\n",
            "Episode 300, Reward: 30.0, Epsilon: 0.22\n",
            "Episode 301, Reward: 254.0, Epsilon: 0.22\n",
            "Episode 302, Reward: 233.0, Epsilon: 0.22\n",
            "Episode 303, Reward: 161.0, Epsilon: 0.22\n",
            "Episode 304, Reward: 89.0, Epsilon: 0.22\n",
            "Episode 305, Reward: 157.0, Epsilon: 0.22\n",
            "Episode 306, Reward: 16.0, Epsilon: 0.21\n",
            "Episode 307, Reward: 262.0, Epsilon: 0.21\n",
            "Episode 308, Reward: 139.0, Epsilon: 0.21\n",
            "Episode 309, Reward: 24.0, Epsilon: 0.21\n",
            "Episode 310, Reward: 153.0, Epsilon: 0.21\n",
            "Episode 311, Reward: 192.0, Epsilon: 0.21\n",
            "Episode 312, Reward: 169.0, Epsilon: 0.21\n",
            "Episode 313, Reward: 332.0, Epsilon: 0.21\n",
            "Episode 314, Reward: 220.0, Epsilon: 0.21\n",
            "Episode 315, Reward: 138.0, Epsilon: 0.21\n",
            "Episode 316, Reward: 265.0, Epsilon: 0.20\n",
            "Episode 317, Reward: 284.0, Epsilon: 0.20\n",
            "Episode 318, Reward: 36.0, Epsilon: 0.20\n",
            "Episode 319, Reward: 148.0, Epsilon: 0.20\n",
            "Episode 320, Reward: 132.0, Epsilon: 0.20\n",
            "Episode 321, Reward: 63.0, Epsilon: 0.20\n",
            "Episode 322, Reward: 424.0, Epsilon: 0.20\n",
            "Episode 323, Reward: 442.0, Epsilon: 0.20\n",
            "Episode 324, Reward: 500.0, Epsilon: 0.20\n",
            "Early stopping: Agent solved the environment!\n"
          ]
        }
      ]
    },
    {
      "cell_type": "code",
      "source": [
        "from google.colab import files\n",
        "files.download(\"cartpole_dqn_final.pth\")"
      ],
      "metadata": {
        "colab": {
          "base_uri": "https://localhost:8080/",
          "height": 17
        },
        "id": "fwx03uHrJwJc",
        "outputId": "e7596166-f525-4529-b58a-b5f5db261586"
      },
      "execution_count": null,
      "outputs": [
        {
          "output_type": "display_data",
          "data": {
            "text/plain": [
              "<IPython.core.display.Javascript object>"
            ],
            "application/javascript": [
              "\n",
              "    async function download(id, filename, size) {\n",
              "      if (!google.colab.kernel.accessAllowed) {\n",
              "        return;\n",
              "      }\n",
              "      const div = document.createElement('div');\n",
              "      const label = document.createElement('label');\n",
              "      label.textContent = `Downloading \"${filename}\": `;\n",
              "      div.appendChild(label);\n",
              "      const progress = document.createElement('progress');\n",
              "      progress.max = size;\n",
              "      div.appendChild(progress);\n",
              "      document.body.appendChild(div);\n",
              "\n",
              "      const buffers = [];\n",
              "      let downloaded = 0;\n",
              "\n",
              "      const channel = await google.colab.kernel.comms.open(id);\n",
              "      // Send a message to notify the kernel that we're ready.\n",
              "      channel.send({})\n",
              "\n",
              "      for await (const message of channel.messages) {\n",
              "        // Send a message to notify the kernel that we're ready.\n",
              "        channel.send({})\n",
              "        if (message.buffers) {\n",
              "          for (const buffer of message.buffers) {\n",
              "            buffers.push(buffer);\n",
              "            downloaded += buffer.byteLength;\n",
              "            progress.value = downloaded;\n",
              "          }\n",
              "        }\n",
              "      }\n",
              "      const blob = new Blob(buffers, {type: 'application/binary'});\n",
              "      const a = document.createElement('a');\n",
              "      a.href = window.URL.createObjectURL(blob);\n",
              "      a.download = filename;\n",
              "      div.appendChild(a);\n",
              "      a.click();\n",
              "      div.remove();\n",
              "    }\n",
              "  "
            ]
          },
          "metadata": {}
        },
        {
          "output_type": "display_data",
          "data": {
            "text/plain": [
              "<IPython.core.display.Javascript object>"
            ],
            "application/javascript": [
              "download(\"download_10fbde61-f385-4f24-8344-19976ec41d0f\", \"cartpole_dqn_final.pth\", 273078)"
            ]
          },
          "metadata": {}
        }
      ]
    },
    {
      "cell_type": "markdown",
      "source": [
        "6. After training with the environment, we can demonstrate that the agent can take a state (observation) from the environment and output a valid action."
      ],
      "metadata": {
        "id": "qiCtwboq5PVM"
      }
    },
    {
      "cell_type": "code",
      "source": [
        "# Load trained policy_net (after training)\n",
        "state = env.reset()\n",
        "with torch.no_grad():\n",
        "    q_values = policy_net(torch.FloatTensor(state))\n",
        "    action = q_values.argmax().item()\n",
        "print(\"Observation:\", state)\n",
        "print(\"Chosen action:\", action)"
      ],
      "metadata": {
        "colab": {
          "base_uri": "https://localhost:8080/"
        },
        "id": "bEITHV_65Nzo",
        "outputId": "16e310c6-03bc-489f-f343-9134118bd664"
      },
      "execution_count": null,
      "outputs": [
        {
          "output_type": "stream",
          "name": "stdout",
          "text": [
            "Observation: [ 0.0483996   0.03684551  0.00176658 -0.04430445]\n",
            "Chosen action: 1\n"
          ]
        }
      ]
    },
    {
      "cell_type": "markdown",
      "source": [
        "## Task 2: Demonstrate the effectiveness of the RL agent"
      ],
      "metadata": {
        "id": "EXO0ZqPJ55yN"
      }
    },
    {
      "cell_type": "markdown",
      "source": [
        "Once the RL agent is ready, we run the agent against 100 episodes and track the cumulative reward for each episode.\n",
        "\n",
        "Then, we plot the result to visualize the agent's performance over the 100 episodes."
      ],
      "metadata": {
        "id": "GtElKt4x8TGA"
      }
    },
    {
      "cell_type": "code",
      "source": [
        "episode_results = []\n",
        "for _ in range(100):\n",
        "    state = env.reset()\n",
        "    total_reward = 0\n",
        "    while True:\n",
        "        with torch.no_grad():\n",
        "            q_values = policy_net(torch.FloatTensor(state))\n",
        "            action = q_values.argmax().item()\n",
        "        state, reward, done, _ = env.step(action)\n",
        "        total_reward += reward\n",
        "        if done:\n",
        "            break\n",
        "    episode_results.append(total_reward)\n",
        "\n",
        "plt.plot(episode_results)\n",
        "plt.title('Cumulative Reward for Each Episode')\n",
        "plt.ylabel('Cumulative Reward')\n",
        "plt.xlabel('Episode')\n",
        "plt.show()\n",
        "\n",
        "average_reward = np.mean(episode_results)\n",
        "print(f\"Average cumulative reward: {average_reward:.2f}\")\n",
        "print(\"Is my agent good enough?\", average_reward > 195)"
      ],
      "metadata": {
        "colab": {
          "base_uri": "https://localhost:8080/",
          "height": 506
        },
        "id": "LI6356Eu5-xU",
        "outputId": "7811ad95-1561-4f58-cb71-e59fba37d177"
      },
      "execution_count": null,
      "outputs": [
        {
          "output_type": "display_data",
          "data": {
            "text/plain": [
              "<Figure size 640x480 with 1 Axes>"
            ],
            "image/png": "[encoded data removed]"
          },
          "metadata": {}
        },
        {
          "output_type": "stream",
          "name": "stdout",
          "text": [
            "Average cumulative reward: 475.49\n",
            "Is my agent good enough? True\n"
          ]
        }
      ]
    },
    {
      "cell_type": "markdown",
      "source": [
        "As stated above, we noticed the average cumulative reward is 338.17.\n",
        "\n",
        "Since it is above 195, it indicates that our team's agent is good enough to solve the environment, that is to balance the pole on th cart."
      ],
      "metadata": {
        "id": "db-Apwu08vhj"
      }
    },
    {
      "cell_type": "markdown",
      "source": [
        "## Task 3: Render one episode played by the agent"
      ],
      "metadata": {
        "id": "Yg0DCT38lFA6"
      }
    },
    {
      "cell_type": "markdown",
      "source": [
        "Finally, we plug our agent to the code below to obtain rendered result."
      ],
      "metadata": {
        "id": "vx1awMr9lc_w"
      }
    },
    {
      "cell_type": "code",
      "source": [
        "\n",
        "policy_net.eval()  # Set network to evaluation mode\n",
        "\n",
        "# Create environment with video recording\n",
        "env = RecordVideo(gym.make(\"CartPole-v1\"), \"./video\")\n",
        "observation = env.reset()\n",
        "\n",
        "while True:\n",
        "    # Get action from trained agent\n",
        "    with torch.no_grad():\n",
        "        q_values = policy_net(torch.FloatTensor(observation))\n",
        "        action = q_values.argmax().item()\n",
        "\n",
        "    # Take the chosen action\n",
        "    observation, reward, done, info = env.step(action)\n",
        "\n",
        "    if done:\n",
        "        break\n",
        "\n",
        "env.close()\n",
        "show_video()"
      ],
      "metadata": {
        "colab": {
          "base_uri": "https://localhost:8080/",
          "height": 475
        },
        "id": "LYyavfbIa47D",
        "outputId": "0b30c005-9f3e-41b5-d7ff-0e7aaa523ff9"
      },
      "execution_count": null,
      "outputs": [
        {
          "output_type": "stream",
          "name": "stderr",
          "text": [
            "/usr/local/lib/python3.11/dist-packages/gym/utils/passive_env_checker.py:241: DeprecationWarning: `np.bool8` is a deprecated alias for `np.bool_`.  (Deprecated NumPy 1.24)\n",
            "  if not isinstance(terminated, (bool, np.bool8)):\n"
          ]
        },
        {
          "output_type": "display_data",
          "data": {
            "text/plain": [
              "<IPython.core.display.HTML object>"
            ],
            "text/html": [
              "<video alt=\"test\" autoplay\n",
              "                loop controls style=\"height: 400px;\">\n",
              "                <source src=\"data:video/mp4;base64,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\" type=\"video/mp4\" />\n",
              "             </video>"
            ]
          },
          "metadata": {}
        }
      ]
    }
  ]
}