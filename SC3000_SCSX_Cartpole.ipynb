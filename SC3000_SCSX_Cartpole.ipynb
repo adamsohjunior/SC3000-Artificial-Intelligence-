{
  "nbformat": 4,
  "nbformat_minor": 0,
  "metadata": {
    "colab": {
      "provenance": [],
      "include_colab_link": true
    },
    "kernelspec": {
      "name": "python3",
      "display_name": "Python 3"
    },
    "language_info": {
      "name": "python"
    }
  },
  "cells": [
    {
      "cell_type": "markdown",
      "metadata": {
        "id": "view-in-github",
        "colab_type": "text"
      },
      "source": [
        "<a href=\"https://colab.research.google.com/github/adamsohjunior/SC3000-Artificial-Intelligence-/blob/main/SC3000_SCSX_Cartpole.ipynb\" target=\"_parent\"><img src=\"https://colab.research.google.com/assets/colab-badge.svg\" alt=\"Open In Colab\"/></a>"
      ]
    },
    {
      "cell_type": "markdown",
      "source": [
        "# Tutorial and Sample Code for Balancing a Pole on a Cart"
      ],
      "metadata": {
        "id": "ZauhjPSfX7pI"
      }
    },
    {
      "cell_type": "markdown",
      "source": [
        "## Installing dependencies:"
      ],
      "metadata": {
        "id": "UBiYOoesYMvr"
      }
    },
    {
      "cell_type": "code",
      "execution_count": 1,
      "metadata": {
        "colab": {
          "base_uri": "https://localhost:8080/"
        },
        "id": "PbgnVwZmX5uW",
        "outputId": "a29c3177-88f8-4d16-a5b0-6dc02aef3dfd"
      },
      "outputs": [
        {
          "output_type": "stream",
          "name": "stdout",
          "text": [
            "Requirement already satisfied: gym[classic_control] in /usr/local/lib/python3.11/dist-packages (0.25.2)\n",
            "Requirement already satisfied: numpy>=1.18.0 in /usr/local/lib/python3.11/dist-packages (from gym[classic_control]) (2.2.4)\n",
            "Requirement already satisfied: cloudpickle>=1.2.0 in /usr/local/lib/python3.11/dist-packages (from gym[classic_control]) (3.1.1)\n",
            "Requirement already satisfied: gym_notices>=0.0.4 in /usr/local/lib/python3.11/dist-packages (from gym[classic_control]) (0.0.8)\n",
            "Collecting pygame==2.1.0 (from gym[classic_control])\n",
            "  Using cached pygame-2.1.0.tar.gz (5.8 MB)\n",
            "  \u001b[1;31merror\u001b[0m: \u001b[1msubprocess-exited-with-error\u001b[0m\n",
            "  \n",
            "  \u001b[31m×\u001b[0m \u001b[32mpython setup.py egg_info\u001b[0m did not run successfully.\n",
            "  \u001b[31m│\u001b[0m exit code: \u001b[1;36m1\u001b[0m\n",
            "  \u001b[31m╰─>\u001b[0m See above for output.\n",
            "  \n",
            "  \u001b[1;35mnote\u001b[0m: This error originates from a subprocess, and is likely not a problem with pip.\n",
            "  Preparing metadata (setup.py) ... \u001b[?25l\u001b[?25herror\n",
            "\u001b[1;31merror\u001b[0m: \u001b[1mmetadata-generation-failed\u001b[0m\n",
            "\n",
            "\u001b[31m×\u001b[0m Encountered error while generating package metadata.\n",
            "\u001b[31m╰─>\u001b[0m See above for output.\n",
            "\n",
            "\u001b[1;35mnote\u001b[0m: This is an issue with the package mentioned above, not pip.\n",
            "\u001b[1;36mhint\u001b[0m: See above for details.\n",
            "Requirement already satisfied: setuptools in /usr/local/lib/python3.11/dist-packages (77.0.3)\n",
            "Requirement already satisfied: numpy in /usr/local/lib/python3.11/dist-packages (2.2.4)\n"
          ]
        }
      ],
      "source": [
        "!apt-get install -y xvfb python-opengl > /dev/null 2>&1\n",
        "!pip install gym pyvirtualdisplay > /dev/null 2>&1\n",
        "!pip install gym pyvirtualdisplay > /dev/null 2>&1\n",
        "!apt-get install -y xvfb python-opengl ffmpeg > /dev/null 2>&1\n",
        "!pip install gym[classic_control]\n",
        "!apt-get update > /dev/null 2>&1\n",
        "!apt-get install cmake > /dev/null 2>&1\n",
        "!pip install --upgrade setuptools 2>&1\n",
        "!pip install ez_setup > /dev/null 2>&1"
      ]
    },
    {
      "cell_type": "code",
      "source": [
        "!apt-get update\n",
        "!apt-get install -y python3-pygame"
      ],
      "metadata": {
        "colab": {
          "base_uri": "https://localhost:8080/"
        },
        "id": "mtCGFrMIbdBY",
        "outputId": "0f51cea0-de15-47f4-83d2-1d20144ff0e3"
      },
      "execution_count": 2,
      "outputs": [
        {
          "output_type": "stream",
          "name": "stdout",
          "text": [
            "\r0% [Working]\r            \rHit:1 http://security.ubuntu.com/ubuntu jammy-security InRelease\n",
            "\r0% [Connecting to archive.ubuntu.com (185.125.190.83)] [Waiting for headers] [Connected to r2u.stat.\r                                                                                                    \rHit:2 https://cloud.r-project.org/bin/linux/ubuntu jammy-cran40/ InRelease\n",
            "\r0% [Waiting for headers] [Connected to r2u.stat.illinois.edu (192.17.190.167)] [Waiting for headers]\r                                                                                                    \rHit:3 https://developer.download.nvidia.com/compute/cuda/repos/ubuntu2204/x86_64  InRelease\n",
            "Hit:4 http://archive.ubuntu.com/ubuntu jammy InRelease\n",
            "Hit:5 https://r2u.stat.illinois.edu/ubuntu jammy InRelease\n",
            "Hit:6 http://archive.ubuntu.com/ubuntu jammy-updates InRelease\n",
            "Hit:7 http://archive.ubuntu.com/ubuntu jammy-backports InRelease\n",
            "Hit:8 https://ppa.launchpadcontent.net/deadsnakes/ppa/ubuntu jammy InRelease\n",
            "Hit:9 https://ppa.launchpadcontent.net/graphics-drivers/ppa/ubuntu jammy InRelease\n",
            "Hit:10 https://ppa.launchpadcontent.net/ubuntugis/ppa/ubuntu jammy InRelease\n",
            "Reading package lists... Done\n",
            "W: Skipping acquire of configured file 'main/source/Sources' as repository 'https://r2u.stat.illinois.edu/ubuntu jammy InRelease' does not seem to provide it (sources.list entry misspelt?)\n",
            "Reading package lists... Done\n",
            "Building dependency tree... Done\n",
            "Reading state information... Done\n",
            "python3-pygame is already the newest version (2.1.2+dfsg-3).\n",
            "0 upgraded, 0 newly installed, 0 to remove and 30 not upgraded.\n"
          ]
        }
      ]
    },
    {
      "cell_type": "markdown",
      "source": [
        "## Importing dependencies and define helper functions"
      ],
      "metadata": {
        "id": "RwKbYeTgbaTA"
      }
    },
    {
      "cell_type": "code",
      "source": [
        "import gym\n",
        "from gym import logger as gymlogger\n",
        "from gym.wrappers import RecordVideo\n",
        "gymlogger.set_level(40) #error only\n",
        "import tensorflow as tf\n",
        "import numpy as np\n",
        "import random\n",
        "import matplotlib\n",
        "import matplotlib.pyplot as plt\n",
        "%matplotlib inline\n",
        "import math\n",
        "import glob\n",
        "import io\n",
        "import base64\n",
        "from IPython.display import HTML\n",
        "from IPython import display as ipythondisplay\n",
        "\n",
        "def show_video():\n",
        "  mp4list = glob.glob('video/*.mp4')\n",
        "  if len(mp4list) > 0:\n",
        "    mp4 = mp4list[0]\n",
        "    video = io.open(mp4, 'r+b').read()\n",
        "    encoded = base64.b64encode(video)\n",
        "    ipythondisplay.display(HTML(data='''<video alt=\"test\" autoplay\n",
        "                loop controls style=\"height: 400px;\">\n",
        "                <source src=\"data:video/mp4;base64,{0}\" type=\"video/mp4\" />\n",
        "             </video>'''.format(encoded.decode('ascii'))))\n",
        "  else:\n",
        "    print(\"Could not find video\")"
      ],
      "metadata": {
        "id": "j6KpgCLGYWmj"
      },
      "execution_count": 3,
      "outputs": []
    },
    {
      "cell_type": "markdown",
      "source": [
        "Set up extra dependencies to be used later in the code implementation below."
      ],
      "metadata": {
        "id": "zn8B5vEtfCdg"
      }
    },
    {
      "cell_type": "code",
      "source": [
        "import torch\n",
        "import torch.nn as nn\n",
        "import torch.optim as optim\n",
        "from collections import deque"
      ],
      "metadata": {
        "id": "83YfmV2DeJgB"
      },
      "execution_count": 4,
      "outputs": []
    },
    {
      "cell_type": "markdown",
      "source": [
        "## Tutorial: Loading CartPole environment"
      ],
      "metadata": {
        "id": "ehbqP9CXbmo7"
      }
    },
    {
      "cell_type": "code",
      "source": [
        "env = gym.make(\"CartPole-v1\")"
      ],
      "metadata": {
        "id": "Go12dH4qbwBy"
      },
      "execution_count": 5,
      "outputs": []
    },
    {
      "cell_type": "markdown",
      "source": [
        "We can check the action and observation space of this environment. Discrete(2) means that there are two valid discrete actions: 0 & 1."
      ],
      "metadata": {
        "id": "9XZ9g3xrcAXE"
      }
    },
    {
      "cell_type": "code",
      "source": [
        "print(env.action_space)"
      ],
      "metadata": {
        "colab": {
          "base_uri": "https://localhost:8080/"
        },
        "id": "ytxvVmLdcRyw",
        "outputId": "40553a14-b1fa-4920-ad9d-ceb769120331"
      },
      "execution_count": 6,
      "outputs": [
        {
          "output_type": "stream",
          "name": "stdout",
          "text": [
            "Discrete(2)\n"
          ]
        }
      ]
    },
    {
      "cell_type": "markdown",
      "source": [
        "The observation space is given below. The first two arrays define the min and max values of the 4 observed values, corresponding to cart position, velocity and pole angle, angular velocity."
      ],
      "metadata": {
        "id": "pVXGWi_Ncfg-"
      }
    },
    {
      "cell_type": "code",
      "source": [
        "print(env.observation_space)"
      ],
      "metadata": {
        "colab": {
          "base_uri": "https://localhost:8080/"
        },
        "id": "DyqHr9I5cdkX",
        "outputId": "5a334bfa-e1dc-4b2f-8b5a-4bc45825309d"
      },
      "execution_count": 7,
      "outputs": [
        {
          "output_type": "stream",
          "name": "stdout",
          "text": [
            "Box([-4.8000002e+00 -3.4028235e+38 -4.1887903e-01 -3.4028235e+38], [4.8000002e+00 3.4028235e+38 4.1887903e-01 3.4028235e+38], (4,), float32)\n"
          ]
        }
      ]
    },
    {
      "cell_type": "markdown",
      "source": [
        "We call each round of the pole-balancing game an \"episode\". At the start of each episode, make sure the environment is reset, which chooses a random initial state, e.g., pole slightly tilted to the right. This initialization can be achieved by the code below, which returns the observation of the initial state."
      ],
      "metadata": {
        "id": "HFOdaU2Gdyg0"
      }
    },
    {
      "cell_type": "code",
      "source": [
        "observation = env.reset()\n",
        "print(\"Initial observations:\", observation)"
      ],
      "metadata": {
        "colab": {
          "base_uri": "https://localhost:8080/"
        },
        "id": "VMr6qAqxdOsm",
        "outputId": "e7ab80a7-da41-4c4a-d34e-f20b0715a0c8"
      },
      "execution_count": 8,
      "outputs": [
        {
          "output_type": "stream",
          "name": "stdout",
          "text": [
            "Initial observations: [ 0.04435083  0.00837127 -0.04250196 -0.03034884]\n"
          ]
        }
      ]
    },
    {
      "cell_type": "markdown",
      "source": [
        "For the CartPole environment, there are two possible actions: 0 for pushing to the left and 1 for pushing to the right. For example, we can push the cart to the left using code below, which returns the new observation, the current reward, an indicator of whether the game ends, and some additional information (not used in this project). For CartPole, the game ends when the pole is significantly tilted or you manage to balance the pole for 500 steps. You get exactly 1 reward for each step before the game ends (i.e., max cumulative reward is 500)."
      ],
      "metadata": {
        "id": "qnG2QdfbeZrI"
      }
    },
    {
      "cell_type": "code",
      "source": [
        "if not hasattr(np, 'bool8'):\n",
        "    np.bool8 = np.bool_\n",
        "\n",
        "observation, reward, done, info = env.step(0)\n",
        "print(\"New observations after choosing action 0:\", observation)\n",
        "print(\"Reward for this step:\", reward)\n",
        "print(\"Is this round done?\", done)"
      ],
      "metadata": {
        "colab": {
          "base_uri": "https://localhost:8080/"
        },
        "id": "MmfMDvyYdWGk",
        "outputId": "5509da2f-e23a-43af-c61b-3e5fe5dbcfe9"
      },
      "execution_count": 10,
      "outputs": [
        {
          "output_type": "stream",
          "name": "stdout",
          "text": [
            "New observations after choosing action 0: [ 0.04079593 -0.38059685 -0.0381364   0.527407  ]\n",
            "Reward for this step: 1.0\n",
            "Is this round done? False\n"
          ]
        }
      ]
    },
    {
      "cell_type": "markdown",
      "source": [
        "Now we can play a full round of the game using a naive strategy (always choosing action 0), and show the cumulative reward in the round. Note that reward returned by env.step(*) corresponds to the reward for current step. So we have to accumulate the reward for each step. Clearly, the naive strategy performs poorly by surviving only a dozen of steps."
      ],
      "metadata": {
        "id": "tj0zCh59fhBb"
      }
    },
    {
      "cell_type": "code",
      "source": [
        "observation = env.reset()\n",
        "cumulative_reward = 0\n",
        "done = False\n",
        "while not done:\n",
        "    observation, reward, done, info = env.step(0)\n",
        "    cumulative_reward += reward\n",
        "print(\"Cumulative reward for this round:\", cumulative_reward)"
      ],
      "metadata": {
        "colab": {
          "base_uri": "https://localhost:8080/"
        },
        "id": "AVucQVRwf6Jm",
        "outputId": "e45bd1a2-2b2e-42e0-8cac-04e6ea82739b"
      },
      "execution_count": 11,
      "outputs": [
        {
          "output_type": "stream",
          "name": "stdout",
          "text": [
            "Cumulative reward for this round: 11.0\n"
          ]
        }
      ]
    },
    {
      "cell_type": "markdown",
      "source": [
        "## Task 1: Development of an RL agent"
      ],
      "metadata": {
        "id": "2oIzK9SzhlWN"
      }
    },
    {
      "cell_type": "markdown",
      "source": [
        "An example of a naive agent is given below, which randomly chooses an action regardless of the observation:"
      ],
      "metadata": {
        "id": "PUWZ6RyKOofz"
      }
    },
    {
      "cell_type": "code",
      "source": [
        "def rand_policy_agent(observation):\n",
        "    return random.randint(0, 1)"
      ],
      "metadata": {
        "id": "wEhXJSaYOrVL"
      },
      "execution_count": 12,
      "outputs": []
    },
    {
      "cell_type": "markdown",
      "source": [
        "For the Reinforcement Learning (RL) agent, our team decides to go with **Deep Q-Network (DQN)** to balance the pole on the cart.\n",
        "\n",
        "1. First, let us define the *DQN Model*.\n",
        "\n",
        "  *   We define a contructor method to create two hidden layers (fc1 and fc2) with 256 neurons each, followed by one output layer with action_size neurons.\n",
        "\n",
        "  *   We create a forward method to define how data flows through the network.\n",
        "\n",
        "  *   We applied *Rectified Linear Unit (ReLU)* activation function to each layer.\n",
        "\n",
        "  *   The purpose is to allow DQN model to introduce non-linearity, allowing it to learn more complex patterns.\n",
        "\n",
        "\n",
        "\n",
        "\n",
        "\n",
        "\n"
      ],
      "metadata": {
        "id": "qoObljNTfx-h"
      }
    },
    {
      "cell_type": "code",
      "source": [
        "class DQN(nn.Module):\n",
        "    def __init__(self, state_size, action_size):\n",
        "        super(DQN, self).__init__()\n",
        "        self.fc1 = nn.Linear(state_size, 256)  # First fully coonected layer\n",
        "        self.fc2 = nn.Linear(256, 256)          # Second fully connected layer\n",
        "        self.fc3 = nn.Linear(256, action_size)    # Output layer\n",
        "\n",
        "    def forward(self, x):\n",
        "        x = torch.relu(self.fc1(x)) # Apply ReLU activation to the first layer\n",
        "        x = torch.relu(self.fc2(x)) # Apply ReLU activation to the second layer\n",
        "        return self.fc3(x)  # Output the Q-values"
      ],
      "metadata": {
        "id": "pGBWlUiXgV9R"
      },
      "execution_count": 13,
      "outputs": []
    },
    {
      "cell_type": "markdown",
      "source": [
        "2. Next, we also define the *Experience Replay Buffer*.\n",
        "\n",
        "  *   This will allow the agent to sample from these experiences randomly during training.\n",
        "\n",
        "  *   This also help to break the correlation between consecutive experiences and stablilizes training.\n",
        "\n",
        "\n",
        "\n"
      ],
      "metadata": {
        "id": "ZU2ro8JPgc14"
      }
    },
    {
      "cell_type": "code",
      "source": [
        "class ReplayBuffer:\n",
        "    def __init__(self, capacity):\n",
        "        self.buffer = deque(maxlen=capacity)  # Automatically remove oldest experience if buffer is full\n",
        "\n",
        "    def push(self, state, action, reward, next_state, done):   # Add new experience tuple into the buffer\n",
        "        self.buffer.append((state, action, reward, next_state, done))\n",
        "\n",
        "    def sample(self, batch_size): #randomly sample a batch of experiences from the buffer\n",
        "        return random.sample(self.buffer, batch_size)\n",
        "\n",
        "    def __len__(self):\n",
        "        return len(self.buffer)"
      ],
      "metadata": {
        "id": "lrzbIZLsi4Kp"
      },
      "execution_count": 14,
      "outputs": []
    },
    {
      "cell_type": "markdown",
      "source": [
        "3. Next, we will set up the hyperparameters and intializes the key components of the DQN algorithm."
      ],
      "metadata": {
        "id": "s3XIoBBrjdml"
      }
    },
    {
      "cell_type": "code",
      "source": [
        "state_size = env.observation_space.shape[0] # Size of state space, i.e. 4\n",
        "print(state_size)\n",
        "action_size = env.action_space.n  # Number of possible actions, i.e. 2 (left and right)\n",
        "print(action_size)\n",
        "batch_size = 132        # The number of experiences sampled from the replay buffer for each training step\n",
        "gamma = 0.99              # Discount factor for future reward\n",
        "epsilon_start = 1.0       # Initial exploration rate\n",
        "epsilon_end = 0.01        # Minimum exploration rate\n",
        "epsilon_decay = 0.995     # Control how quickly exploration decreases\n",
        "target_update = 10        # Frequency of updating the target network\n",
        "learning_rate = 0.00025    # Lower learning rate for stability\n",
        "\n",
        "policy_net = DQN(state_size, action_size)\n",
        "target_net = DQN(state_size, action_size)\n",
        "target_net.load_state_dict(policy_net.state_dict())\n",
        "optimizer = optim.Adam(policy_net.parameters(), lr=learning_rate)\n",
        "buffer = ReplayBuffer(50000)    # Replay buffer to store experiences (capacity = 50,000)\n",
        "epsilon = epsilon_start         # Initialize exploration rate to 1.0 (100% exploration)"
      ],
      "metadata": {
        "colab": {
          "base_uri": "https://localhost:8080/"
        },
        "id": "JzuANqPSju2j",
        "outputId": "b8a05904-8176-475f-db14-995fecfd9f01"
      },
      "execution_count": 23,
      "outputs": [
        {
          "output_type": "stream",
          "name": "stdout",
          "text": [
            "4\n",
            "2\n"
          ]
        }
      ]
    },
    {
      "cell_type": "markdown",
      "source": [
        "4. We will load the saved model parameters (weights) if they exist. Else, we would need to train the model first. (refer to Training Loop)"
      ],
      "metadata": {
        "id": "GaGL3gLrGrf2"
      }
    },
    {
      "cell_type": "code",
      "source": [
        "# Load the saved model weights (if they exist)\n",
        "try:\n",
        "    policy_net.load_state_dict(torch.load(\"cartpole_dqn_final.pth\"))\n",
        "    print(\"Loaded pre-trained model!\")\n",
        "except FileNotFoundError:\n",
        "    print(\"No pre-trained model found. Training a new model.\")"
      ],
      "metadata": {
        "colab": {
          "base_uri": "https://localhost:8080/"
        },
        "id": "p5YLB1lPGqIE",
        "outputId": "f6195b67-d92f-4958-edfd-8780296a4f6d"
      },
      "execution_count": 24,
      "outputs": [
        {
          "output_type": "stream",
          "name": "stdout",
          "text": [
            "Loaded pre-trained model!\n"
          ]
        }
      ]
    },
    {
      "cell_type": "markdown",
      "source": [
        "5. **Training Loop:** Once we finished the setup, we can train the agent now by interacting with the environment, collect experiences and update the neural network to improve its policy.\n",
        "\n",
        "  *   The agent is trained for 1000 episodes or until the agent solves the environment.\n",
        "\n",
        "  *   We make use of *Epsilon-greedy policy* to allow agent to explore more possible actions and states in the beginning; and exploit the best action deduced by the model as the epsilon decays at a later stage.\n",
        "\n",
        "  *   Once the replay buffer has enough experiences (i.e. 132), a batch of experiences is sampled.\n",
        "\n",
        "  *   We used Double DQN algorithm:\n",
        "    *   Policy Network: Selects the best action for the next state.\n",
        "    *   Target Network: Evaluates the Q-value for that action.\n",
        "\n",
        "  *   Epsilon will gradually decay, leading to less exploration and more exploitation by selecting action with the highest Q-values calculated by the model.\n",
        "  *   **Important notes:** Target network is updated by copying the policy network for every target_update episodes (i.e. 10 in our cases)\n",
        "\n",
        "  *   The trained model's weights are save to a file (cartpole_dqn_final.pth) for later use.\n",
        "\n",
        "\n",
        "\n",
        "\n",
        "\n",
        "\n",
        "\n",
        "\n",
        "\n",
        "\n",
        "\n",
        "\n"
      ],
      "metadata": {
        "id": "e5f9Uk-B3lMx"
      }
    },
    {
      "cell_type": "code",
      "source": [
        "episode_rewards = []          # Store the total reward for each episode\n",
        "best_reward = -float('inf')  # Tracks the best reward achieved so far\n",
        "\n",
        "for episode in range(1000):   # Train for 100 episodes OR until the agent solves the environment\n",
        "    state = env.reset()\n",
        "    total_reward = 0\n",
        "    while True:\n",
        "        # Epsilon-greedy action\n",
        "        if random.random() < epsilon:\n",
        "            action = env.action_space.sample()  # Select random action (Exploration)\n",
        "        else:\n",
        "            with torch.no_grad():\n",
        "                q_values = policy_net(torch.FloatTensor(state))\n",
        "                action = q_values.argmax().item() # Select action with highest Q-value (Exploitation)\n",
        "\n",
        "        # Take action\n",
        "        next_state, reward, done, _ = env.step(action)\n",
        "        total_reward += reward\n",
        "        buffer.push(state, action, reward, next_state, done)\n",
        "\n",
        "        # Train with Double DQN\n",
        "        if len(buffer) >= batch_size:\n",
        "            transitions = buffer.sample(batch_size)\n",
        "            states, actions, rewards, next_states, dones = zip(*transitions)\n",
        "\n",
        "            states = torch.FloatTensor(states)\n",
        "            next_states = torch.FloatTensor(next_states)\n",
        "\n",
        "            # Double DQN: Use policy net for action selection, target net for evaluation\n",
        "            current_q = policy_net(states).gather(1, torch.LongTensor(actions).unsqueeze(1))\n",
        "            next_actions = policy_net(next_states).argmax(1, keepdim=True)\n",
        "            next_q = target_net(next_states).gather(1, next_actions).detach()\n",
        "\n",
        "            target_q = torch.FloatTensor(rewards).unsqueeze(1) + gamma * next_q * (1 - torch.FloatTensor(dones).unsqueeze(1))\n",
        "\n",
        "            # Huber loss for stability\n",
        "            loss = nn.SmoothL1Loss()(current_q, target_q)\n",
        "\n",
        "            optimizer.zero_grad()\n",
        "            loss.backward()\n",
        "            # Gradient clipping to prevent explosions\n",
        "            torch.nn.utils.clip_grad_norm_(policy_net.parameters(), 1.0)\n",
        "            optimizer.step()\n",
        "\n",
        "        state = next_state\n",
        "        if done:\n",
        "            break\n",
        "\n",
        "    # Decay epsilon and update target network\n",
        "    epsilon = max(epsilon_end, epsilon * epsilon_decay)\n",
        "    if episode % target_update == 0:\n",
        "        target_net.load_state_dict(policy_net.state_dict())\n",
        "\n",
        "    episode_rewards.append(total_reward)\n",
        "    print(f\"Episode {episode}, Reward: {total_reward}, Epsilon: {epsilon:.2f}\")\n",
        "\n",
        "    # Early stopping if agent solves the environment\n",
        "    if total_reward >= 500:\n",
        "        print(\"Early stopping: Agent solved the environment!\")\n",
        "        break\n",
        "\n",
        "# Save the trained policy network\n",
        "torch.save(policy_net.state_dict(), \"cartpole_dqn_final.pth\")"
      ],
      "metadata": {
        "colab": {
          "base_uri": "https://localhost:8080/"
        },
        "id": "YrNzO-9V33yW",
        "outputId": "c6b458fe-48ab-4ecb-f49d-bbcae1e4aafe"
      },
      "execution_count": 25,
      "outputs": [
        {
          "output_type": "stream",
          "name": "stdout",
          "text": [
            "Episode 0, Reward: 14.0, Epsilon: 0.99\n",
            "Episode 1, Reward: 17.0, Epsilon: 0.99\n",
            "Episode 2, Reward: 29.0, Epsilon: 0.99\n",
            "Episode 3, Reward: 38.0, Epsilon: 0.98\n",
            "Episode 4, Reward: 10.0, Epsilon: 0.98\n",
            "Episode 5, Reward: 19.0, Epsilon: 0.97\n",
            "Episode 6, Reward: 17.0, Epsilon: 0.97\n",
            "Episode 7, Reward: 15.0, Epsilon: 0.96\n",
            "Episode 8, Reward: 18.0, Epsilon: 0.96\n",
            "Episode 9, Reward: 22.0, Epsilon: 0.95\n",
            "Episode 10, Reward: 21.0, Epsilon: 0.95\n",
            "Episode 11, Reward: 19.0, Epsilon: 0.94\n",
            "Episode 12, Reward: 29.0, Epsilon: 0.94\n",
            "Episode 13, Reward: 15.0, Epsilon: 0.93\n",
            "Episode 14, Reward: 21.0, Epsilon: 0.93\n",
            "Episode 15, Reward: 18.0, Epsilon: 0.92\n",
            "Episode 16, Reward: 16.0, Epsilon: 0.92\n",
            "Episode 17, Reward: 13.0, Epsilon: 0.91\n",
            "Episode 18, Reward: 15.0, Epsilon: 0.91\n",
            "Episode 19, Reward: 19.0, Epsilon: 0.90\n",
            "Episode 20, Reward: 17.0, Epsilon: 0.90\n",
            "Episode 21, Reward: 44.0, Epsilon: 0.90\n",
            "Episode 22, Reward: 45.0, Epsilon: 0.89\n",
            "Episode 23, Reward: 30.0, Epsilon: 0.89\n",
            "Episode 24, Reward: 23.0, Epsilon: 0.88\n",
            "Episode 25, Reward: 17.0, Epsilon: 0.88\n",
            "Episode 26, Reward: 13.0, Epsilon: 0.87\n",
            "Episode 27, Reward: 9.0, Epsilon: 0.87\n",
            "Episode 28, Reward: 13.0, Epsilon: 0.86\n",
            "Episode 29, Reward: 15.0, Epsilon: 0.86\n",
            "Episode 30, Reward: 18.0, Epsilon: 0.86\n",
            "Episode 31, Reward: 21.0, Epsilon: 0.85\n",
            "Episode 32, Reward: 19.0, Epsilon: 0.85\n",
            "Episode 33, Reward: 13.0, Epsilon: 0.84\n",
            "Episode 34, Reward: 17.0, Epsilon: 0.84\n",
            "Episode 35, Reward: 36.0, Epsilon: 0.83\n",
            "Episode 36, Reward: 12.0, Epsilon: 0.83\n",
            "Episode 37, Reward: 40.0, Epsilon: 0.83\n",
            "Episode 38, Reward: 19.0, Epsilon: 0.82\n",
            "Episode 39, Reward: 21.0, Epsilon: 0.82\n",
            "Episode 40, Reward: 21.0, Epsilon: 0.81\n",
            "Episode 41, Reward: 10.0, Epsilon: 0.81\n",
            "Episode 42, Reward: 20.0, Epsilon: 0.81\n",
            "Episode 43, Reward: 15.0, Epsilon: 0.80\n",
            "Episode 44, Reward: 13.0, Epsilon: 0.80\n",
            "Episode 45, Reward: 12.0, Epsilon: 0.79\n",
            "Episode 46, Reward: 10.0, Epsilon: 0.79\n",
            "Episode 47, Reward: 13.0, Epsilon: 0.79\n",
            "Episode 48, Reward: 12.0, Epsilon: 0.78\n",
            "Episode 49, Reward: 13.0, Epsilon: 0.78\n",
            "Episode 50, Reward: 13.0, Epsilon: 0.77\n",
            "Episode 51, Reward: 28.0, Epsilon: 0.77\n",
            "Episode 52, Reward: 12.0, Epsilon: 0.77\n",
            "Episode 53, Reward: 71.0, Epsilon: 0.76\n",
            "Episode 54, Reward: 41.0, Epsilon: 0.76\n",
            "Episode 55, Reward: 15.0, Epsilon: 0.76\n",
            "Episode 56, Reward: 27.0, Epsilon: 0.75\n",
            "Episode 57, Reward: 24.0, Epsilon: 0.75\n",
            "Episode 58, Reward: 14.0, Epsilon: 0.74\n",
            "Episode 59, Reward: 23.0, Epsilon: 0.74\n",
            "Episode 60, Reward: 14.0, Epsilon: 0.74\n",
            "Episode 61, Reward: 12.0, Epsilon: 0.73\n",
            "Episode 62, Reward: 13.0, Epsilon: 0.73\n",
            "Episode 63, Reward: 21.0, Epsilon: 0.73\n",
            "Episode 64, Reward: 13.0, Epsilon: 0.72\n",
            "Episode 65, Reward: 37.0, Epsilon: 0.72\n",
            "Episode 66, Reward: 11.0, Epsilon: 0.71\n",
            "Episode 67, Reward: 53.0, Epsilon: 0.71\n",
            "Episode 68, Reward: 21.0, Epsilon: 0.71\n",
            "Episode 69, Reward: 22.0, Epsilon: 0.70\n",
            "Episode 70, Reward: 21.0, Epsilon: 0.70\n",
            "Episode 71, Reward: 16.0, Epsilon: 0.70\n",
            "Episode 72, Reward: 20.0, Epsilon: 0.69\n",
            "Episode 73, Reward: 12.0, Epsilon: 0.69\n",
            "Episode 74, Reward: 18.0, Epsilon: 0.69\n",
            "Episode 75, Reward: 29.0, Epsilon: 0.68\n",
            "Episode 76, Reward: 59.0, Epsilon: 0.68\n",
            "Episode 77, Reward: 10.0, Epsilon: 0.68\n",
            "Episode 78, Reward: 23.0, Epsilon: 0.67\n",
            "Episode 79, Reward: 111.0, Epsilon: 0.67\n",
            "Episode 80, Reward: 23.0, Epsilon: 0.67\n",
            "Episode 81, Reward: 20.0, Epsilon: 0.66\n",
            "Episode 82, Reward: 38.0, Epsilon: 0.66\n",
            "Episode 83, Reward: 17.0, Epsilon: 0.66\n",
            "Episode 84, Reward: 59.0, Epsilon: 0.65\n",
            "Episode 85, Reward: 70.0, Epsilon: 0.65\n",
            "Episode 86, Reward: 54.0, Epsilon: 0.65\n",
            "Episode 87, Reward: 14.0, Epsilon: 0.64\n",
            "Episode 88, Reward: 47.0, Epsilon: 0.64\n",
            "Episode 89, Reward: 18.0, Epsilon: 0.64\n",
            "Episode 90, Reward: 20.0, Epsilon: 0.63\n",
            "Episode 91, Reward: 12.0, Epsilon: 0.63\n",
            "Episode 92, Reward: 19.0, Epsilon: 0.63\n",
            "Episode 93, Reward: 18.0, Epsilon: 0.62\n",
            "Episode 94, Reward: 19.0, Epsilon: 0.62\n",
            "Episode 95, Reward: 14.0, Epsilon: 0.62\n",
            "Episode 96, Reward: 16.0, Epsilon: 0.61\n",
            "Episode 97, Reward: 27.0, Epsilon: 0.61\n",
            "Episode 98, Reward: 56.0, Epsilon: 0.61\n",
            "Episode 99, Reward: 11.0, Epsilon: 0.61\n",
            "Episode 100, Reward: 18.0, Epsilon: 0.60\n",
            "Episode 101, Reward: 23.0, Epsilon: 0.60\n",
            "Episode 102, Reward: 36.0, Epsilon: 0.60\n",
            "Episode 103, Reward: 79.0, Epsilon: 0.59\n",
            "Episode 104, Reward: 26.0, Epsilon: 0.59\n",
            "Episode 105, Reward: 15.0, Epsilon: 0.59\n",
            "Episode 106, Reward: 53.0, Epsilon: 0.58\n",
            "Episode 107, Reward: 12.0, Epsilon: 0.58\n",
            "Episode 108, Reward: 14.0, Epsilon: 0.58\n",
            "Episode 109, Reward: 19.0, Epsilon: 0.58\n",
            "Episode 110, Reward: 28.0, Epsilon: 0.57\n",
            "Episode 111, Reward: 66.0, Epsilon: 0.57\n",
            "Episode 112, Reward: 95.0, Epsilon: 0.57\n",
            "Episode 113, Reward: 47.0, Epsilon: 0.56\n",
            "Episode 114, Reward: 10.0, Epsilon: 0.56\n",
            "Episode 115, Reward: 13.0, Epsilon: 0.56\n",
            "Episode 116, Reward: 16.0, Epsilon: 0.56\n",
            "Episode 117, Reward: 19.0, Epsilon: 0.55\n",
            "Episode 118, Reward: 16.0, Epsilon: 0.55\n",
            "Episode 119, Reward: 9.0, Epsilon: 0.55\n",
            "Episode 120, Reward: 50.0, Epsilon: 0.55\n",
            "Episode 121, Reward: 47.0, Epsilon: 0.54\n",
            "Episode 122, Reward: 54.0, Epsilon: 0.54\n",
            "Episode 123, Reward: 12.0, Epsilon: 0.54\n",
            "Episode 124, Reward: 76.0, Epsilon: 0.53\n",
            "Episode 125, Reward: 54.0, Epsilon: 0.53\n",
            "Episode 126, Reward: 106.0, Epsilon: 0.53\n",
            "Episode 127, Reward: 44.0, Epsilon: 0.53\n",
            "Episode 128, Reward: 21.0, Epsilon: 0.52\n",
            "Episode 129, Reward: 11.0, Epsilon: 0.52\n",
            "Episode 130, Reward: 23.0, Epsilon: 0.52\n",
            "Episode 131, Reward: 33.0, Epsilon: 0.52\n",
            "Episode 132, Reward: 140.0, Epsilon: 0.51\n",
            "Episode 133, Reward: 236.0, Epsilon: 0.51\n",
            "Episode 134, Reward: 43.0, Epsilon: 0.51\n",
            "Episode 135, Reward: 11.0, Epsilon: 0.51\n",
            "Episode 136, Reward: 206.0, Epsilon: 0.50\n",
            "Episode 137, Reward: 27.0, Epsilon: 0.50\n",
            "Episode 138, Reward: 27.0, Epsilon: 0.50\n",
            "Episode 139, Reward: 30.0, Epsilon: 0.50\n",
            "Episode 140, Reward: 31.0, Epsilon: 0.49\n",
            "Episode 141, Reward: 36.0, Epsilon: 0.49\n",
            "Episode 142, Reward: 128.0, Epsilon: 0.49\n",
            "Episode 143, Reward: 149.0, Epsilon: 0.49\n",
            "Episode 144, Reward: 15.0, Epsilon: 0.48\n",
            "Episode 145, Reward: 13.0, Epsilon: 0.48\n",
            "Episode 146, Reward: 23.0, Epsilon: 0.48\n",
            "Episode 147, Reward: 77.0, Epsilon: 0.48\n",
            "Episode 148, Reward: 16.0, Epsilon: 0.47\n",
            "Episode 149, Reward: 46.0, Epsilon: 0.47\n",
            "Episode 150, Reward: 53.0, Epsilon: 0.47\n",
            "Episode 151, Reward: 11.0, Epsilon: 0.47\n",
            "Episode 152, Reward: 12.0, Epsilon: 0.46\n",
            "Episode 153, Reward: 15.0, Epsilon: 0.46\n",
            "Episode 154, Reward: 72.0, Epsilon: 0.46\n",
            "Episode 155, Reward: 10.0, Epsilon: 0.46\n",
            "Episode 156, Reward: 16.0, Epsilon: 0.46\n",
            "Episode 157, Reward: 10.0, Epsilon: 0.45\n",
            "Episode 158, Reward: 10.0, Epsilon: 0.45\n",
            "Episode 159, Reward: 53.0, Epsilon: 0.45\n",
            "Episode 160, Reward: 17.0, Epsilon: 0.45\n",
            "Episode 161, Reward: 17.0, Epsilon: 0.44\n",
            "Episode 162, Reward: 17.0, Epsilon: 0.44\n",
            "Episode 163, Reward: 26.0, Epsilon: 0.44\n",
            "Episode 164, Reward: 89.0, Epsilon: 0.44\n",
            "Episode 165, Reward: 218.0, Epsilon: 0.44\n",
            "Episode 166, Reward: 12.0, Epsilon: 0.43\n",
            "Episode 167, Reward: 51.0, Epsilon: 0.43\n",
            "Episode 168, Reward: 16.0, Epsilon: 0.43\n",
            "Episode 169, Reward: 13.0, Epsilon: 0.43\n",
            "Episode 170, Reward: 18.0, Epsilon: 0.42\n",
            "Episode 171, Reward: 156.0, Epsilon: 0.42\n",
            "Episode 172, Reward: 44.0, Epsilon: 0.42\n",
            "Episode 173, Reward: 14.0, Epsilon: 0.42\n",
            "Episode 174, Reward: 11.0, Epsilon: 0.42\n",
            "Episode 175, Reward: 220.0, Epsilon: 0.41\n",
            "Episode 176, Reward: 14.0, Epsilon: 0.41\n",
            "Episode 177, Reward: 138.0, Epsilon: 0.41\n",
            "Episode 178, Reward: 115.0, Epsilon: 0.41\n",
            "Episode 179, Reward: 73.0, Epsilon: 0.41\n",
            "Episode 180, Reward: 26.0, Epsilon: 0.40\n",
            "Episode 181, Reward: 40.0, Epsilon: 0.40\n",
            "Episode 182, Reward: 18.0, Epsilon: 0.40\n",
            "Episode 183, Reward: 14.0, Epsilon: 0.40\n",
            "Episode 184, Reward: 267.0, Epsilon: 0.40\n",
            "Episode 185, Reward: 24.0, Epsilon: 0.39\n",
            "Episode 186, Reward: 189.0, Epsilon: 0.39\n",
            "Episode 187, Reward: 57.0, Epsilon: 0.39\n",
            "Episode 188, Reward: 57.0, Epsilon: 0.39\n",
            "Episode 189, Reward: 23.0, Epsilon: 0.39\n",
            "Episode 190, Reward: 13.0, Epsilon: 0.38\n",
            "Episode 191, Reward: 63.0, Epsilon: 0.38\n",
            "Episode 192, Reward: 16.0, Epsilon: 0.38\n",
            "Episode 193, Reward: 37.0, Epsilon: 0.38\n",
            "Episode 194, Reward: 138.0, Epsilon: 0.38\n",
            "Episode 195, Reward: 22.0, Epsilon: 0.37\n",
            "Episode 196, Reward: 23.0, Epsilon: 0.37\n",
            "Episode 197, Reward: 81.0, Epsilon: 0.37\n",
            "Episode 198, Reward: 27.0, Epsilon: 0.37\n",
            "Episode 199, Reward: 14.0, Epsilon: 0.37\n",
            "Episode 200, Reward: 22.0, Epsilon: 0.37\n",
            "Episode 201, Reward: 13.0, Epsilon: 0.36\n",
            "Episode 202, Reward: 227.0, Epsilon: 0.36\n",
            "Episode 203, Reward: 22.0, Epsilon: 0.36\n",
            "Episode 204, Reward: 10.0, Epsilon: 0.36\n",
            "Episode 205, Reward: 16.0, Epsilon: 0.36\n",
            "Episode 206, Reward: 56.0, Epsilon: 0.35\n",
            "Episode 207, Reward: 29.0, Epsilon: 0.35\n",
            "Episode 208, Reward: 16.0, Epsilon: 0.35\n",
            "Episode 209, Reward: 62.0, Epsilon: 0.35\n",
            "Episode 210, Reward: 20.0, Epsilon: 0.35\n",
            "Episode 211, Reward: 14.0, Epsilon: 0.35\n",
            "Episode 212, Reward: 244.0, Epsilon: 0.34\n",
            "Episode 213, Reward: 63.0, Epsilon: 0.34\n",
            "Episode 214, Reward: 16.0, Epsilon: 0.34\n",
            "Episode 215, Reward: 235.0, Epsilon: 0.34\n",
            "Episode 216, Reward: 45.0, Epsilon: 0.34\n",
            "Episode 217, Reward: 13.0, Epsilon: 0.34\n",
            "Episode 218, Reward: 16.0, Epsilon: 0.33\n",
            "Episode 219, Reward: 270.0, Epsilon: 0.33\n",
            "Episode 220, Reward: 10.0, Epsilon: 0.33\n",
            "Episode 221, Reward: 151.0, Epsilon: 0.33\n",
            "Episode 222, Reward: 13.0, Epsilon: 0.33\n",
            "Episode 223, Reward: 298.0, Epsilon: 0.33\n",
            "Episode 224, Reward: 40.0, Epsilon: 0.32\n",
            "Episode 225, Reward: 17.0, Epsilon: 0.32\n",
            "Episode 226, Reward: 257.0, Epsilon: 0.32\n",
            "Episode 227, Reward: 300.0, Epsilon: 0.32\n",
            "Episode 228, Reward: 156.0, Epsilon: 0.32\n",
            "Episode 229, Reward: 14.0, Epsilon: 0.32\n",
            "Episode 230, Reward: 23.0, Epsilon: 0.31\n",
            "Episode 231, Reward: 433.0, Epsilon: 0.31\n",
            "Episode 232, Reward: 218.0, Epsilon: 0.31\n",
            "Episode 233, Reward: 341.0, Epsilon: 0.31\n",
            "Episode 234, Reward: 15.0, Epsilon: 0.31\n",
            "Episode 235, Reward: 236.0, Epsilon: 0.31\n",
            "Episode 236, Reward: 185.0, Epsilon: 0.30\n",
            "Episode 237, Reward: 50.0, Epsilon: 0.30\n",
            "Episode 238, Reward: 76.0, Epsilon: 0.30\n",
            "Episode 239, Reward: 39.0, Epsilon: 0.30\n",
            "Episode 240, Reward: 399.0, Epsilon: 0.30\n",
            "Episode 241, Reward: 49.0, Epsilon: 0.30\n",
            "Episode 242, Reward: 46.0, Epsilon: 0.30\n",
            "Episode 243, Reward: 142.0, Epsilon: 0.29\n",
            "Episode 244, Reward: 239.0, Epsilon: 0.29\n",
            "Episode 245, Reward: 37.0, Epsilon: 0.29\n",
            "Episode 246, Reward: 17.0, Epsilon: 0.29\n",
            "Episode 247, Reward: 60.0, Epsilon: 0.29\n",
            "Episode 248, Reward: 67.0, Epsilon: 0.29\n",
            "Episode 249, Reward: 235.0, Epsilon: 0.29\n",
            "Episode 250, Reward: 261.0, Epsilon: 0.28\n",
            "Episode 251, Reward: 40.0, Epsilon: 0.28\n",
            "Episode 252, Reward: 144.0, Epsilon: 0.28\n",
            "Episode 253, Reward: 31.0, Epsilon: 0.28\n",
            "Episode 254, Reward: 39.0, Epsilon: 0.28\n",
            "Episode 255, Reward: 47.0, Epsilon: 0.28\n",
            "Episode 256, Reward: 90.0, Epsilon: 0.28\n",
            "Episode 257, Reward: 234.0, Epsilon: 0.27\n",
            "Episode 258, Reward: 36.0, Epsilon: 0.27\n",
            "Episode 259, Reward: 13.0, Epsilon: 0.27\n",
            "Episode 260, Reward: 28.0, Epsilon: 0.27\n",
            "Episode 261, Reward: 177.0, Epsilon: 0.27\n",
            "Episode 262, Reward: 424.0, Epsilon: 0.27\n",
            "Episode 263, Reward: 122.0, Epsilon: 0.27\n",
            "Episode 264, Reward: 12.0, Epsilon: 0.26\n",
            "Episode 265, Reward: 10.0, Epsilon: 0.26\n",
            "Episode 266, Reward: 40.0, Epsilon: 0.26\n",
            "Episode 267, Reward: 54.0, Epsilon: 0.26\n",
            "Episode 268, Reward: 131.0, Epsilon: 0.26\n",
            "Episode 269, Reward: 39.0, Epsilon: 0.26\n",
            "Episode 270, Reward: 53.0, Epsilon: 0.26\n",
            "Episode 271, Reward: 301.0, Epsilon: 0.26\n",
            "Episode 272, Reward: 13.0, Epsilon: 0.25\n",
            "Episode 273, Reward: 39.0, Epsilon: 0.25\n",
            "Episode 274, Reward: 59.0, Epsilon: 0.25\n",
            "Episode 275, Reward: 428.0, Epsilon: 0.25\n",
            "Episode 276, Reward: 17.0, Epsilon: 0.25\n",
            "Episode 277, Reward: 190.0, Epsilon: 0.25\n",
            "Episode 278, Reward: 83.0, Epsilon: 0.25\n",
            "Episode 279, Reward: 18.0, Epsilon: 0.25\n",
            "Episode 280, Reward: 15.0, Epsilon: 0.24\n",
            "Episode 281, Reward: 32.0, Epsilon: 0.24\n",
            "Episode 282, Reward: 42.0, Epsilon: 0.24\n",
            "Episode 283, Reward: 19.0, Epsilon: 0.24\n",
            "Episode 284, Reward: 290.0, Epsilon: 0.24\n",
            "Episode 285, Reward: 14.0, Epsilon: 0.24\n",
            "Episode 286, Reward: 12.0, Epsilon: 0.24\n",
            "Episode 287, Reward: 208.0, Epsilon: 0.24\n",
            "Episode 288, Reward: 100.0, Epsilon: 0.23\n",
            "Episode 289, Reward: 143.0, Epsilon: 0.23\n",
            "Episode 290, Reward: 20.0, Epsilon: 0.23\n",
            "Episode 291, Reward: 125.0, Epsilon: 0.23\n",
            "Episode 292, Reward: 16.0, Epsilon: 0.23\n",
            "Episode 293, Reward: 17.0, Epsilon: 0.23\n",
            "Episode 294, Reward: 11.0, Epsilon: 0.23\n",
            "Episode 295, Reward: 29.0, Epsilon: 0.23\n",
            "Episode 296, Reward: 207.0, Epsilon: 0.23\n",
            "Episode 297, Reward: 37.0, Epsilon: 0.22\n",
            "Episode 298, Reward: 11.0, Epsilon: 0.22\n",
            "Episode 299, Reward: 128.0, Epsilon: 0.22\n",
            "Episode 300, Reward: 11.0, Epsilon: 0.22\n",
            "Episode 301, Reward: 17.0, Epsilon: 0.22\n",
            "Episode 302, Reward: 14.0, Epsilon: 0.22\n",
            "Episode 303, Reward: 18.0, Epsilon: 0.22\n",
            "Episode 304, Reward: 13.0, Epsilon: 0.22\n",
            "Episode 305, Reward: 160.0, Epsilon: 0.22\n",
            "Episode 306, Reward: 20.0, Epsilon: 0.21\n",
            "Episode 307, Reward: 11.0, Epsilon: 0.21\n",
            "Episode 308, Reward: 94.0, Epsilon: 0.21\n",
            "Episode 309, Reward: 206.0, Epsilon: 0.21\n",
            "Episode 310, Reward: 14.0, Epsilon: 0.21\n",
            "Episode 311, Reward: 50.0, Epsilon: 0.21\n",
            "Episode 312, Reward: 22.0, Epsilon: 0.21\n",
            "Episode 313, Reward: 38.0, Epsilon: 0.21\n",
            "Episode 314, Reward: 116.0, Epsilon: 0.21\n",
            "Episode 315, Reward: 145.0, Epsilon: 0.21\n",
            "Episode 316, Reward: 500.0, Epsilon: 0.20\n",
            "Early stopping: Agent solved the environment!\n"
          ]
        }
      ]
    },
    {
      "cell_type": "code",
      "source": [
        "from google.colab import files\n",
        "files.download(\"cartpole_dqn_final.pth\")"
      ],
      "metadata": {
        "colab": {
          "base_uri": "https://localhost:8080/",
          "height": 17
        },
        "id": "fwx03uHrJwJc",
        "outputId": "4e67f9e1-defb-4aa6-f0b9-0f04eaf059ee"
      },
      "execution_count": null,
      "outputs": [
        {
          "output_type": "display_data",
          "data": {
            "text/plain": [
              "<IPython.core.display.Javascript object>"
            ],
            "application/javascript": [
              "\n",
              "    async function download(id, filename, size) {\n",
              "      if (!google.colab.kernel.accessAllowed) {\n",
              "        return;\n",
              "      }\n",
              "      const div = document.createElement('div');\n",
              "      const label = document.createElement('label');\n",
              "      label.textContent = `Downloading \"${filename}\": `;\n",
              "      div.appendChild(label);\n",
              "      const progress = document.createElement('progress');\n",
              "      progress.max = size;\n",
              "      div.appendChild(progress);\n",
              "      document.body.appendChild(div);\n",
              "\n",
              "      const buffers = [];\n",
              "      let downloaded = 0;\n",
              "\n",
              "      const channel = await google.colab.kernel.comms.open(id);\n",
              "      // Send a message to notify the kernel that we're ready.\n",
              "      channel.send({})\n",
              "\n",
              "      for await (const message of channel.messages) {\n",
              "        // Send a message to notify the kernel that we're ready.\n",
              "        channel.send({})\n",
              "        if (message.buffers) {\n",
              "          for (const buffer of message.buffers) {\n",
              "            buffers.push(buffer);\n",
              "            downloaded += buffer.byteLength;\n",
              "            progress.value = downloaded;\n",
              "          }\n",
              "        }\n",
              "      }\n",
              "      const blob = new Blob(buffers, {type: 'application/binary'});\n",
              "      const a = document.createElement('a');\n",
              "      a.href = window.URL.createObjectURL(blob);\n",
              "      a.download = filename;\n",
              "      div.appendChild(a);\n",
              "      a.click();\n",
              "      div.remove();\n",
              "    }\n",
              "  "
            ]
          },
          "metadata": {}
        },
        {
          "output_type": "display_data",
          "data": {
            "text/plain": [
              "<IPython.core.display.Javascript object>"
            ],
            "application/javascript": [
              "download(\"download_d72d7be5-f2d8-4c21-9dfe-b46e9fc8e2d4\", \"cartpole_dqn_final.pth\", 273078)"
            ]
          },
          "metadata": {}
        }
      ]
    },
    {
      "cell_type": "markdown",
      "source": [
        "6. After training with the environment, we can demonstrate that the agent can take a state (observation) from the environment and output a valid action."
      ],
      "metadata": {
        "id": "qiCtwboq5PVM"
      }
    },
    {
      "cell_type": "code",
      "source": [
        "# Load trained policy_net (after training)\n",
        "state = env.reset()\n",
        "with torch.no_grad():\n",
        "    q_values = policy_net(torch.FloatTensor(state))\n",
        "    action = q_values.argmax().item()\n",
        "print(\"Observation:\", state)\n",
        "print(\"Chosen action:\", action)"
      ],
      "metadata": {
        "colab": {
          "base_uri": "https://localhost:8080/"
        },
        "id": "bEITHV_65Nzo",
        "outputId": "7092de97-7741-48cc-b7b7-ad2f2a34a1d8"
      },
      "execution_count": 26,
      "outputs": [
        {
          "output_type": "stream",
          "name": "stdout",
          "text": [
            "Observation: [ 0.02455714 -0.00941761  0.01743807  0.01045784]\n",
            "Chosen action: 0\n"
          ]
        }
      ]
    },
    {
      "cell_type": "markdown",
      "source": [
        "## Task 2: Demonstrate the effectiveness of the RL agent"
      ],
      "metadata": {
        "id": "EXO0ZqPJ55yN"
      }
    },
    {
      "cell_type": "markdown",
      "source": [
        "Once the RL agent is ready, we run the agent against 100 episodes and track the cumulative reward for each episode.\n",
        "\n",
        "Then, we plot the result to visualize the agent's performance over the 100 episodes."
      ],
      "metadata": {
        "id": "GtElKt4x8TGA"
      }
    },
    {
      "cell_type": "code",
      "source": [
        "episode_results = []\n",
        "for _ in range(100):\n",
        "    state = env.reset()\n",
        "    total_reward = 0\n",
        "    while True:\n",
        "        with torch.no_grad():\n",
        "            q_values = policy_net(torch.FloatTensor(state))\n",
        "            action = q_values.argmax().item()\n",
        "        state, reward, done, _ = env.step(action)\n",
        "        total_reward += reward\n",
        "        if done:\n",
        "            break\n",
        "    episode_results.append(total_reward)\n",
        "\n",
        "plt.plot(episode_results)\n",
        "plt.title('Cumulative Reward for Each Episode')\n",
        "plt.ylabel('Cumulative Reward')\n",
        "plt.xlabel('Episode')\n",
        "plt.show()\n",
        "\n",
        "average_reward = np.mean(episode_results)\n",
        "print(f\"Average cumulative reward: {average_reward:.2f}\")\n",
        "print(\"Is my agent good enough?\", average_reward > 195)"
      ],
      "metadata": {
        "colab": {
          "base_uri": "https://localhost:8080/",
          "height": 506
        },
        "id": "LI6356Eu5-xU",
        "outputId": "a4672751-2690-4612-d389-6e0977141f15"
      },
      "execution_count": 27,
      "outputs": [
        {
          "output_type": "display_data",
          "data": {
            "text/plain": [
              "<Figure size 640x480 with 1 Axes>"
            ],
            "image/png": "[encoded data removed]"
          },
          "metadata": {}
        },
        {
          "output_type": "stream",
          "name": "stdout",
          "text": [
            "Average cumulative reward: 462.55\n",
            "Is my agent good enough? True\n"
          ]
        }
      ]
    },
    {
      "cell_type": "markdown",
      "source": [
        "As stated above, we noticed the average cumulative reward is 338.17.\n",
        "\n",
        "Since it is above 195, it indicates that our team's agent is good enough to solve the environment, that is to balance the pole on th cart."
      ],
      "metadata": {
        "id": "db-Apwu08vhj"
      }
    },
    {
      "cell_type": "markdown",
      "source": [
        "## Task 3: Render one episode played by the agent"
      ],
      "metadata": {
        "id": "Yg0DCT38lFA6"
      }
    },
    {
      "cell_type": "markdown",
      "source": [
        "Finally, we plug our agent to the code below to obtain rendered result."
      ],
      "metadata": {
        "id": "vx1awMr9lc_w"
      }
    },
    {
      "cell_type": "code",
      "source": [
        "\n",
        "policy_net.eval()  # Set network to evaluation mode\n",
        "\n",
        "# Create environment with video recording\n",
        "env = RecordVideo(gym.make(\"CartPole-v1\"), \"./video\")\n",
        "observation = env.reset()\n",
        "\n",
        "while True:\n",
        "    # Get action from trained agent\n",
        "    with torch.no_grad():\n",
        "        q_values = policy_net(torch.FloatTensor(observation))\n",
        "        action = q_values.argmax().item()\n",
        "\n",
        "    # Take the chosen action\n",
        "    observation, reward, done, info = env.step(action)\n",
        "\n",
        "    if done:\n",
        "        break\n",
        "\n",
        "env.close()\n",
        "show_video()"
      ],
      "metadata": {
        "colab": {
          "base_uri": "https://localhost:8080/",
          "height": 421
        },
        "id": "LYyavfbIa47D",
        "outputId": "443d8a13-cde0-4d24-a3de-854d25af2f88"
      },
      "execution_count": 31,
      "outputs": [
        {
          "output_type": "display_data",
          "data": {
            "text/plain": [
              "<IPython.core.display.HTML object>"
            ],
            "text/html": [
              "<video alt=\"test\" autoplay\n",
              "                loop controls style=\"height: 400px;\">\n",
              "                <source src=\"data:video/mp4;base64,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\" type=\"video/mp4\" />\n",
              "             </video>"
            ]
          },
          "metadata": {}
        }
      ]
    }
  ]
}