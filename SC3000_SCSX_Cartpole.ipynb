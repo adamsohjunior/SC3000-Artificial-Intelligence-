{
  "nbformat": 4,
  "nbformat_minor": 0,
  "metadata": {
    "colab": {
      "provenance": [],
      "include_colab_link": true
    },
    "kernelspec": {
      "name": "python3",
      "display_name": "Python 3"
    },
    "language_info": {
      "name": "python"
    }
  },
  "cells": [
    {
      "cell_type": "markdown",
      "metadata": {
        "id": "view-in-github",
        "colab_type": "text"
      },
      "source": [
        "<a href=\"https://colab.research.google.com/github/adamsohjunior/SC3000-Artificial-Intelligence-/blob/main/SC3000_SCSX_Cartpole.ipynb\" target=\"_parent\"><img src=\"https://colab.research.google.com/assets/colab-badge.svg\" alt=\"Open In Colab\"/></a>"
      ]
    },
    {
      "cell_type": "markdown",
      "source": [
        "# Tutorial and Sample Code for Balancing a Pole on a Cart"
      ],
      "metadata": {
        "id": "ZauhjPSfX7pI"
      }
    },
    {
      "cell_type": "markdown",
      "source": [
        "## Installing dependencies:"
      ],
      "metadata": {
        "id": "UBiYOoesYMvr"
      }
    },
    {
      "cell_type": "code",
      "execution_count": 1,
      "metadata": {
        "colab": {
          "base_uri": "https://localhost:8080/"
        },
        "id": "PbgnVwZmX5uW",
        "outputId": "ccf6f94d-f2e6-4961-9052-67a45b9b6b08"
      },
      "outputs": [
        {
          "output_type": "stream",
          "name": "stdout",
          "text": [
            "Requirement already satisfied: gym[classic_control] in /usr/local/lib/python3.11/dist-packages (0.26.2)\n",
            "Requirement already satisfied: numpy>=1.18.0 in /usr/local/lib/python3.11/dist-packages (from gym[classic_control]) (2.2.4)\n",
            "Requirement already satisfied: cloudpickle>=1.2.0 in /usr/local/lib/python3.11/dist-packages (from gym[classic_control]) (3.1.1)\n",
            "Requirement already satisfied: gym_notices>=0.0.4 in /usr/local/lib/python3.11/dist-packages (from gym[classic_control]) (0.0.8)\n",
            "Collecting pygame==2.1.0 (from gym[classic_control])\n",
            "  Using cached pygame-2.1.0.tar.gz (5.8 MB)\n",
            "  \u001b[1;31merror\u001b[0m: \u001b[1msubprocess-exited-with-error\u001b[0m\n",
            "  \n",
            "  \u001b[31m×\u001b[0m \u001b[32mpython setup.py egg_info\u001b[0m did not run successfully.\n",
            "  \u001b[31m│\u001b[0m exit code: \u001b[1;36m1\u001b[0m\n",
            "  \u001b[31m╰─>\u001b[0m See above for output.\n",
            "  \n",
            "  \u001b[1;35mnote\u001b[0m: This error originates from a subprocess, and is likely not a problem with pip.\n",
            "  Preparing metadata (setup.py) ... \u001b[?25l\u001b[?25herror\n",
            "\u001b[1;31merror\u001b[0m: \u001b[1mmetadata-generation-failed\u001b[0m\n",
            "\n",
            "\u001b[31m×\u001b[0m Encountered error while generating package metadata.\n",
            "\u001b[31m╰─>\u001b[0m See above for output.\n",
            "\n",
            "\u001b[1;35mnote\u001b[0m: This is an issue with the package mentioned above, not pip.\n",
            "\u001b[1;36mhint\u001b[0m: See above for details.\n",
            "Requirement already satisfied: setuptools in /usr/local/lib/python3.11/dist-packages (77.0.3)\n",
            "Requirement already satisfied: numpy in /usr/local/lib/python3.11/dist-packages (2.2.4)\n",
            "Requirement already satisfied: gym in /usr/local/lib/python3.11/dist-packages (0.26.2)\n",
            "Requirement already satisfied: numpy>=1.18.0 in /usr/local/lib/python3.11/dist-packages (from gym) (2.2.4)\n",
            "Requirement already satisfied: cloudpickle>=1.2.0 in /usr/local/lib/python3.11/dist-packages (from gym) (3.1.1)\n",
            "Requirement already satisfied: gym_notices>=0.0.4 in /usr/local/lib/python3.11/dist-packages (from gym) (0.0.8)\n"
          ]
        }
      ],
      "source": [
        "!apt-get install -y xvfb python-opengl > /dev/null 2>&1\n",
        "!pip install gym pyvirtualdisplay > /dev/null 2>&1\n",
        "!pip install gym pyvirtualdisplay > /dev/null 2>&1\n",
        "!apt-get install -y xvfb python-opengl ffmpeg > /dev/null 2>&1\n",
        "!pip install gym[classic_control]\n",
        "!apt-get update > /dev/null 2>&1\n",
        "!apt-get install cmake > /dev/null 2>&1\n",
        "!pip install --upgrade setuptools 2>&1\n",
        "!pip install ez_setup > /dev/null 2>&1"
      ]
    },
    {
      "cell_type": "code",
      "source": [
        "!apt-get update\n",
        "!apt-get install -y python3-pygame"
      ],
      "metadata": {
        "colab": {
          "base_uri": "https://localhost:8080/"
        },
        "id": "mtCGFrMIbdBY",
        "outputId": "99f48508-bb0e-469a-c32d-7c730b210e19"
      },
      "execution_count": 2,
      "outputs": [
        {
          "output_type": "stream",
          "name": "stdout",
          "text": [
            "\r0% [Working]\r            \rHit:1 http://security.ubuntu.com/ubuntu jammy-security InRelease\n",
            "Hit:2 https://cloud.r-project.org/bin/linux/ubuntu jammy-cran40/ InRelease\n",
            "Hit:3 https://developer.download.nvidia.com/compute/cuda/repos/ubuntu2204/x86_64  InRelease\n",
            "Hit:4 http://archive.ubuntu.com/ubuntu jammy InRelease\n",
            "Hit:5 https://r2u.stat.illinois.edu/ubuntu jammy InRelease\n",
            "Hit:6 http://archive.ubuntu.com/ubuntu jammy-updates InRelease\n",
            "Hit:7 http://archive.ubuntu.com/ubuntu jammy-backports InRelease\n",
            "Hit:8 https://ppa.launchpadcontent.net/deadsnakes/ppa/ubuntu jammy InRelease\n",
            "Hit:9 https://ppa.launchpadcontent.net/graphics-drivers/ppa/ubuntu jammy InRelease\n",
            "Hit:10 https://ppa.launchpadcontent.net/ubuntugis/ppa/ubuntu jammy InRelease\n",
            "Reading package lists... Done\n",
            "W: Skipping acquire of configured file 'main/source/Sources' as repository 'https://r2u.stat.illinois.edu/ubuntu jammy InRelease' does not seem to provide it (sources.list entry misspelt?)\n",
            "Reading package lists... Done\n",
            "Building dependency tree... Done\n",
            "Reading state information... Done\n",
            "python3-pygame is already the newest version (2.1.2+dfsg-3).\n",
            "0 upgraded, 0 newly installed, 0 to remove and 30 not upgraded.\n"
          ]
        }
      ]
    },
    {
      "cell_type": "markdown",
      "source": [
        "## Importing dependencies and define helper functions"
      ],
      "metadata": {
        "id": "RwKbYeTgbaTA"
      }
    },
    {
      "cell_type": "code",
      "source": [
        "import gym\n",
        "from gym import logger as gymlogger\n",
        "from gym.wrappers import RecordVideo\n",
        "gymlogger.set_level(40) #error only\n",
        "import tensorflow as tf\n",
        "import numpy as np\n",
        "import random\n",
        "import matplotlib\n",
        "import matplotlib.pyplot as plt\n",
        "%matplotlib inline\n",
        "import math\n",
        "import glob\n",
        "import io\n",
        "import base64\n",
        "from IPython.display import HTML\n",
        "from IPython import display as ipythondisplay\n",
        "\n",
        "def show_video():\n",
        "  mp4list = glob.glob('video/*.mp4')\n",
        "  if len(mp4list) > 0:\n",
        "    mp4 = mp4list[0]\n",
        "    video = io.open(mp4, 'r+b').read()\n",
        "    encoded = base64.b64encode(video)\n",
        "    ipythondisplay.display(HTML(data='''<video alt=\"test\" autoplay\n",
        "                loop controls style=\"height: 400px;\">\n",
        "                <source src=\"data:video/mp4;base64,{0}\" type=\"video/mp4\" />\n",
        "             </video>'''.format(encoded.decode('ascii'))))\n",
        "  else:\n",
        "    print(\"Could not find video\")"
      ],
      "metadata": {
        "id": "j6KpgCLGYWmj"
      },
      "execution_count": 4,
      "outputs": []
    },
    {
      "cell_type": "markdown",
      "source": [
        "Set up extra dependencies to be used later in the code implementation below."
      ],
      "metadata": {
        "id": "zn8B5vEtfCdg"
      }
    },
    {
      "cell_type": "code",
      "source": [
        "import torch\n",
        "import torch.nn as nn\n",
        "import torch.optim as optim\n",
        "from collections import deque"
      ],
      "metadata": {
        "id": "83YfmV2DeJgB"
      },
      "execution_count": 5,
      "outputs": []
    },
    {
      "cell_type": "markdown",
      "source": [
        "## Tutorial: Loading CartPole environment"
      ],
      "metadata": {
        "id": "ehbqP9CXbmo7"
      }
    },
    {
      "cell_type": "code",
      "source": [
        "env = gym.make(\"CartPole-v1\")"
      ],
      "metadata": {
        "id": "Go12dH4qbwBy"
      },
      "execution_count": 6,
      "outputs": []
    },
    {
      "cell_type": "markdown",
      "source": [
        "We can check the action and observation space of this environment. Discrete(2) means that there are two valid discrete actions: 0 & 1."
      ],
      "metadata": {
        "id": "9XZ9g3xrcAXE"
      }
    },
    {
      "cell_type": "code",
      "source": [
        "print(env.action_space)"
      ],
      "metadata": {
        "colab": {
          "base_uri": "https://localhost:8080/"
        },
        "id": "ytxvVmLdcRyw",
        "outputId": "f94c0941-2d1c-4069-f8e8-3a105555ef01"
      },
      "execution_count": 7,
      "outputs": [
        {
          "output_type": "stream",
          "name": "stdout",
          "text": [
            "Discrete(2)\n"
          ]
        }
      ]
    },
    {
      "cell_type": "markdown",
      "source": [
        "The observation space is given below. The first two arrays define the min and max values of the 4 observed values, corresponding to cart position, velocity and pole angle, angular velocity."
      ],
      "metadata": {
        "id": "pVXGWi_Ncfg-"
      }
    },
    {
      "cell_type": "code",
      "source": [
        "print(env.observation_space)"
      ],
      "metadata": {
        "colab": {
          "base_uri": "https://localhost:8080/"
        },
        "id": "DyqHr9I5cdkX",
        "outputId": "480328d9-b511-464c-98c6-54c00cbeb05a"
      },
      "execution_count": 8,
      "outputs": [
        {
          "output_type": "stream",
          "name": "stdout",
          "text": [
            "Box([-4.8000002e+00 -3.4028235e+38 -4.1887903e-01 -3.4028235e+38], [4.8000002e+00 3.4028235e+38 4.1887903e-01 3.4028235e+38], (4,), float32)\n"
          ]
        }
      ]
    },
    {
      "cell_type": "markdown",
      "source": [
        "We call each round of the pole-balancing game an \"episode\". At the start of each episode, make sure the environment is reset, which chooses a random initial state, e.g., pole slightly tilted to the right. This initialization can be achieved by the code below, which returns the observation of the initial state."
      ],
      "metadata": {
        "id": "HFOdaU2Gdyg0"
      }
    },
    {
      "cell_type": "code",
      "source": [
        "observation = env.reset()\n",
        "print(\"Initial observations:\", observation)"
      ],
      "metadata": {
        "colab": {
          "base_uri": "https://localhost:8080/"
        },
        "id": "VMr6qAqxdOsm",
        "outputId": "910badf2-9ed6-465f-e08c-0caaef1570ce"
      },
      "execution_count": 9,
      "outputs": [
        {
          "output_type": "stream",
          "name": "stdout",
          "text": [
            "Initial observations: (array([ 0.01809426, -0.03951102, -0.02037467, -0.01710771], dtype=float32), {})\n"
          ]
        }
      ]
    },
    {
      "cell_type": "markdown",
      "source": [
        "For the CartPole environment, there are two possible actions: 0 for pushing to the left and 1 for pushing to the right. For example, we can push the cart to the left using code below, which returns the new observation, the current reward, an indicator of whether the game ends, and some additional information (not used in this project). For CartPole, the game ends when the pole is significantly tilted or you manage to balance the pole for 500 steps. You get exactly 1 reward for each step before the game ends (i.e., max cumulative reward is 500)."
      ],
      "metadata": {
        "id": "qnG2QdfbeZrI"
      }
    },
    {
      "cell_type": "code",
      "source": [
        "observation, reward, done, info = env.step(0)\n",
        "print(\"New observations after choosing action 0:\", observation)\n",
        "print(\"Reward for this step:\", reward)\n",
        "print(\"Is this round done?\", done)"
      ],
      "metadata": {
        "colab": {
          "base_uri": "https://localhost:8080/",
          "height": 384
        },
        "id": "MmfMDvyYdWGk",
        "outputId": "2cfa5e0d-6afc-4431-e41b-5550993377f8"
      },
      "execution_count": 10,
      "outputs": [
        {
          "output_type": "error",
          "ename": "AttributeError",
          "evalue": "module 'numpy' has no attribute 'bool8'",
          "traceback": [
            "\u001b[0;31m---------------------------------------------------------------------------\u001b[0m",
            "\u001b[0;31mAttributeError\u001b[0m                            Traceback (most recent call last)",
            "\u001b[0;32m<ipython-input-10-0c2f7a598aae>\u001b[0m in \u001b[0;36m<cell line: 0>\u001b[0;34m()\u001b[0m\n\u001b[0;32m----> 1\u001b[0;31m \u001b[0mobservation\u001b[0m\u001b[0;34m,\u001b[0m \u001b[0mreward\u001b[0m\u001b[0;34m,\u001b[0m \u001b[0mdone\u001b[0m\u001b[0;34m,\u001b[0m \u001b[0minfo\u001b[0m \u001b[0;34m=\u001b[0m \u001b[0menv\u001b[0m\u001b[0;34m.\u001b[0m\u001b[0mstep\u001b[0m\u001b[0;34m(\u001b[0m\u001b[0;36m0\u001b[0m\u001b[0;34m)\u001b[0m\u001b[0;34m\u001b[0m\u001b[0;34m\u001b[0m\u001b[0m\n\u001b[0m\u001b[1;32m      2\u001b[0m \u001b[0mprint\u001b[0m\u001b[0;34m(\u001b[0m\u001b[0;34m\"New observations after choosing action 0:\"\u001b[0m\u001b[0;34m,\u001b[0m \u001b[0mobservation\u001b[0m\u001b[0;34m)\u001b[0m\u001b[0;34m\u001b[0m\u001b[0;34m\u001b[0m\u001b[0m\n\u001b[1;32m      3\u001b[0m \u001b[0mprint\u001b[0m\u001b[0;34m(\u001b[0m\u001b[0;34m\"Reward for this step:\"\u001b[0m\u001b[0;34m,\u001b[0m \u001b[0mreward\u001b[0m\u001b[0;34m)\u001b[0m\u001b[0;34m\u001b[0m\u001b[0;34m\u001b[0m\u001b[0m\n\u001b[1;32m      4\u001b[0m \u001b[0mprint\u001b[0m\u001b[0;34m(\u001b[0m\u001b[0;34m\"Is this round done?\"\u001b[0m\u001b[0;34m,\u001b[0m \u001b[0mdone\u001b[0m\u001b[0;34m)\u001b[0m\u001b[0;34m\u001b[0m\u001b[0;34m\u001b[0m\u001b[0m\n",
            "\u001b[0;32m/usr/local/lib/python3.11/dist-packages/gym/wrappers/time_limit.py\u001b[0m in \u001b[0;36mstep\u001b[0;34m(self, action)\u001b[0m\n\u001b[1;32m     48\u001b[0m \u001b[0;34m\u001b[0m\u001b[0m\n\u001b[1;32m     49\u001b[0m         \"\"\"\n\u001b[0;32m---> 50\u001b[0;31m         \u001b[0mobservation\u001b[0m\u001b[0;34m,\u001b[0m \u001b[0mreward\u001b[0m\u001b[0;34m,\u001b[0m \u001b[0mterminated\u001b[0m\u001b[0;34m,\u001b[0m \u001b[0mtruncated\u001b[0m\u001b[0;34m,\u001b[0m \u001b[0minfo\u001b[0m \u001b[0;34m=\u001b[0m \u001b[0mself\u001b[0m\u001b[0;34m.\u001b[0m\u001b[0menv\u001b[0m\u001b[0;34m.\u001b[0m\u001b[0mstep\u001b[0m\u001b[0;34m(\u001b[0m\u001b[0maction\u001b[0m\u001b[0;34m)\u001b[0m\u001b[0;34m\u001b[0m\u001b[0;34m\u001b[0m\u001b[0m\n\u001b[0m\u001b[1;32m     51\u001b[0m         \u001b[0mself\u001b[0m\u001b[0;34m.\u001b[0m\u001b[0m_elapsed_steps\u001b[0m \u001b[0;34m+=\u001b[0m \u001b[0;36m1\u001b[0m\u001b[0;34m\u001b[0m\u001b[0;34m\u001b[0m\u001b[0m\n\u001b[1;32m     52\u001b[0m \u001b[0;34m\u001b[0m\u001b[0m\n",
            "\u001b[0;32m/usr/local/lib/python3.11/dist-packages/gym/wrappers/order_enforcing.py\u001b[0m in \u001b[0;36mstep\u001b[0;34m(self, action)\u001b[0m\n\u001b[1;32m     35\u001b[0m         \u001b[0;32mif\u001b[0m \u001b[0;32mnot\u001b[0m \u001b[0mself\u001b[0m\u001b[0;34m.\u001b[0m\u001b[0m_has_reset\u001b[0m\u001b[0;34m:\u001b[0m\u001b[0;34m\u001b[0m\u001b[0;34m\u001b[0m\u001b[0m\n\u001b[1;32m     36\u001b[0m             \u001b[0;32mraise\u001b[0m \u001b[0mResetNeeded\u001b[0m\u001b[0;34m(\u001b[0m\u001b[0;34m\"Cannot call env.step() before calling env.reset()\"\u001b[0m\u001b[0;34m)\u001b[0m\u001b[0;34m\u001b[0m\u001b[0;34m\u001b[0m\u001b[0m\n\u001b[0;32m---> 37\u001b[0;31m         \u001b[0;32mreturn\u001b[0m \u001b[0mself\u001b[0m\u001b[0;34m.\u001b[0m\u001b[0menv\u001b[0m\u001b[0;34m.\u001b[0m\u001b[0mstep\u001b[0m\u001b[0;34m(\u001b[0m\u001b[0maction\u001b[0m\u001b[0;34m)\u001b[0m\u001b[0;34m\u001b[0m\u001b[0;34m\u001b[0m\u001b[0m\n\u001b[0m\u001b[1;32m     38\u001b[0m \u001b[0;34m\u001b[0m\u001b[0m\n\u001b[1;32m     39\u001b[0m     \u001b[0;32mdef\u001b[0m \u001b[0mreset\u001b[0m\u001b[0;34m(\u001b[0m\u001b[0mself\u001b[0m\u001b[0;34m,\u001b[0m \u001b[0;34m**\u001b[0m\u001b[0mkwargs\u001b[0m\u001b[0;34m)\u001b[0m\u001b[0;34m:\u001b[0m\u001b[0;34m\u001b[0m\u001b[0;34m\u001b[0m\u001b[0m\n",
            "\u001b[0;32m/usr/local/lib/python3.11/dist-packages/gym/wrappers/env_checker.py\u001b[0m in \u001b[0;36mstep\u001b[0;34m(self, action)\u001b[0m\n\u001b[1;32m     35\u001b[0m         \u001b[0;32mif\u001b[0m \u001b[0mself\u001b[0m\u001b[0;34m.\u001b[0m\u001b[0mchecked_step\u001b[0m \u001b[0;32mis\u001b[0m \u001b[0;32mFalse\u001b[0m\u001b[0;34m:\u001b[0m\u001b[0;34m\u001b[0m\u001b[0;34m\u001b[0m\u001b[0m\n\u001b[1;32m     36\u001b[0m             \u001b[0mself\u001b[0m\u001b[0;34m.\u001b[0m\u001b[0mchecked_step\u001b[0m \u001b[0;34m=\u001b[0m \u001b[0;32mTrue\u001b[0m\u001b[0;34m\u001b[0m\u001b[0;34m\u001b[0m\u001b[0m\n\u001b[0;32m---> 37\u001b[0;31m             \u001b[0;32mreturn\u001b[0m \u001b[0menv_step_passive_checker\u001b[0m\u001b[0;34m(\u001b[0m\u001b[0mself\u001b[0m\u001b[0;34m.\u001b[0m\u001b[0menv\u001b[0m\u001b[0;34m,\u001b[0m \u001b[0maction\u001b[0m\u001b[0;34m)\u001b[0m\u001b[0;34m\u001b[0m\u001b[0;34m\u001b[0m\u001b[0m\n\u001b[0m\u001b[1;32m     38\u001b[0m         \u001b[0;32melse\u001b[0m\u001b[0;34m:\u001b[0m\u001b[0;34m\u001b[0m\u001b[0;34m\u001b[0m\u001b[0m\n\u001b[1;32m     39\u001b[0m             \u001b[0;32mreturn\u001b[0m \u001b[0mself\u001b[0m\u001b[0;34m.\u001b[0m\u001b[0menv\u001b[0m\u001b[0;34m.\u001b[0m\u001b[0mstep\u001b[0m\u001b[0;34m(\u001b[0m\u001b[0maction\u001b[0m\u001b[0;34m)\u001b[0m\u001b[0;34m\u001b[0m\u001b[0;34m\u001b[0m\u001b[0m\n",
            "\u001b[0;32m/usr/local/lib/python3.11/dist-packages/gym/utils/passive_env_checker.py\u001b[0m in \u001b[0;36menv_step_passive_checker\u001b[0;34m(env, action)\u001b[0m\n\u001b[1;32m    231\u001b[0m \u001b[0;34m\u001b[0m\u001b[0m\n\u001b[1;32m    232\u001b[0m         \u001b[0;31m# np.bool is actual python bool not np boolean type, therefore bool_ or bool8\u001b[0m\u001b[0;34m\u001b[0m\u001b[0;34m\u001b[0m\u001b[0m\n\u001b[0;32m--> 233\u001b[0;31m         \u001b[0;32mif\u001b[0m \u001b[0;32mnot\u001b[0m \u001b[0misinstance\u001b[0m\u001b[0;34m(\u001b[0m\u001b[0mterminated\u001b[0m\u001b[0;34m,\u001b[0m \u001b[0;34m(\u001b[0m\u001b[0mbool\u001b[0m\u001b[0;34m,\u001b[0m \u001b[0mnp\u001b[0m\u001b[0;34m.\u001b[0m\u001b[0mbool8\u001b[0m\u001b[0;34m)\u001b[0m\u001b[0;34m)\u001b[0m\u001b[0;34m:\u001b[0m\u001b[0;34m\u001b[0m\u001b[0;34m\u001b[0m\u001b[0m\n\u001b[0m\u001b[1;32m    234\u001b[0m             logger.warn(\n\u001b[1;32m    235\u001b[0m                 \u001b[0;34mf\"Expects `terminated` signal to be a boolean, actual type: {type(terminated)}\"\u001b[0m\u001b[0;34m\u001b[0m\u001b[0;34m\u001b[0m\u001b[0m\n",
            "\u001b[0;32m/usr/local/lib/python3.11/dist-packages/numpy/__init__.py\u001b[0m in \u001b[0;36m__getattr__\u001b[0;34m(attr)\u001b[0m\n\u001b[1;32m    412\u001b[0m             \u001b[0;32mreturn\u001b[0m \u001b[0mchar\u001b[0m\u001b[0;34m.\u001b[0m\u001b[0mchararray\u001b[0m\u001b[0;34m\u001b[0m\u001b[0;34m\u001b[0m\u001b[0m\n\u001b[1;32m    413\u001b[0m \u001b[0;34m\u001b[0m\u001b[0m\n\u001b[0;32m--> 414\u001b[0;31m         raise AttributeError(\"module {!r} has no attribute \"\n\u001b[0m\u001b[1;32m    415\u001b[0m                              \"{!r}\".format(__name__, attr))\n\u001b[1;32m    416\u001b[0m \u001b[0;34m\u001b[0m\u001b[0m\n",
            "\u001b[0;31mAttributeError\u001b[0m: module 'numpy' has no attribute 'bool8'"
          ]
        }
      ]
    },
    {
      "cell_type": "markdown",
      "source": [
        "Now we can play a full round of the game using a naive strategy (always choosing action 0), and show the cumulative reward in the round. Note that reward returned by env.step(*) corresponds to the reward for current step. So we have to accumulate the reward for each step. Clearly, the naive strategy performs poorly by surviving only a dozen of steps."
      ],
      "metadata": {
        "id": "tj0zCh59fhBb"
      }
    },
    {
      "cell_type": "code",
      "source": [
        "observation = env.reset()\n",
        "cumulative_reward = 0\n",
        "done = False\n",
        "while not done:\n",
        "    observation, reward, done, info = env.step(0)\n",
        "    cumulative_reward += reward\n",
        "print(\"Cumulative reward for this round:\", cumulative_reward)"
      ],
      "metadata": {
        "colab": {
          "base_uri": "https://localhost:8080/"
        },
        "id": "AVucQVRwf6Jm",
        "outputId": "316f079d-6d40-4e17-c372-98d413198045"
      },
      "execution_count": 18,
      "outputs": [
        {
          "output_type": "stream",
          "name": "stdout",
          "text": [
            "Cumulative reward for this round: 8.0\n"
          ]
        }
      ]
    },
    {
      "cell_type": "markdown",
      "source": [
        "## Task 1: Development of an RL agent"
      ],
      "metadata": {
        "id": "2oIzK9SzhlWN"
      }
    },
    {
      "cell_type": "markdown",
      "source": [
        "An example of a naive agent is given below, which randomly chooses an action regardless of the observation:"
      ],
      "metadata": {
        "id": "PUWZ6RyKOofz"
      }
    },
    {
      "cell_type": "code",
      "source": [
        "def rand_policy_agent(observation):\n",
        "    return random.randint(0, 1)"
      ],
      "metadata": {
        "id": "wEhXJSaYOrVL"
      },
      "execution_count": 19,
      "outputs": []
    },
    {
      "cell_type": "markdown",
      "source": [
        "For the Reinforcement Learning (RL) agent, our team decides to go with **Deep Q-Network (DQN)** to balance the pole on the cart.\n",
        "\n",
        "1. First, let us define the *DQN Model*.\n",
        "\n",
        "  *   We define a contructor method to create two hidden layers (fc1 and fc2) with 256 neurons each, followed by one output layer with action_size neurons.\n",
        "\n",
        "  *   We create a forward method to define how data flows through the network.\n",
        "\n",
        "  *   We applied *Rectified Linear Unit (ReLU)* activation function to each layer.\n",
        "\n",
        "  *   The purpose is to allow DQN model to introduce non-linearity, allowing it to learn more complex patterns.\n",
        "\n",
        "\n",
        "\n",
        "\n",
        "\n",
        "\n"
      ],
      "metadata": {
        "id": "qoObljNTfx-h"
      }
    },
    {
      "cell_type": "code",
      "source": [
        "class DQN(nn.Module):\n",
        "    def __init__(self, state_size, action_size):\n",
        "        super(DQN, self).__init__()\n",
        "        self.fc1 = nn.Linear(state_size, 256)  # First fully coonected layer\n",
        "        self.fc2 = nn.Linear(256, 256)          # Second fully connected layer\n",
        "        self.fc3 = nn.Linear(256, action_size)    # Output layer\n",
        "\n",
        "    def forward(self, x):\n",
        "        x = torch.relu(self.fc1(x)) # Apply ReLU activation to the first layer\n",
        "        x = torch.relu(self.fc2(x)) # Apply ReLU activation to the second layer\n",
        "        return self.fc3(x)  # Output the Q-values"
      ],
      "metadata": {
        "id": "pGBWlUiXgV9R"
      },
      "execution_count": 20,
      "outputs": []
    },
    {
      "cell_type": "markdown",
      "source": [
        "2. Next, we also define the *Experience Replay Buffer*.\n",
        "\n",
        "  *   This will allow the agent to sample from these experiences randomly during training.\n",
        "\n",
        "  *   This also help to break the correlation between consecutive experiences and stablilizes training.\n",
        "\n",
        "\n",
        "\n"
      ],
      "metadata": {
        "id": "ZU2ro8JPgc14"
      }
    },
    {
      "cell_type": "code",
      "source": [
        "class ReplayBuffer:\n",
        "    def __init__(self, capacity):\n",
        "        self.buffer = deque(maxlen=capacity)  # Automatically remove oldest experience if buffer is full\n",
        "\n",
        "    def push(self, state, action, reward, next_state, done):   # Add new experience tuple into the buffer\n",
        "        self.buffer.append((state, action, reward, next_state, done))\n",
        "\n",
        "    def sample(self, batch_size): #randomly sample a batch of experiences from the buffer\n",
        "        return random.sample(self.buffer, batch_size)\n",
        "\n",
        "    def __len__(self):\n",
        "        return len(self.buffer)"
      ],
      "metadata": {
        "id": "lrzbIZLsi4Kp"
      },
      "execution_count": 21,
      "outputs": []
    },
    {
      "cell_type": "markdown",
      "source": [
        "3. Next, we will set up the hyperparameters and intializes the key components of the DQN algorithm."
      ],
      "metadata": {
        "id": "s3XIoBBrjdml"
      }
    },
    {
      "cell_type": "code",
      "source": [
        "state_size = env.observation_space.shape[0] # Size of state space, i.e. 4\n",
        "print(state_size)\n",
        "action_size = env.action_space.n  # Number of possible actions, i.e. 2 (left and right)\n",
        "print(action_size)\n",
        "batch_size = 132        # The number of experiences sampled from the replay buffer for each training step\n",
        "gamma = 0.99              # Discount factor for future reward\n",
        "epsilon_start = 1.0       # Initial exploration rate\n",
        "epsilon_end = 0.01        # Minimum exploration rate\n",
        "epsilon_decay = 0.995     # Control how quickly exploration decreases\n",
        "target_update = 10        # Frequency of updating the target network\n",
        "learning_rate = 0.00025    # Lower learning rate for stability\n",
        "\n",
        "policy_net = DQN(state_size, action_size)\n",
        "target_net = DQN(state_size, action_size)\n",
        "target_net.load_state_dict(policy_net.state_dict())\n",
        "optimizer = optim.Adam(policy_net.parameters(), lr=learning_rate)\n",
        "buffer = ReplayBuffer(50000)    # Replay buffer to store experiences (capacity = 50,000)\n",
        "epsilon = epsilon_start         # Initialize exploration rate to 1.0 (100% exploration)"
      ],
      "metadata": {
        "colab": {
          "base_uri": "https://localhost:8080/"
        },
        "id": "JzuANqPSju2j",
        "outputId": "c558e030-1327-4c7f-b257-3e05cc5b3fb0"
      },
      "execution_count": 22,
      "outputs": [
        {
          "output_type": "stream",
          "name": "stdout",
          "text": [
            "4\n",
            "2\n"
          ]
        }
      ]
    },
    {
      "cell_type": "markdown",
      "source": [
        "4. We will load the saved model parameters (weights) if they exist. Else, we would need to train the model first. (refer to Training Loop)"
      ],
      "metadata": {
        "id": "GaGL3gLrGrf2"
      }
    },
    {
      "cell_type": "code",
      "source": [
        "# Load the saved model weights (if they exist)\n",
        "try:\n",
        "    policy_net.load_state_dict(torch.load(\"cartpole_dqn_final.pth\"))\n",
        "    print(\"Loaded pre-trained model!\")\n",
        "except FileNotFoundError:\n",
        "    print(\"No pre-trained model found. Training a new model.\")"
      ],
      "metadata": {
        "colab": {
          "base_uri": "https://localhost:8080/"
        },
        "id": "p5YLB1lPGqIE",
        "outputId": "2cb5100a-bca7-4f0f-8ad0-6df617e892a6"
      },
      "execution_count": 23,
      "outputs": [
        {
          "output_type": "stream",
          "name": "stdout",
          "text": [
            "Loaded pre-trained model!\n"
          ]
        }
      ]
    },
    {
      "cell_type": "markdown",
      "source": [
        "5. **Training Loop:** Once we finished the setup, we can train the agent now by interacting with the environment, collect experiences and update the neural network to improve its policy.\n",
        "\n",
        "  *   The agent is trained for 1000 episodes or until the agent solves the environment.\n",
        "\n",
        "  *   We make use of *Epsilon-greedy policy* to allow agent to explore more possible actions and states in the beginning; and exploit the best action deduced by the model as the epsilon decays at a later stage.\n",
        "\n",
        "  *   Once the replay buffer has enough experiences (i.e. 132), a batch of experiences is sampled.\n",
        "\n",
        "  *   We used Double DQN algorithm:\n",
        "    *   Policy Network: Selects the best action for the next state.\n",
        "    *   Target Network: Evaluates the Q-value for that action.\n",
        "\n",
        "  *   Epsilon will gradually decay, leading to less exploration and more exploitation by selecting action with the highest Q-values calculated by the model.\n",
        "  *   **Important notes:** Target network is updated by copying the policy network for every target_update episodes (i.e. 10 in our cases)\n",
        "\n",
        "  *   The trained model's weights are save to a file (cartpole_dqn_final.pth) for later use.\n",
        "\n",
        "\n",
        "\n",
        "\n",
        "\n",
        "\n",
        "\n",
        "\n",
        "\n",
        "\n",
        "\n",
        "\n"
      ],
      "metadata": {
        "id": "e5f9Uk-B3lMx"
      }
    },
    {
      "cell_type": "code",
      "source": [
        "episode_rewards = []          # Store the total reward for each episode\n",
        "best_reward = -float('inf')  # Tracks the best reward achieved so far\n",
        "\n",
        "for episode in range(1000):   # Train for 100 episodes OR until the agent solves the environment\n",
        "    state = env.reset()\n",
        "    total_reward = 0\n",
        "    while True:\n",
        "        # Epsilon-greedy action\n",
        "        if random.random() < epsilon:\n",
        "            action = env.action_space.sample()  # Select random action (Exploration)\n",
        "        else:\n",
        "            with torch.no_grad():\n",
        "                q_values = policy_net(torch.FloatTensor(state))\n",
        "                action = q_values.argmax().item() # Select action with highest Q-value (Exploitation)\n",
        "\n",
        "        # Take action\n",
        "        next_state, reward, done, _ = env.step(action)\n",
        "        total_reward += reward\n",
        "        buffer.push(state, action, reward, next_state, done)\n",
        "\n",
        "        # Train with Double DQN\n",
        "        if len(buffer) >= batch_size:\n",
        "            transitions = buffer.sample(batch_size)\n",
        "            states, actions, rewards, next_states, dones = zip(*transitions)\n",
        "\n",
        "            states = torch.FloatTensor(states)\n",
        "            next_states = torch.FloatTensor(next_states)\n",
        "\n",
        "            # Double DQN: Use policy net for action selection, target net for evaluation\n",
        "            current_q = policy_net(states).gather(1, torch.LongTensor(actions).unsqueeze(1))\n",
        "            next_actions = policy_net(next_states).argmax(1, keepdim=True)\n",
        "            next_q = target_net(next_states).gather(1, next_actions).detach()\n",
        "\n",
        "            target_q = torch.FloatTensor(rewards).unsqueeze(1) + gamma * next_q * (1 - torch.FloatTensor(dones).unsqueeze(1))\n",
        "\n",
        "            # Huber loss for stability\n",
        "            loss = nn.SmoothL1Loss()(current_q, target_q)\n",
        "\n",
        "            optimizer.zero_grad()\n",
        "            loss.backward()\n",
        "            # Gradient clipping to prevent explosions\n",
        "            torch.nn.utils.clip_grad_norm_(policy_net.parameters(), 1.0)\n",
        "            optimizer.step()\n",
        "\n",
        "        state = next_state\n",
        "        if done:\n",
        "            break\n",
        "\n",
        "    # Decay epsilon and update target network\n",
        "    epsilon = max(epsilon_end, epsilon * epsilon_decay)\n",
        "    if episode % target_update == 0:\n",
        "        target_net.load_state_dict(policy_net.state_dict())\n",
        "\n",
        "    episode_rewards.append(total_reward)\n",
        "    print(f\"Episode {episode}, Reward: {total_reward}, Epsilon: {epsilon:.2f}\")\n",
        "\n",
        "    # Early stopping if agent solves the environment\n",
        "    if total_reward >= 500:\n",
        "        print(\"Early stopping: Agent solved the environment!\")\n",
        "        break\n",
        "\n",
        "# Save the trained policy network\n",
        "torch.save(policy_net.state_dict(), \"cartpole_dqn_final.pth\")"
      ],
      "metadata": {
        "colab": {
          "base_uri": "https://localhost:8080/"
        },
        "id": "YrNzO-9V33yW",
        "outputId": "018ff003-c060-4c87-fad6-893aca4f1e49"
      },
      "execution_count": 24,
      "outputs": [
        {
          "output_type": "stream",
          "name": "stdout",
          "text": [
            "Episode 0, Reward: 14.0, Epsilon: 0.99\n",
            "Episode 1, Reward: 21.0, Epsilon: 0.99\n",
            "Episode 2, Reward: 10.0, Epsilon: 0.99\n",
            "Episode 3, Reward: 22.0, Epsilon: 0.98\n",
            "Episode 4, Reward: 17.0, Epsilon: 0.98\n",
            "Episode 5, Reward: 10.0, Epsilon: 0.97\n",
            "Episode 6, Reward: 15.0, Epsilon: 0.97\n",
            "Episode 7, Reward: 18.0, Epsilon: 0.96\n"
          ]
        },
        {
          "output_type": "stream",
          "name": "stderr",
          "text": [
            "<ipython-input-24-0c1b6a172cc5>:26: UserWarning: Creating a tensor from a list of numpy.ndarrays is extremely slow. Please consider converting the list to a single numpy.ndarray with numpy.array() before converting to a tensor. (Triggered internally at /pytorch/torch/csrc/utils/tensor_new.cpp:254.)\n",
            "  states = torch.FloatTensor(states)\n"
          ]
        },
        {
          "output_type": "stream",
          "name": "stdout",
          "text": [
            "Episode 8, Reward: 22.0, Epsilon: 0.96\n",
            "Episode 9, Reward: 9.0, Epsilon: 0.95\n",
            "Episode 10, Reward: 33.0, Epsilon: 0.95\n",
            "Episode 11, Reward: 25.0, Epsilon: 0.94\n",
            "Episode 12, Reward: 27.0, Epsilon: 0.94\n",
            "Episode 13, Reward: 8.0, Epsilon: 0.93\n",
            "Episode 14, Reward: 17.0, Epsilon: 0.93\n",
            "Episode 15, Reward: 13.0, Epsilon: 0.92\n",
            "Episode 16, Reward: 23.0, Epsilon: 0.92\n",
            "Episode 17, Reward: 16.0, Epsilon: 0.91\n",
            "Episode 18, Reward: 24.0, Epsilon: 0.91\n",
            "Episode 19, Reward: 24.0, Epsilon: 0.90\n",
            "Episode 20, Reward: 27.0, Epsilon: 0.90\n",
            "Episode 21, Reward: 15.0, Epsilon: 0.90\n",
            "Episode 22, Reward: 14.0, Epsilon: 0.89\n",
            "Episode 23, Reward: 51.0, Epsilon: 0.89\n",
            "Episode 24, Reward: 16.0, Epsilon: 0.88\n",
            "Episode 25, Reward: 30.0, Epsilon: 0.88\n",
            "Episode 26, Reward: 24.0, Epsilon: 0.87\n",
            "Episode 27, Reward: 22.0, Epsilon: 0.87\n",
            "Episode 28, Reward: 20.0, Epsilon: 0.86\n",
            "Episode 29, Reward: 12.0, Epsilon: 0.86\n",
            "Episode 30, Reward: 29.0, Epsilon: 0.86\n",
            "Episode 31, Reward: 26.0, Epsilon: 0.85\n",
            "Episode 32, Reward: 93.0, Epsilon: 0.85\n",
            "Episode 33, Reward: 26.0, Epsilon: 0.84\n",
            "Episode 34, Reward: 18.0, Epsilon: 0.84\n",
            "Episode 35, Reward: 17.0, Epsilon: 0.83\n",
            "Episode 36, Reward: 19.0, Epsilon: 0.83\n",
            "Episode 37, Reward: 27.0, Epsilon: 0.83\n",
            "Episode 38, Reward: 51.0, Epsilon: 0.82\n",
            "Episode 39, Reward: 33.0, Epsilon: 0.82\n",
            "Episode 40, Reward: 30.0, Epsilon: 0.81\n",
            "Episode 41, Reward: 12.0, Epsilon: 0.81\n",
            "Episode 42, Reward: 26.0, Epsilon: 0.81\n",
            "Episode 43, Reward: 19.0, Epsilon: 0.80\n",
            "Episode 44, Reward: 15.0, Epsilon: 0.80\n",
            "Episode 45, Reward: 35.0, Epsilon: 0.79\n",
            "Episode 46, Reward: 16.0, Epsilon: 0.79\n",
            "Episode 47, Reward: 23.0, Epsilon: 0.79\n",
            "Episode 48, Reward: 11.0, Epsilon: 0.78\n",
            "Episode 49, Reward: 63.0, Epsilon: 0.78\n",
            "Episode 50, Reward: 57.0, Epsilon: 0.77\n",
            "Episode 51, Reward: 23.0, Epsilon: 0.77\n",
            "Episode 52, Reward: 38.0, Epsilon: 0.77\n",
            "Episode 53, Reward: 19.0, Epsilon: 0.76\n",
            "Episode 54, Reward: 26.0, Epsilon: 0.76\n",
            "Episode 55, Reward: 20.0, Epsilon: 0.76\n",
            "Episode 56, Reward: 31.0, Epsilon: 0.75\n",
            "Episode 57, Reward: 38.0, Epsilon: 0.75\n",
            "Episode 58, Reward: 27.0, Epsilon: 0.74\n",
            "Episode 59, Reward: 14.0, Epsilon: 0.74\n",
            "Episode 60, Reward: 56.0, Epsilon: 0.74\n",
            "Episode 61, Reward: 27.0, Epsilon: 0.73\n",
            "Episode 62, Reward: 37.0, Epsilon: 0.73\n",
            "Episode 63, Reward: 23.0, Epsilon: 0.73\n",
            "Episode 64, Reward: 16.0, Epsilon: 0.72\n",
            "Episode 65, Reward: 61.0, Epsilon: 0.72\n",
            "Episode 66, Reward: 24.0, Epsilon: 0.71\n",
            "Episode 67, Reward: 121.0, Epsilon: 0.71\n",
            "Episode 68, Reward: 64.0, Epsilon: 0.71\n",
            "Episode 69, Reward: 19.0, Epsilon: 0.70\n",
            "Episode 70, Reward: 17.0, Epsilon: 0.70\n",
            "Episode 71, Reward: 19.0, Epsilon: 0.70\n",
            "Episode 72, Reward: 16.0, Epsilon: 0.69\n",
            "Episode 73, Reward: 12.0, Epsilon: 0.69\n",
            "Episode 74, Reward: 24.0, Epsilon: 0.69\n",
            "Episode 75, Reward: 18.0, Epsilon: 0.68\n",
            "Episode 76, Reward: 12.0, Epsilon: 0.68\n",
            "Episode 77, Reward: 13.0, Epsilon: 0.68\n",
            "Episode 78, Reward: 60.0, Epsilon: 0.67\n",
            "Episode 79, Reward: 67.0, Epsilon: 0.67\n",
            "Episode 80, Reward: 9.0, Epsilon: 0.67\n",
            "Episode 81, Reward: 21.0, Epsilon: 0.66\n",
            "Episode 82, Reward: 29.0, Epsilon: 0.66\n",
            "Episode 83, Reward: 14.0, Epsilon: 0.66\n",
            "Episode 84, Reward: 14.0, Epsilon: 0.65\n",
            "Episode 85, Reward: 40.0, Epsilon: 0.65\n",
            "Episode 86, Reward: 12.0, Epsilon: 0.65\n",
            "Episode 87, Reward: 28.0, Epsilon: 0.64\n",
            "Episode 88, Reward: 13.0, Epsilon: 0.64\n",
            "Episode 89, Reward: 11.0, Epsilon: 0.64\n",
            "Episode 90, Reward: 16.0, Epsilon: 0.63\n",
            "Episode 91, Reward: 63.0, Epsilon: 0.63\n",
            "Episode 92, Reward: 49.0, Epsilon: 0.63\n",
            "Episode 93, Reward: 43.0, Epsilon: 0.62\n",
            "Episode 94, Reward: 48.0, Epsilon: 0.62\n",
            "Episode 95, Reward: 27.0, Epsilon: 0.62\n",
            "Episode 96, Reward: 27.0, Epsilon: 0.61\n",
            "Episode 97, Reward: 24.0, Epsilon: 0.61\n",
            "Episode 98, Reward: 10.0, Epsilon: 0.61\n",
            "Episode 99, Reward: 16.0, Epsilon: 0.61\n",
            "Episode 100, Reward: 15.0, Epsilon: 0.60\n",
            "Episode 101, Reward: 34.0, Epsilon: 0.60\n",
            "Episode 102, Reward: 37.0, Epsilon: 0.60\n",
            "Episode 103, Reward: 22.0, Epsilon: 0.59\n",
            "Episode 104, Reward: 24.0, Epsilon: 0.59\n",
            "Episode 105, Reward: 10.0, Epsilon: 0.59\n",
            "Episode 106, Reward: 20.0, Epsilon: 0.58\n",
            "Episode 107, Reward: 14.0, Epsilon: 0.58\n",
            "Episode 108, Reward: 26.0, Epsilon: 0.58\n",
            "Episode 109, Reward: 40.0, Epsilon: 0.58\n",
            "Episode 110, Reward: 51.0, Epsilon: 0.57\n",
            "Episode 111, Reward: 58.0, Epsilon: 0.57\n",
            "Episode 112, Reward: 18.0, Epsilon: 0.57\n",
            "Episode 113, Reward: 10.0, Epsilon: 0.56\n",
            "Episode 114, Reward: 14.0, Epsilon: 0.56\n",
            "Episode 115, Reward: 12.0, Epsilon: 0.56\n",
            "Episode 116, Reward: 21.0, Epsilon: 0.56\n",
            "Episode 117, Reward: 30.0, Epsilon: 0.55\n",
            "Episode 118, Reward: 25.0, Epsilon: 0.55\n",
            "Episode 119, Reward: 52.0, Epsilon: 0.55\n",
            "Episode 120, Reward: 10.0, Epsilon: 0.55\n",
            "Episode 121, Reward: 45.0, Epsilon: 0.54\n",
            "Episode 122, Reward: 97.0, Epsilon: 0.54\n",
            "Episode 123, Reward: 35.0, Epsilon: 0.54\n",
            "Episode 124, Reward: 12.0, Epsilon: 0.53\n",
            "Episode 125, Reward: 23.0, Epsilon: 0.53\n",
            "Episode 126, Reward: 33.0, Epsilon: 0.53\n",
            "Episode 127, Reward: 41.0, Epsilon: 0.53\n",
            "Episode 128, Reward: 15.0, Epsilon: 0.52\n",
            "Episode 129, Reward: 92.0, Epsilon: 0.52\n",
            "Episode 130, Reward: 98.0, Epsilon: 0.52\n",
            "Episode 131, Reward: 21.0, Epsilon: 0.52\n",
            "Episode 132, Reward: 17.0, Epsilon: 0.51\n",
            "Episode 133, Reward: 26.0, Epsilon: 0.51\n",
            "Episode 134, Reward: 24.0, Epsilon: 0.51\n",
            "Episode 135, Reward: 20.0, Epsilon: 0.51\n",
            "Episode 136, Reward: 25.0, Epsilon: 0.50\n",
            "Episode 137, Reward: 14.0, Epsilon: 0.50\n",
            "Episode 138, Reward: 27.0, Epsilon: 0.50\n",
            "Episode 139, Reward: 53.0, Epsilon: 0.50\n",
            "Episode 140, Reward: 17.0, Epsilon: 0.49\n",
            "Episode 141, Reward: 106.0, Epsilon: 0.49\n",
            "Episode 142, Reward: 20.0, Epsilon: 0.49\n",
            "Episode 143, Reward: 65.0, Epsilon: 0.49\n",
            "Episode 144, Reward: 37.0, Epsilon: 0.48\n",
            "Episode 145, Reward: 65.0, Epsilon: 0.48\n",
            "Episode 146, Reward: 67.0, Epsilon: 0.48\n",
            "Episode 147, Reward: 15.0, Epsilon: 0.48\n",
            "Episode 148, Reward: 12.0, Epsilon: 0.47\n",
            "Episode 149, Reward: 54.0, Epsilon: 0.47\n",
            "Episode 150, Reward: 28.0, Epsilon: 0.47\n",
            "Episode 151, Reward: 49.0, Epsilon: 0.47\n",
            "Episode 152, Reward: 21.0, Epsilon: 0.46\n",
            "Episode 153, Reward: 32.0, Epsilon: 0.46\n",
            "Episode 154, Reward: 11.0, Epsilon: 0.46\n",
            "Episode 155, Reward: 75.0, Epsilon: 0.46\n",
            "Episode 156, Reward: 15.0, Epsilon: 0.46\n",
            "Episode 157, Reward: 16.0, Epsilon: 0.45\n",
            "Episode 158, Reward: 20.0, Epsilon: 0.45\n",
            "Episode 159, Reward: 20.0, Epsilon: 0.45\n",
            "Episode 160, Reward: 118.0, Epsilon: 0.45\n",
            "Episode 161, Reward: 18.0, Epsilon: 0.44\n",
            "Episode 162, Reward: 17.0, Epsilon: 0.44\n",
            "Episode 163, Reward: 33.0, Epsilon: 0.44\n",
            "Episode 164, Reward: 102.0, Epsilon: 0.44\n",
            "Episode 165, Reward: 164.0, Epsilon: 0.44\n",
            "Episode 166, Reward: 13.0, Epsilon: 0.43\n",
            "Episode 167, Reward: 90.0, Epsilon: 0.43\n",
            "Episode 168, Reward: 12.0, Epsilon: 0.43\n",
            "Episode 169, Reward: 141.0, Epsilon: 0.43\n",
            "Episode 170, Reward: 27.0, Epsilon: 0.42\n",
            "Episode 171, Reward: 92.0, Epsilon: 0.42\n",
            "Episode 172, Reward: 11.0, Epsilon: 0.42\n",
            "Episode 173, Reward: 41.0, Epsilon: 0.42\n",
            "Episode 174, Reward: 167.0, Epsilon: 0.42\n",
            "Episode 175, Reward: 58.0, Epsilon: 0.41\n",
            "Episode 176, Reward: 120.0, Epsilon: 0.41\n",
            "Episode 177, Reward: 60.0, Epsilon: 0.41\n",
            "Episode 178, Reward: 19.0, Epsilon: 0.41\n",
            "Episode 179, Reward: 26.0, Epsilon: 0.41\n",
            "Episode 180, Reward: 52.0, Epsilon: 0.40\n",
            "Episode 181, Reward: 35.0, Epsilon: 0.40\n",
            "Episode 182, Reward: 190.0, Epsilon: 0.40\n",
            "Episode 183, Reward: 150.0, Epsilon: 0.40\n",
            "Episode 184, Reward: 13.0, Epsilon: 0.40\n",
            "Episode 185, Reward: 24.0, Epsilon: 0.39\n",
            "Episode 186, Reward: 181.0, Epsilon: 0.39\n",
            "Episode 187, Reward: 130.0, Epsilon: 0.39\n",
            "Episode 188, Reward: 82.0, Epsilon: 0.39\n",
            "Episode 189, Reward: 16.0, Epsilon: 0.39\n",
            "Episode 190, Reward: 62.0, Epsilon: 0.38\n",
            "Episode 191, Reward: 39.0, Epsilon: 0.38\n",
            "Episode 192, Reward: 53.0, Epsilon: 0.38\n",
            "Episode 193, Reward: 15.0, Epsilon: 0.38\n",
            "Episode 194, Reward: 22.0, Epsilon: 0.38\n",
            "Episode 195, Reward: 58.0, Epsilon: 0.37\n",
            "Episode 196, Reward: 75.0, Epsilon: 0.37\n",
            "Episode 197, Reward: 62.0, Epsilon: 0.37\n",
            "Episode 198, Reward: 38.0, Epsilon: 0.37\n",
            "Episode 199, Reward: 19.0, Epsilon: 0.37\n",
            "Episode 200, Reward: 117.0, Epsilon: 0.37\n",
            "Episode 201, Reward: 110.0, Epsilon: 0.36\n",
            "Episode 202, Reward: 100.0, Epsilon: 0.36\n",
            "Episode 203, Reward: 11.0, Epsilon: 0.36\n",
            "Episode 204, Reward: 14.0, Epsilon: 0.36\n",
            "Episode 205, Reward: 71.0, Epsilon: 0.36\n",
            "Episode 206, Reward: 23.0, Epsilon: 0.35\n",
            "Episode 207, Reward: 194.0, Epsilon: 0.35\n",
            "Episode 208, Reward: 185.0, Epsilon: 0.35\n",
            "Episode 209, Reward: 25.0, Epsilon: 0.35\n",
            "Episode 210, Reward: 120.0, Epsilon: 0.35\n",
            "Episode 211, Reward: 118.0, Epsilon: 0.35\n",
            "Episode 212, Reward: 196.0, Epsilon: 0.34\n",
            "Episode 213, Reward: 12.0, Epsilon: 0.34\n",
            "Episode 214, Reward: 40.0, Epsilon: 0.34\n",
            "Episode 215, Reward: 11.0, Epsilon: 0.34\n",
            "Episode 216, Reward: 39.0, Epsilon: 0.34\n",
            "Episode 217, Reward: 46.0, Epsilon: 0.34\n",
            "Episode 218, Reward: 14.0, Epsilon: 0.33\n",
            "Episode 219, Reward: 51.0, Epsilon: 0.33\n",
            "Episode 220, Reward: 16.0, Epsilon: 0.33\n",
            "Episode 221, Reward: 194.0, Epsilon: 0.33\n",
            "Episode 222, Reward: 24.0, Epsilon: 0.33\n",
            "Episode 223, Reward: 18.0, Epsilon: 0.33\n",
            "Episode 224, Reward: 65.0, Epsilon: 0.32\n",
            "Episode 225, Reward: 85.0, Epsilon: 0.32\n",
            "Episode 226, Reward: 26.0, Epsilon: 0.32\n",
            "Episode 227, Reward: 53.0, Epsilon: 0.32\n",
            "Episode 228, Reward: 137.0, Epsilon: 0.32\n",
            "Episode 229, Reward: 16.0, Epsilon: 0.32\n",
            "Episode 230, Reward: 145.0, Epsilon: 0.31\n",
            "Episode 231, Reward: 61.0, Epsilon: 0.31\n",
            "Episode 232, Reward: 37.0, Epsilon: 0.31\n",
            "Episode 233, Reward: 146.0, Epsilon: 0.31\n",
            "Episode 234, Reward: 75.0, Epsilon: 0.31\n",
            "Episode 235, Reward: 26.0, Epsilon: 0.31\n",
            "Episode 236, Reward: 38.0, Epsilon: 0.30\n",
            "Episode 237, Reward: 210.0, Epsilon: 0.30\n",
            "Episode 238, Reward: 35.0, Epsilon: 0.30\n",
            "Episode 239, Reward: 11.0, Epsilon: 0.30\n",
            "Episode 240, Reward: 279.0, Epsilon: 0.30\n",
            "Episode 241, Reward: 100.0, Epsilon: 0.30\n",
            "Episode 242, Reward: 33.0, Epsilon: 0.30\n",
            "Episode 243, Reward: 15.0, Epsilon: 0.29\n",
            "Episode 244, Reward: 97.0, Epsilon: 0.29\n",
            "Episode 245, Reward: 156.0, Epsilon: 0.29\n",
            "Episode 246, Reward: 121.0, Epsilon: 0.29\n",
            "Episode 247, Reward: 31.0, Epsilon: 0.29\n",
            "Episode 248, Reward: 73.0, Epsilon: 0.29\n",
            "Episode 249, Reward: 181.0, Epsilon: 0.29\n",
            "Episode 250, Reward: 97.0, Epsilon: 0.28\n",
            "Episode 251, Reward: 160.0, Epsilon: 0.28\n",
            "Episode 252, Reward: 155.0, Epsilon: 0.28\n",
            "Episode 253, Reward: 39.0, Epsilon: 0.28\n",
            "Episode 254, Reward: 113.0, Epsilon: 0.28\n",
            "Episode 255, Reward: 172.0, Epsilon: 0.28\n",
            "Episode 256, Reward: 115.0, Epsilon: 0.28\n",
            "Episode 257, Reward: 44.0, Epsilon: 0.27\n",
            "Episode 258, Reward: 141.0, Epsilon: 0.27\n",
            "Episode 259, Reward: 18.0, Epsilon: 0.27\n",
            "Episode 260, Reward: 138.0, Epsilon: 0.27\n",
            "Episode 261, Reward: 53.0, Epsilon: 0.27\n",
            "Episode 262, Reward: 18.0, Epsilon: 0.27\n",
            "Episode 263, Reward: 54.0, Epsilon: 0.27\n",
            "Episode 264, Reward: 171.0, Epsilon: 0.26\n",
            "Episode 265, Reward: 41.0, Epsilon: 0.26\n",
            "Episode 266, Reward: 157.0, Epsilon: 0.26\n",
            "Episode 267, Reward: 171.0, Epsilon: 0.26\n",
            "Episode 268, Reward: 111.0, Epsilon: 0.26\n",
            "Episode 269, Reward: 153.0, Epsilon: 0.26\n",
            "Episode 270, Reward: 141.0, Epsilon: 0.26\n",
            "Episode 271, Reward: 29.0, Epsilon: 0.26\n",
            "Episode 272, Reward: 93.0, Epsilon: 0.25\n",
            "Episode 273, Reward: 176.0, Epsilon: 0.25\n",
            "Episode 274, Reward: 63.0, Epsilon: 0.25\n",
            "Episode 275, Reward: 71.0, Epsilon: 0.25\n",
            "Episode 276, Reward: 66.0, Epsilon: 0.25\n",
            "Episode 277, Reward: 64.0, Epsilon: 0.25\n",
            "Episode 278, Reward: 16.0, Epsilon: 0.25\n",
            "Episode 279, Reward: 209.0, Epsilon: 0.25\n",
            "Episode 280, Reward: 132.0, Epsilon: 0.24\n",
            "Episode 281, Reward: 146.0, Epsilon: 0.24\n",
            "Episode 282, Reward: 41.0, Epsilon: 0.24\n",
            "Episode 283, Reward: 120.0, Epsilon: 0.24\n",
            "Episode 284, Reward: 186.0, Epsilon: 0.24\n",
            "Episode 285, Reward: 50.0, Epsilon: 0.24\n",
            "Episode 286, Reward: 10.0, Epsilon: 0.24\n",
            "Episode 287, Reward: 155.0, Epsilon: 0.24\n",
            "Episode 288, Reward: 176.0, Epsilon: 0.23\n",
            "Episode 289, Reward: 11.0, Epsilon: 0.23\n",
            "Episode 290, Reward: 224.0, Epsilon: 0.23\n",
            "Episode 291, Reward: 22.0, Epsilon: 0.23\n",
            "Episode 292, Reward: 119.0, Epsilon: 0.23\n",
            "Episode 293, Reward: 20.0, Epsilon: 0.23\n",
            "Episode 294, Reward: 173.0, Epsilon: 0.23\n",
            "Episode 295, Reward: 47.0, Epsilon: 0.23\n",
            "Episode 296, Reward: 187.0, Epsilon: 0.23\n",
            "Episode 297, Reward: 133.0, Epsilon: 0.22\n",
            "Episode 298, Reward: 15.0, Epsilon: 0.22\n",
            "Episode 299, Reward: 10.0, Epsilon: 0.22\n",
            "Episode 300, Reward: 213.0, Epsilon: 0.22\n",
            "Episode 301, Reward: 14.0, Epsilon: 0.22\n",
            "Episode 302, Reward: 18.0, Epsilon: 0.22\n",
            "Episode 303, Reward: 13.0, Epsilon: 0.22\n",
            "Episode 304, Reward: 43.0, Epsilon: 0.22\n",
            "Episode 305, Reward: 148.0, Epsilon: 0.22\n",
            "Episode 306, Reward: 140.0, Epsilon: 0.21\n",
            "Episode 307, Reward: 246.0, Epsilon: 0.21\n",
            "Episode 308, Reward: 146.0, Epsilon: 0.21\n",
            "Episode 309, Reward: 27.0, Epsilon: 0.21\n",
            "Episode 310, Reward: 95.0, Epsilon: 0.21\n",
            "Episode 311, Reward: 13.0, Epsilon: 0.21\n",
            "Episode 312, Reward: 11.0, Epsilon: 0.21\n",
            "Episode 313, Reward: 167.0, Epsilon: 0.21\n",
            "Episode 314, Reward: 132.0, Epsilon: 0.21\n",
            "Episode 315, Reward: 13.0, Epsilon: 0.21\n",
            "Episode 316, Reward: 89.0, Epsilon: 0.20\n",
            "Episode 317, Reward: 216.0, Epsilon: 0.20\n",
            "Episode 318, Reward: 62.0, Epsilon: 0.20\n",
            "Episode 319, Reward: 63.0, Epsilon: 0.20\n",
            "Episode 320, Reward: 218.0, Epsilon: 0.20\n",
            "Episode 321, Reward: 146.0, Epsilon: 0.20\n",
            "Episode 322, Reward: 14.0, Epsilon: 0.20\n",
            "Episode 323, Reward: 269.0, Epsilon: 0.20\n",
            "Episode 324, Reward: 15.0, Epsilon: 0.20\n",
            "Episode 325, Reward: 169.0, Epsilon: 0.20\n",
            "Episode 326, Reward: 287.0, Epsilon: 0.19\n",
            "Episode 327, Reward: 12.0, Epsilon: 0.19\n",
            "Episode 328, Reward: 104.0, Epsilon: 0.19\n",
            "Episode 329, Reward: 334.0, Epsilon: 0.19\n",
            "Episode 330, Reward: 15.0, Epsilon: 0.19\n",
            "Episode 331, Reward: 500.0, Epsilon: 0.19\n",
            "Early stopping: Agent solved the environment!\n"
          ]
        }
      ]
    },
    {
      "cell_type": "code",
      "source": [
        "from google.colab import files\n",
        "files.download(\"cartpole_dqn_final.pth\")"
      ],
      "metadata": {
        "colab": {
          "base_uri": "https://localhost:8080/",
          "height": 17
        },
        "id": "fwx03uHrJwJc",
        "outputId": "4e67f9e1-defb-4aa6-f0b9-0f04eaf059ee"
      },
      "execution_count": 25,
      "outputs": [
        {
          "output_type": "display_data",
          "data": {
            "text/plain": [
              "<IPython.core.display.Javascript object>"
            ],
            "application/javascript": [
              "\n",
              "    async function download(id, filename, size) {\n",
              "      if (!google.colab.kernel.accessAllowed) {\n",
              "        return;\n",
              "      }\n",
              "      const div = document.createElement('div');\n",
              "      const label = document.createElement('label');\n",
              "      label.textContent = `Downloading \"${filename}\": `;\n",
              "      div.appendChild(label);\n",
              "      const progress = document.createElement('progress');\n",
              "      progress.max = size;\n",
              "      div.appendChild(progress);\n",
              "      document.body.appendChild(div);\n",
              "\n",
              "      const buffers = [];\n",
              "      let downloaded = 0;\n",
              "\n",
              "      const channel = await google.colab.kernel.comms.open(id);\n",
              "      // Send a message to notify the kernel that we're ready.\n",
              "      channel.send({})\n",
              "\n",
              "      for await (const message of channel.messages) {\n",
              "        // Send a message to notify the kernel that we're ready.\n",
              "        channel.send({})\n",
              "        if (message.buffers) {\n",
              "          for (const buffer of message.buffers) {\n",
              "            buffers.push(buffer);\n",
              "            downloaded += buffer.byteLength;\n",
              "            progress.value = downloaded;\n",
              "          }\n",
              "        }\n",
              "      }\n",
              "      const blob = new Blob(buffers, {type: 'application/binary'});\n",
              "      const a = document.createElement('a');\n",
              "      a.href = window.URL.createObjectURL(blob);\n",
              "      a.download = filename;\n",
              "      div.appendChild(a);\n",
              "      a.click();\n",
              "      div.remove();\n",
              "    }\n",
              "  "
            ]
          },
          "metadata": {}
        },
        {
          "output_type": "display_data",
          "data": {
            "text/plain": [
              "<IPython.core.display.Javascript object>"
            ],
            "application/javascript": [
              "download(\"download_d72d7be5-f2d8-4c21-9dfe-b46e9fc8e2d4\", \"cartpole_dqn_final.pth\", 273078)"
            ]
          },
          "metadata": {}
        }
      ]
    },
    {
      "cell_type": "markdown",
      "source": [
        "6. After training with the environment, we can demonstrate that the agent can take a state (observation) from the environment and output a valid action."
      ],
      "metadata": {
        "id": "qiCtwboq5PVM"
      }
    },
    {
      "cell_type": "code",
      "source": [
        "# Load trained policy_net (after training)\n",
        "state = env.reset()\n",
        "with torch.no_grad():\n",
        "    q_values = policy_net(torch.FloatTensor(state))\n",
        "    action = q_values.argmax().item()\n",
        "print(\"Observation:\", state)\n",
        "print(\"Chosen action:\", action)"
      ],
      "metadata": {
        "colab": {
          "base_uri": "https://localhost:8080/"
        },
        "id": "bEITHV_65Nzo",
        "outputId": "f450834e-7da3-40ef-8035-6366e269b927"
      },
      "execution_count": 27,
      "outputs": [
        {
          "output_type": "stream",
          "name": "stdout",
          "text": [
            "Observation: [-2.7300822e-02 -3.3215966e-04 -2.7469736e-02  6.7900153e-05]\n",
            "Chosen action: 1\n"
          ]
        }
      ]
    },
    {
      "cell_type": "markdown",
      "source": [
        "## Task 2: Demonstrate the effectiveness of the RL agent"
      ],
      "metadata": {
        "id": "EXO0ZqPJ55yN"
      }
    },
    {
      "cell_type": "markdown",
      "source": [
        "Once the RL agent is ready, we run the agent against 100 episodes and track the cumulative reward for each episode.\n",
        "\n",
        "Then, we plot the result to visualize the agent's performance over the 100 episodes."
      ],
      "metadata": {
        "id": "GtElKt4x8TGA"
      }
    },
    {
      "cell_type": "code",
      "source": [
        "episode_results = []\n",
        "for _ in range(100):\n",
        "    state = env.reset()\n",
        "    total_reward = 0\n",
        "    while True:\n",
        "        with torch.no_grad():\n",
        "            q_values = policy_net(torch.FloatTensor(state))\n",
        "            action = q_values.argmax().item()\n",
        "        state, reward, done, _ = env.step(action)\n",
        "        total_reward += reward\n",
        "        if done:\n",
        "            break\n",
        "    episode_results.append(total_reward)\n",
        "\n",
        "plt.plot(episode_results)\n",
        "plt.title('Cumulative Reward for Each Episode')\n",
        "plt.ylabel('Cumulative Reward')\n",
        "plt.xlabel('Episode')\n",
        "plt.show()\n",
        "\n",
        "average_reward = np.mean(episode_results)\n",
        "print(f\"Average cumulative reward: {average_reward:.2f}\")\n",
        "print(\"Is my agent good enough?\", average_reward > 195)"
      ],
      "metadata": {
        "colab": {
          "base_uri": "https://localhost:8080/",
          "height": 506
        },
        "id": "LI6356Eu5-xU",
        "outputId": "135a5166-6bb1-4e0f-ec0d-81dc3ba28d5d"
      },
      "execution_count": 28,
      "outputs": [
        {
          "output_type": "display_data",
          "data": {
            "text/plain": [
              "<Figure size 640x480 with 1 Axes>"
            ],
            "image/png": "[encoded data removed]"
          },
          "metadata": {}
        },
        {
          "output_type": "stream",
          "name": "stdout",
          "text": [
            "Average cumulative reward: 458.23\n",
            "Is my agent good enough? True\n"
          ]
        }
      ]
    },
    {
      "cell_type": "markdown",
      "source": [
        "As stated above, we noticed the average cumulative reward is 338.17.\n",
        "\n",
        "Since it is above 195, it indicates that our team's agent is good enough to solve the environment, that is to balance the pole on th cart."
      ],
      "metadata": {
        "id": "db-Apwu08vhj"
      }
    },
    {
      "cell_type": "markdown",
      "source": [
        "## Task 3: Render one episode played by the agent"
      ],
      "metadata": {
        "id": "Yg0DCT38lFA6"
      }
    },
    {
      "cell_type": "markdown",
      "source": [
        "Finally, we plug our agent to the code below to obtain rendered result."
      ],
      "metadata": {
        "id": "vx1awMr9lc_w"
      }
    },
    {
      "cell_type": "code",
      "source": [
        "\n",
        "policy_net.eval()  # Set network to evaluation mode\n",
        "\n",
        "# Create environment with video recording\n",
        "env = RecordVideo(gym.make(\"CartPole-v1\"), \"./video\")\n",
        "observation = env.reset()\n",
        "\n",
        "while True:\n",
        "    # Get action from trained agent\n",
        "    with torch.no_grad():\n",
        "        q_values = policy_net(torch.FloatTensor(observation))\n",
        "        action = q_values.argmax().item()\n",
        "\n",
        "    # Take the chosen action\n",
        "    observation, reward, done, info = env.step(action)\n",
        "\n",
        "    if done:\n",
        "        break\n",
        "\n",
        "env.close()\n",
        "show_video()"
      ],
      "metadata": {
        "colab": {
          "base_uri": "https://localhost:8080/",
          "height": 452
        },
        "id": "LYyavfbIa47D",
        "outputId": "ee3cdf61-6bd6-4fc7-e8cc-f6d888e446f6"
      },
      "execution_count": 30,
      "outputs": [
        {
          "output_type": "error",
          "ename": "AttributeError",
          "evalue": "module 'numpy' has no attribute 'bool8'",
          "traceback": [
            "\u001b[0;31m---------------------------------------------------------------------------\u001b[0m",
            "\u001b[0;31mAttributeError\u001b[0m                            Traceback (most recent call last)",
            "\u001b[0;32m<ipython-input-30-2737e9633f65>\u001b[0m in \u001b[0;36m<cell line: 0>\u001b[0;34m()\u001b[0m\n\u001b[1;32m     12\u001b[0m \u001b[0;34m\u001b[0m\u001b[0m\n\u001b[1;32m     13\u001b[0m     \u001b[0;31m# Take the chosen action\u001b[0m\u001b[0;34m\u001b[0m\u001b[0;34m\u001b[0m\u001b[0m\n\u001b[0;32m---> 14\u001b[0;31m     \u001b[0mobservation\u001b[0m\u001b[0;34m,\u001b[0m \u001b[0mreward\u001b[0m\u001b[0;34m,\u001b[0m \u001b[0mdone\u001b[0m\u001b[0;34m,\u001b[0m \u001b[0minfo\u001b[0m \u001b[0;34m=\u001b[0m \u001b[0menv\u001b[0m\u001b[0;34m.\u001b[0m\u001b[0mstep\u001b[0m\u001b[0;34m(\u001b[0m\u001b[0maction\u001b[0m\u001b[0;34m)\u001b[0m\u001b[0;34m\u001b[0m\u001b[0;34m\u001b[0m\u001b[0m\n\u001b[0m\u001b[1;32m     15\u001b[0m \u001b[0;34m\u001b[0m\u001b[0m\n\u001b[1;32m     16\u001b[0m     \u001b[0;32mif\u001b[0m \u001b[0mdone\u001b[0m\u001b[0;34m:\u001b[0m\u001b[0;34m\u001b[0m\u001b[0;34m\u001b[0m\u001b[0m\n",
            "\u001b[0;32m/usr/local/lib/python3.11/dist-packages/gym/wrappers/record_video.py\u001b[0m in \u001b[0;36mstep\u001b[0;34m(self, action)\u001b[0m\n\u001b[1;32m    144\u001b[0m             \u001b[0mtruncateds\u001b[0m\u001b[0;34m,\u001b[0m\u001b[0;34m\u001b[0m\u001b[0;34m\u001b[0m\u001b[0m\n\u001b[1;32m    145\u001b[0m             \u001b[0minfos\u001b[0m\u001b[0;34m,\u001b[0m\u001b[0;34m\u001b[0m\u001b[0;34m\u001b[0m\u001b[0m\n\u001b[0;32m--> 146\u001b[0;31m         ) = step_api_compatibility(self.env.step(action), True, self.is_vector_env)\n\u001b[0m\u001b[1;32m    147\u001b[0m \u001b[0;34m\u001b[0m\u001b[0m\n\u001b[1;32m    148\u001b[0m         \u001b[0;32mif\u001b[0m \u001b[0;32mnot\u001b[0m \u001b[0;34m(\u001b[0m\u001b[0mself\u001b[0m\u001b[0;34m.\u001b[0m\u001b[0mterminated\u001b[0m \u001b[0;32mor\u001b[0m \u001b[0mself\u001b[0m\u001b[0;34m.\u001b[0m\u001b[0mtruncated\u001b[0m\u001b[0;34m)\u001b[0m\u001b[0;34m:\u001b[0m\u001b[0;34m\u001b[0m\u001b[0;34m\u001b[0m\u001b[0m\n",
            "\u001b[0;32m/usr/local/lib/python3.11/dist-packages/gym/wrappers/time_limit.py\u001b[0m in \u001b[0;36mstep\u001b[0;34m(self, action)\u001b[0m\n\u001b[1;32m     58\u001b[0m         \"\"\"\n\u001b[1;32m     59\u001b[0m         observation, reward, terminated, truncated, info = step_api_compatibility(\n\u001b[0;32m---> 60\u001b[0;31m             \u001b[0mself\u001b[0m\u001b[0;34m.\u001b[0m\u001b[0menv\u001b[0m\u001b[0;34m.\u001b[0m\u001b[0mstep\u001b[0m\u001b[0;34m(\u001b[0m\u001b[0maction\u001b[0m\u001b[0;34m)\u001b[0m\u001b[0;34m,\u001b[0m\u001b[0;34m\u001b[0m\u001b[0;34m\u001b[0m\u001b[0m\n\u001b[0m\u001b[1;32m     61\u001b[0m             \u001b[0;32mTrue\u001b[0m\u001b[0;34m,\u001b[0m\u001b[0;34m\u001b[0m\u001b[0;34m\u001b[0m\u001b[0m\n\u001b[1;32m     62\u001b[0m         )\n",
            "\u001b[0;32m/usr/local/lib/python3.11/dist-packages/gym/wrappers/order_enforcing.py\u001b[0m in \u001b[0;36mstep\u001b[0;34m(self, action)\u001b[0m\n\u001b[1;32m     35\u001b[0m         \u001b[0;32mif\u001b[0m \u001b[0;32mnot\u001b[0m \u001b[0mself\u001b[0m\u001b[0;34m.\u001b[0m\u001b[0m_has_reset\u001b[0m\u001b[0;34m:\u001b[0m\u001b[0;34m\u001b[0m\u001b[0;34m\u001b[0m\u001b[0m\n\u001b[1;32m     36\u001b[0m             \u001b[0;32mraise\u001b[0m \u001b[0mResetNeeded\u001b[0m\u001b[0;34m(\u001b[0m\u001b[0;34m\"Cannot call env.step() before calling env.reset()\"\u001b[0m\u001b[0;34m)\u001b[0m\u001b[0;34m\u001b[0m\u001b[0;34m\u001b[0m\u001b[0m\n\u001b[0;32m---> 37\u001b[0;31m         \u001b[0;32mreturn\u001b[0m \u001b[0mself\u001b[0m\u001b[0;34m.\u001b[0m\u001b[0menv\u001b[0m\u001b[0;34m.\u001b[0m\u001b[0mstep\u001b[0m\u001b[0;34m(\u001b[0m\u001b[0maction\u001b[0m\u001b[0;34m)\u001b[0m\u001b[0;34m\u001b[0m\u001b[0;34m\u001b[0m\u001b[0m\n\u001b[0m\u001b[1;32m     38\u001b[0m \u001b[0;34m\u001b[0m\u001b[0m\n\u001b[1;32m     39\u001b[0m     \u001b[0;32mdef\u001b[0m \u001b[0mreset\u001b[0m\u001b[0;34m(\u001b[0m\u001b[0mself\u001b[0m\u001b[0;34m,\u001b[0m \u001b[0;34m**\u001b[0m\u001b[0mkwargs\u001b[0m\u001b[0;34m)\u001b[0m\u001b[0;34m:\u001b[0m\u001b[0;34m\u001b[0m\u001b[0;34m\u001b[0m\u001b[0m\n",
            "\u001b[0;32m/usr/local/lib/python3.11/dist-packages/gym/wrappers/step_api_compatibility.py\u001b[0m in \u001b[0;36mstep\u001b[0;34m(self, action)\u001b[0m\n\u001b[1;32m     50\u001b[0m             \u001b[0;34m(\u001b[0m\u001b[0mobservation\u001b[0m\u001b[0;34m,\u001b[0m \u001b[0mreward\u001b[0m\u001b[0;34m,\u001b[0m \u001b[0mterminated\u001b[0m\u001b[0;34m,\u001b[0m \u001b[0mtruncated\u001b[0m\u001b[0;34m,\u001b[0m \u001b[0minfo\u001b[0m\u001b[0;34m)\u001b[0m \u001b[0;32mor\u001b[0m \u001b[0;34m(\u001b[0m\u001b[0mobservation\u001b[0m\u001b[0;34m,\u001b[0m \u001b[0mreward\u001b[0m\u001b[0;34m,\u001b[0m \u001b[0mdone\u001b[0m\u001b[0;34m,\u001b[0m \u001b[0minfo\u001b[0m\u001b[0;34m)\u001b[0m\u001b[0;34m\u001b[0m\u001b[0;34m\u001b[0m\u001b[0m\n\u001b[1;32m     51\u001b[0m         \"\"\"\n\u001b[0;32m---> 52\u001b[0;31m         \u001b[0mstep_returns\u001b[0m \u001b[0;34m=\u001b[0m \u001b[0mself\u001b[0m\u001b[0;34m.\u001b[0m\u001b[0menv\u001b[0m\u001b[0;34m.\u001b[0m\u001b[0mstep\u001b[0m\u001b[0;34m(\u001b[0m\u001b[0maction\u001b[0m\u001b[0;34m)\u001b[0m\u001b[0;34m\u001b[0m\u001b[0;34m\u001b[0m\u001b[0m\n\u001b[0m\u001b[1;32m     53\u001b[0m         \u001b[0;32mif\u001b[0m \u001b[0mself\u001b[0m\u001b[0;34m.\u001b[0m\u001b[0mnew_step_api\u001b[0m\u001b[0;34m:\u001b[0m\u001b[0;34m\u001b[0m\u001b[0;34m\u001b[0m\u001b[0m\n\u001b[1;32m     54\u001b[0m             \u001b[0;32mreturn\u001b[0m \u001b[0mstep_to_new_api\u001b[0m\u001b[0;34m(\u001b[0m\u001b[0mstep_returns\u001b[0m\u001b[0;34m)\u001b[0m\u001b[0;34m\u001b[0m\u001b[0;34m\u001b[0m\u001b[0m\n",
            "\u001b[0;32m/usr/local/lib/python3.11/dist-packages/gym/wrappers/env_checker.py\u001b[0m in \u001b[0;36mstep\u001b[0;34m(self, action)\u001b[0m\n\u001b[1;32m     35\u001b[0m         \u001b[0;32mif\u001b[0m \u001b[0mself\u001b[0m\u001b[0;34m.\u001b[0m\u001b[0mchecked_step\u001b[0m \u001b[0;32mis\u001b[0m \u001b[0;32mFalse\u001b[0m\u001b[0;34m:\u001b[0m\u001b[0;34m\u001b[0m\u001b[0;34m\u001b[0m\u001b[0m\n\u001b[1;32m     36\u001b[0m             \u001b[0mself\u001b[0m\u001b[0;34m.\u001b[0m\u001b[0mchecked_step\u001b[0m \u001b[0;34m=\u001b[0m \u001b[0;32mTrue\u001b[0m\u001b[0;34m\u001b[0m\u001b[0;34m\u001b[0m\u001b[0m\n\u001b[0;32m---> 37\u001b[0;31m             \u001b[0;32mreturn\u001b[0m \u001b[0menv_step_passive_checker\u001b[0m\u001b[0;34m(\u001b[0m\u001b[0mself\u001b[0m\u001b[0;34m.\u001b[0m\u001b[0menv\u001b[0m\u001b[0;34m,\u001b[0m \u001b[0maction\u001b[0m\u001b[0;34m)\u001b[0m\u001b[0;34m\u001b[0m\u001b[0;34m\u001b[0m\u001b[0m\n\u001b[0m\u001b[1;32m     38\u001b[0m         \u001b[0;32melse\u001b[0m\u001b[0;34m:\u001b[0m\u001b[0;34m\u001b[0m\u001b[0;34m\u001b[0m\u001b[0m\n\u001b[1;32m     39\u001b[0m             \u001b[0;32mreturn\u001b[0m \u001b[0mself\u001b[0m\u001b[0;34m.\u001b[0m\u001b[0menv\u001b[0m\u001b[0;34m.\u001b[0m\u001b[0mstep\u001b[0m\u001b[0;34m(\u001b[0m\u001b[0maction\u001b[0m\u001b[0;34m)\u001b[0m\u001b[0;34m\u001b[0m\u001b[0;34m\u001b[0m\u001b[0m\n",
            "\u001b[0;32m/usr/local/lib/python3.11/dist-packages/gym/utils/passive_env_checker.py\u001b[0m in \u001b[0;36menv_step_passive_checker\u001b[0;34m(env, action)\u001b[0m\n\u001b[1;32m    239\u001b[0m \u001b[0;34m\u001b[0m\u001b[0m\n\u001b[1;32m    240\u001b[0m         \u001b[0;31m# np.bool is actual python bool not np boolean type, therefore bool_ or bool8\u001b[0m\u001b[0;34m\u001b[0m\u001b[0;34m\u001b[0m\u001b[0m\n\u001b[0;32m--> 241\u001b[0;31m         \u001b[0;32mif\u001b[0m \u001b[0;32mnot\u001b[0m \u001b[0misinstance\u001b[0m\u001b[0;34m(\u001b[0m\u001b[0mterminated\u001b[0m\u001b[0;34m,\u001b[0m \u001b[0;34m(\u001b[0m\u001b[0mbool\u001b[0m\u001b[0;34m,\u001b[0m \u001b[0mnp\u001b[0m\u001b[0;34m.\u001b[0m\u001b[0mbool8\u001b[0m\u001b[0;34m)\u001b[0m\u001b[0;34m)\u001b[0m\u001b[0;34m:\u001b[0m\u001b[0;34m\u001b[0m\u001b[0;34m\u001b[0m\u001b[0m\n\u001b[0m\u001b[1;32m    242\u001b[0m             logger.warn(\n\u001b[1;32m    243\u001b[0m                 \u001b[0;34mf\"Expects `terminated` signal to be a boolean, actual type: {type(terminated)}\"\u001b[0m\u001b[0;34m\u001b[0m\u001b[0;34m\u001b[0m\u001b[0m\n",
            "\u001b[0;32m/usr/local/lib/python3.11/dist-packages/numpy/__init__.py\u001b[0m in \u001b[0;36m__getattr__\u001b[0;34m(attr)\u001b[0m\n\u001b[1;32m    408\u001b[0m                 \u001b[0;34m\"`np.chararray` is deprecated and will be removed from \"\u001b[0m\u001b[0;34m\u001b[0m\u001b[0;34m\u001b[0m\u001b[0m\n\u001b[1;32m    409\u001b[0m                 \u001b[0;34m\"the main namespace in the future. Use an array with a string \"\u001b[0m\u001b[0;34m\u001b[0m\u001b[0;34m\u001b[0m\u001b[0m\n\u001b[0;32m--> 410\u001b[0;31m                 \"or bytes dtype instead.\", DeprecationWarning, stacklevel=2)\n\u001b[0m\u001b[1;32m    411\u001b[0m             \u001b[0;32mimport\u001b[0m \u001b[0mnumpy\u001b[0m\u001b[0;34m.\u001b[0m\u001b[0mchar\u001b[0m \u001b[0;32mas\u001b[0m \u001b[0mchar\u001b[0m\u001b[0;34m\u001b[0m\u001b[0;34m\u001b[0m\u001b[0m\n\u001b[1;32m    412\u001b[0m             \u001b[0;32mreturn\u001b[0m \u001b[0mchar\u001b[0m\u001b[0;34m.\u001b[0m\u001b[0mchararray\u001b[0m\u001b[0;34m\u001b[0m\u001b[0;34m\u001b[0m\u001b[0m\n",
            "\u001b[0;31mAttributeError\u001b[0m: module 'numpy' has no attribute 'bool8'"
          ]
        }
      ]
    }
  ]
}